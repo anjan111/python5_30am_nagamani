{
 "cells": [
  {
   "cell_type": "code",
   "execution_count": 1,
   "metadata": {},
   "outputs": [
    {
     "name": "stdout",
     "output_type": "stream",
     "text": [
      "enter any seq : \"we9034\"\n",
      "w\n",
      "e\n",
      "9\n",
      "0\n",
      "3\n",
      "4\n",
      "no more updates\n",
      "this is out off for loop\n"
     ]
    }
   ],
   "source": [
    "# wap print the elements in any seq\n",
    "\n",
    "seq = input(\"enter any seq : \")\n",
    "for ele in seq :\n",
    "    print ele\n",
    "else:\n",
    "    print \"no more updates\"\n",
    "print \"this is out off for loop\""
   ]
  },
  {
   "cell_type": "code",
   "execution_count": 2,
   "metadata": {},
   "outputs": [
    {
     "name": "stdout",
     "output_type": "stream",
     "text": [
      "enter any seq : (3,89,23,90)\n",
      "3\n",
      "89\n",
      "23\n",
      "90\n",
      "no more updates\n",
      "this is out off for loop\n"
     ]
    }
   ],
   "source": [
    "# wap print the elements in any seq\n",
    "\n",
    "seq = input(\"enter any seq : \")\n",
    "for ele in seq :\n",
    "    print ele\n",
    "else:\n",
    "    print \"no more updates\"\n",
    "print \"this is out off for loop\""
   ]
  },
  {
   "cell_type": "code",
   "execution_count": 4,
   "metadata": {},
   "outputs": [
    {
     "name": "stdout",
     "output_type": "stream",
     "text": [
      "enter last number : 10\n",
      "sum of 1st  10  natural numbers :  55\n"
     ]
    }
   ],
   "source": [
    "# wap find the sum of 1st 100 natural numbers\n",
    "# 1,2,3,4,5,6,7--------, 100\n",
    "N = input(\"enter last number : \")\n",
    "list = range(1,N+1)\n",
    "sum = 0\n",
    "for ele in list:\n",
    "    sum = sum+ele\n",
    "else:\n",
    "    print \"sum of 1st \",N,\" natural numbers : \",sum\n",
    "    "
   ]
  },
  {
   "cell_type": "code",
   "execution_count": 8,
   "metadata": {},
   "outputs": [
    {
     "name": "stdout",
     "output_type": "stream",
     "text": [
      "enter num : 5\n",
      "factorial for  5  is  120\n"
     ]
    }
   ],
   "source": [
    "#wap find the factorial of  number \n",
    "# -ve --->> don't give negative number\n",
    "# non int -->> please give int data only\n",
    "# 0,1 ------>> fact 1\n",
    "# 5-->> 1*2*3*4*5--->> fact 120\n",
    "\n",
    "num=input(\"enter num : \")\n",
    "if(isinstance(num,int)):\n",
    "    if(num>=0):\n",
    "        if(num>=2):\n",
    "            fact = 1\n",
    "            for ele in range(2,num+1):\n",
    "                fact =fact*ele\n",
    "            else:\n",
    "                print \"factorial for \",num,\" is \",fact\n",
    "        else:\n",
    "            print \"factorial for \",num,\" is 1\"\n",
    "    else:\n",
    "        print \"don't give negative numbers\"\n",
    "else:\n",
    "    print \"please give int daata only\""
   ]
  },
  {
   "cell_type": "code",
   "execution_count": null,
   "metadata": {},
   "outputs": [],
   "source": [
    "# wap find the sum of  square of 1st n natural numbers\n",
    "# wap genrate the fibonic series 10 --> 0   1   1   2    3   5    8   13    21   34 "
   ]
  },
  {
   "cell_type": "code",
   "execution_count": null,
   "metadata": {},
   "outputs": [],
   "source": []
  }
 ],
 "metadata": {
  "kernelspec": {
   "display_name": "Python 2",
   "language": "python",
   "name": "python2"
  },
  "language_info": {
   "codemirror_mode": {
    "name": "ipython",
    "version": 2
   },
   "file_extension": ".py",
   "mimetype": "text/x-python",
   "name": "python",
   "nbconvert_exporter": "python",
   "pygments_lexer": "ipython2",
   "version": "2.7.16"
  }
 },
 "nbformat": 4,
 "nbformat_minor": 2
}
