{
 "cells": [
  {
   "cell_type": "markdown",
   "metadata": {},
   "source": [
    "#### Function :-\n",
    "\n",
    "===>> Collection of statements to do any one specific task\n",
    "\n",
    "===>> Reduce the code size\n",
    "\n",
    "===>> To easy write a program\n",
    "\n",
    "###### Function defination\n",
    "\n",
    "def fun_name():\n",
    "\n",
    "    task\n",
    "    \n",
    "    ----\n",
    "    \n",
    "    ----\n",
    "\n",
    "###### Function Call\n",
    "\n",
    "fun_name()"
   ]
  },
  {
   "cell_type": "code",
   "execution_count": 4,
   "metadata": {},
   "outputs": [
    {
     "name": "stdout",
     "output_type": "stream",
     "text": [
      "This is  function 1st statement\n",
      "This is  function 2nd statement\n",
      "This is  function 3rd statement\n",
      "*****\n",
      "This is  function 1st statement\n",
      "This is  function 2nd statement\n",
      "This is  function 3rd statement\n",
      "*****\n",
      "This is  function 1st statement\n",
      "This is  function 2nd statement\n",
      "This is  function 3rd statement\n"
     ]
    }
   ],
   "source": [
    "# create sample  function and call it \n",
    "\n",
    "def sample_fun():\n",
    "    print \"This is  function 1st statement\"\n",
    "    print \"This is  function 2nd statement\"\n",
    "    print \"This is  function 3rd statement\"\n",
    "sample_fun()\n",
    "print \"*****\"\n",
    "sample_fun()\n",
    "print \"*****\"\n",
    "sample_fun()"
   ]
  },
  {
   "cell_type": "code",
   "execution_count": 5,
   "metadata": {},
   "outputs": [
    {
     "name": "stdout",
     "output_type": "stream",
     "text": [
      "10\n",
      "20\n",
      "*****\n",
      "34\n",
      "45\n",
      "*****\n",
      "37\n",
      "249\n"
     ]
    }
   ],
   "source": [
    "# create sample  function and call it \n",
    "\n",
    "# arguments --->> which are used for to send the daata from function call  to function defination\n",
    "def sample_fun(a1,a2):\n",
    "    print a1\n",
    "    print a2\n",
    "\n",
    "sample_fun(10,20)\n",
    "print \"*****\"\n",
    "a = 34\n",
    "b = 45\n",
    "sample_fun(a,b)\n",
    "print \"*****\"\n",
    "sample_fun(a+3,b+a*6)"
   ]
  },
  {
   "cell_type": "code",
   "execution_count": 7,
   "metadata": {},
   "outputs": [
    {
     "name": "stdout",
     "output_type": "stream",
     "text": [
      "10\n",
      "20\n"
     ]
    },
    {
     "ename": "TypeError",
     "evalue": "fun() takes exactly 2 arguments (0 given)",
     "output_type": "error",
     "traceback": [
      "\u001b[1;31m---------------------------------------------------------------------------\u001b[0m",
      "\u001b[1;31mTypeError\u001b[0m                                 Traceback (most recent call last)",
      "\u001b[1;32m<ipython-input-7-614ffe8f365e>\u001b[0m in \u001b[0;36m<module>\u001b[1;34m()\u001b[0m\n\u001b[0;32m      7\u001b[0m     \u001b[1;32mprint\u001b[0m \u001b[0mb\u001b[0m\u001b[1;33m\u001b[0m\u001b[0m\n\u001b[0;32m      8\u001b[0m \u001b[0mfun\u001b[0m\u001b[1;33m(\u001b[0m\u001b[1;36m10\u001b[0m\u001b[1;33m,\u001b[0m\u001b[1;36m20\u001b[0m\u001b[1;33m)\u001b[0m\u001b[1;33m\u001b[0m\u001b[0m\n\u001b[1;32m----> 9\u001b[1;33m \u001b[0mfun\u001b[0m\u001b[1;33m(\u001b[0m\u001b[1;33m)\u001b[0m\u001b[1;33m\u001b[0m\u001b[0m\n\u001b[0m",
      "\u001b[1;31mTypeError\u001b[0m: fun() takes exactly 2 arguments (0 given)"
     ]
    }
   ],
   "source": [
    "# default arguments\n",
    "'''\n",
    "==>> if we are not giving the arguments from function call\n",
    "'''\n",
    "def fun(a,b):\n",
    "    print a\n",
    "    print b\n",
    "fun(10,20)\n",
    "fun()"
   ]
  },
  {
   "cell_type": "code",
   "execution_count": 8,
   "metadata": {},
   "outputs": [
    {
     "name": "stdout",
     "output_type": "stream",
     "text": [
      "10\n",
      "20\n",
      "45\n",
      "67\n"
     ]
    }
   ],
   "source": [
    "# default arguments\n",
    "'''\n",
    "==>> if we are not giving the arguments from function call\n",
    "'''\n",
    "def fun(a= 45,b= 67):\n",
    "    print a\n",
    "    print b\n",
    "fun(10,20)\n",
    "fun()"
   ]
  },
  {
   "cell_type": "code",
   "execution_count": 9,
   "metadata": {},
   "outputs": [
    {
     "name": "stdout",
     "output_type": "stream",
     "text": [
      "100\n"
     ]
    }
   ],
   "source": [
    "# return -->> to send the data from function defination to function\n",
    "def fun():\n",
    "    return 100\n",
    "a = fun()\n",
    "print a\n"
   ]
  },
  {
   "cell_type": "code",
   "execution_count": 10,
   "metadata": {},
   "outputs": [
    {
     "name": "stdout",
     "output_type": "stream",
     "text": [
      "34\n"
     ]
    }
   ],
   "source": [
    "# return -->> to send the data from function defination to function\n",
    "def fun():\n",
    "    b = 34\n",
    "    return b\n",
    "a = fun()\n",
    "print a\n"
   ]
  },
  {
   "cell_type": "code",
   "execution_count": 11,
   "metadata": {},
   "outputs": [
    {
     "name": "stdout",
     "output_type": "stream",
     "text": [
      "578\n"
     ]
    }
   ],
   "source": [
    "# return -->> to send the data from function defination to function\n",
    "def fun():\n",
    "    x = 56\n",
    "    y = 10\n",
    "    return x*y+18 \n",
    "a = fun()\n",
    "print a\n"
   ]
  },
  {
   "cell_type": "code",
   "execution_count": 12,
   "metadata": {},
   "outputs": [
    {
     "name": "stdout",
     "output_type": "stream",
     "text": [
      "12\n",
      "12\n"
     ]
    }
   ],
   "source": [
    "# global variable\n",
    "a = 12  # default global variable\n",
    "def fun():\n",
    "    print a\n",
    "fun()\n",
    "print a"
   ]
  },
  {
   "cell_type": "code",
   "execution_count": 13,
   "metadata": {},
   "outputs": [
    {
     "name": "stdout",
     "output_type": "stream",
     "text": [
      "100\n",
      "100\n"
     ]
    }
   ],
   "source": [
    "# global variable\n",
    "\n",
    "def fun():\n",
    "    global a\n",
    "    a =100\n",
    "    print a\n",
    "fun()\n",
    "print a"
   ]
  },
  {
   "cell_type": "code",
   "execution_count": 14,
   "metadata": {},
   "outputs": [
    {
     "name": "stdout",
     "output_type": "stream",
     "text": [
      "100\n"
     ]
    },
    {
     "ename": "NameError",
     "evalue": "name 'z' is not defined",
     "output_type": "error",
     "traceback": [
      "\u001b[1;31m---------------------------------------------------------------------------\u001b[0m",
      "\u001b[1;31mNameError\u001b[0m                                 Traceback (most recent call last)",
      "\u001b[1;32m<ipython-input-14-f15caa42c6b7>\u001b[0m in \u001b[0;36m<module>\u001b[1;34m()\u001b[0m\n\u001b[0;32m      5\u001b[0m     \u001b[1;32mprint\u001b[0m \u001b[0mz\u001b[0m\u001b[1;33m\u001b[0m\u001b[0m\n\u001b[0;32m      6\u001b[0m \u001b[0mfun\u001b[0m\u001b[1;33m(\u001b[0m\u001b[1;33m)\u001b[0m\u001b[1;33m\u001b[0m\u001b[0m\n\u001b[1;32m----> 7\u001b[1;33m \u001b[1;32mprint\u001b[0m \u001b[0mz\u001b[0m\u001b[1;33m\u001b[0m\u001b[0m\n\u001b[0m",
      "\u001b[1;31mNameError\u001b[0m: name 'z' is not defined"
     ]
    }
   ],
   "source": [
    "# global variable\n",
    "\n",
    "def fun():\n",
    "    z=100 # local variable\n",
    "    print z\n",
    "fun()\n",
    "print z"
   ]
  },
  {
   "cell_type": "code",
   "execution_count": 15,
   "metadata": {},
   "outputs": [],
   "source": [
    "# python program structure\n",
    "def fun1():\n",
    "    pass\n",
    "def fun2():\n",
    "    pass\n",
    "def main():\n",
    "    pass\n",
    "if __name__ == \"__main__\":\n",
    "    main()"
   ]
  },
  {
   "cell_type": "code",
   "execution_count": 16,
   "metadata": {},
   "outputs": [
    {
     "name": "stdout",
     "output_type": "stream",
     "text": [
      "120\n"
     ]
    }
   ],
   "source": [
    "# wap find function for factorial \n",
    "def factorial(x):\n",
    "    fact = 1\n",
    "    for i in range(1,x+1):\n",
    "        fact  = fact * i\n",
    "    return fact\n",
    "def main():\n",
    "    fact = factorial(5)\n",
    "    print fact\n",
    "if __name__ == \"__main__\":\n",
    "    main()"
   ]
  },
  {
   "cell_type": "code",
   "execution_count": 19,
   "metadata": {},
   "outputs": [
    {
     "data": {
      "text/plain": [
       "[1, 2, 3, 4, 5]"
      ]
     },
     "execution_count": 19,
     "metadata": {},
     "output_type": "execute_result"
    }
   ],
   "source": [
    "range(1,6)"
   ]
  },
  {
   "cell_type": "code",
   "execution_count": null,
   "metadata": {},
   "outputs": [],
   "source": [
    "# waf for prime , fibonic series , no of digits in a numbers "
   ]
  }
 ],
 "metadata": {
  "kernelspec": {
   "display_name": "Python 2",
   "language": "python",
   "name": "python2"
  },
  "language_info": {
   "codemirror_mode": {
    "name": "ipython",
    "version": 2
   },
   "file_extension": ".py",
   "mimetype": "text/x-python",
   "name": "python",
   "nbconvert_exporter": "python",
   "pygments_lexer": "ipython2",
   "version": "2.7.16"
  }
 },
 "nbformat": 4,
 "nbformat_minor": 2
}
