{
 "cells": [
  {
   "cell_type": "code",
   "execution_count": null,
   "metadata": {},
   "outputs": [],
   "source": [
    "# if block\n",
    "'''\n",
    "WAP find the area of circle when radius is more than 15 meter \n",
    "'''\n",
    "rad = input(\"enter rad in meter : \")\n",
    "if(rad >  15):\n",
    "    pi = 22.0/7\n",
    "    area = pi*(rad**2)\n",
    "    print \"area: \",area\n",
    "print \"outof if block\""
   ]
  },
  {
   "cell_type": "code",
   "execution_count": null,
   "metadata": {},
   "outputs": [],
   "source": [
    "# if block\n",
    "'''\n",
    "WAP find the area of circle when radius is more than 15 meter \n",
    "'''\n",
    "rad = input(\"enter rad in meter : \")\n",
    "if(rad >  15):\n",
    "    pi = 22.0/7\n",
    "    area = pi*(rad**2)\n",
    "    print \"area: \",area\n",
    "print \"outof if block\""
   ]
  },
  {
   "cell_type": "code",
   "execution_count": null,
   "metadata": {},
   "outputs": [],
   "source": [
    "# wap apply for voter id application\n",
    "age = input(\"enter age of you : \")\n",
    "if(age >= 18):\n",
    "    print\"your elgible for voter id application\"\n",
    "    name = input(\"enter name : \")\n",
    "    phone = input(\"enter phone: \")\n",
    "    mail  = input(\"enter mail : \")\n",
    "print \"thanks for visting the voter id center\""
   ]
  },
  {
   "cell_type": "code",
   "execution_count": null,
   "metadata": {},
   "outputs": [],
   "source": [
    "# wap apply for voter id application\n",
    "age = input(\"enter age of you : \")\n",
    "if(age >= 18):\n",
    "    print\"your elgible for voter id application\"\n",
    "    name = input(\"enter name : \")\n",
    "    phone = input(\"enter phone: \")\n",
    "    mail  = input(\"enter mail : \")\n",
    "print \"thanks for visting the voter id center\""
   ]
  },
  {
   "cell_type": "code",
   "execution_count": null,
   "metadata": {},
   "outputs": [],
   "source": [
    "# if and else\n",
    "'''\n",
    "WAP find the area of sqaure when side iws even number other wise find perimter of square\n",
    "'''\n",
    "side = input(\"enter side of square : \")\n",
    "if(side % 2 == 0 ):\n",
    "    area = side ** 2\n",
    "    print \"area : \",area\n",
    "else:\n",
    "    peri = 4*side\n",
    "    print \"peri : \",peri\n",
    "print \"outof if and else\""
   ]
  },
  {
   "cell_type": "code",
   "execution_count": null,
   "metadata": {},
   "outputs": [],
   "source": [
    "# if and else\n",
    "'''\n",
    "WAP find the area of sqaure when side iws even number other wise find perimter of square\n",
    "'''\n",
    "side = input(\"enter side of square : \")\n",
    "if(side % 2 == 0 ):\n",
    "    area = side ** 2\n",
    "    print \"area : \",area\n",
    "else:\n",
    "    peri = 4*side\n",
    "    print \"peri : \",peri\n",
    "print \"outof if and else\""
   ]
  },
  {
   "cell_type": "code",
   "execution_count": null,
   "metadata": {},
   "outputs": [],
   "source": [
    "# wap find the  given number is int or not\n",
    "\n",
    "num = input(\"enter any number: \")\n",
    "if(isinstance(num,int)):\n",
    "    print \"Givem number is int \"\n",
    "else:\n",
    "    print \"given number is not a int \""
   ]
  },
  {
   "cell_type": "code",
   "execution_count": null,
   "metadata": {},
   "outputs": [],
   "source": [
    "# wap find the  given number is int or not\n",
    "\n",
    "num = input(\"enter any number: \")\n",
    "if(isinstance(num,int)):\n",
    "    print \"Givem number is int \"\n",
    "else:\n",
    "    print \"given number is not a int \""
   ]
  },
  {
   "cell_type": "code",
   "execution_count": null,
   "metadata": {},
   "outputs": [],
   "source": [
    "# nested if \n",
    "'''\n",
    "One block which can contains another block\n",
    "'''\n",
    "# wap find the biggest from 3 number \n",
    "\n",
    "a = input(\"enter a : \")\n",
    "b = input(\"enter b : \")\n",
    "c = input(\"enter c : \")\n",
    "if(a < b):\n",
    "    big = b\n",
    "    if(b< c):\n",
    "        big = c\n",
    "else:\n",
    "    big = a\n",
    "    if(a < c):\n",
    "        big = c\n",
    "print \"big : \",big"
   ]
  },
  {
   "cell_type": "code",
   "execution_count": 1,
   "metadata": {},
   "outputs": [
    {
     "name": "stdout",
     "output_type": "stream",
     "text": [
      "enter year : 2020\n",
      "leap year\n"
     ]
    }
   ],
   "source": [
    "# wap find the given year is leap year not \n",
    "# 2000 ----> year\n",
    "# 1900----> not\n",
    "#2004 / 1904--> yeay\n",
    "# 2001 ---> not\n",
    "year = input(\"enter year : \")\n",
    "if(year % 4 == 0):\n",
    "    if(year % 100 == 0):\n",
    "        if(year % 400 == 0):\n",
    "            print \"leap year\"\n",
    "        else:\n",
    "            print \"not leap year\"\n",
    "    else:\n",
    "        print \"leap year\"\n",
    "else:\n",
    "    print \"not leap year\"\n",
    "    "
   ]
  },
  {
   "cell_type": "code",
   "execution_count": 4,
   "metadata": {},
   "outputs": [
    {
     "name": "stdout",
     "output_type": "stream",
     "text": [
      "enter exp : 3\n",
      "35000\n"
     ]
    }
   ],
   "source": [
    "# elif ladder \n",
    "'''\n",
    "if( C1 ):\n",
    "     T1\n",
    "elif( C2):\n",
    "     T2\n",
    "elif(C3):\n",
    "    T3\n",
    "elif(C4):\n",
    "    T4\n",
    "----\n",
    "----\n",
    "----\n",
    "else:\n",
    "    Td\n",
    "'''\n",
    "# wap fix the based on exp\n",
    "exp =input(\"enter exp : \")\n",
    "if(exp<2):\n",
    "    print \"20000\"\n",
    "    \n",
    "elif(exp <4):\n",
    "    print \"35000\"\n",
    "elif(exp <6):\n",
    "    print \"58000\"\n",
    "elif(exp<10):\n",
    "    print \"1 lac\"\n",
    "else:\n",
    "    print \"3 lac\""
   ]
  },
  {
   "cell_type": "code",
   "execution_count": null,
   "metadata": {},
   "outputs": [],
   "source": [
    "# fix grade with help student perctange "
   ]
  }
 ],
 "metadata": {
  "kernelspec": {
   "display_name": "Python 2",
   "language": "python",
   "name": "python2"
  },
  "language_info": {
   "codemirror_mode": {
    "name": "ipython",
    "version": 2
   },
   "file_extension": ".py",
   "mimetype": "text/x-python",
   "name": "python",
   "nbconvert_exporter": "python",
   "pygments_lexer": "ipython2",
   "version": "2.7.17"
  }
 },
 "nbformat": 4,
 "nbformat_minor": 2
}
