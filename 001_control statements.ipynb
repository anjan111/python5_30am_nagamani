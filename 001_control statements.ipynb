{
 "cells": [
  {
   "cell_type": "code",
   "execution_count": 1,
   "metadata": {},
   "outputs": [
    {
     "name": "stdout",
     "output_type": "stream",
     "text": [
      "enter rad in meter : 12\n",
      "outof if block\n"
     ]
    }
   ],
   "source": [
    "# if block\n",
    "'''\n",
    "WAP find the area of circle when radius is more than 15 meter \n",
    "'''\n",
    "rad = input(\"enter rad in meter : \")\n",
    "if(rad >  15):\n",
    "    pi = 22.0/7\n",
    "    area = pi*(rad**2)\n",
    "    print \"area: \",area\n",
    "print \"outof if block\""
   ]
  },
  {
   "cell_type": "code",
   "execution_count": 2,
   "metadata": {},
   "outputs": [
    {
     "name": "stdout",
     "output_type": "stream",
     "text": [
      "enter rad in meter : 18\n",
      "area:  1018.28571429\n",
      "outof if block\n"
     ]
    }
   ],
   "source": [
    "# if block\n",
    "'''\n",
    "WAP find the area of circle when radius is more than 15 meter \n",
    "'''\n",
    "rad = input(\"enter rad in meter : \")\n",
    "if(rad >  15):\n",
    "    pi = 22.0/7\n",
    "    area = pi*(rad**2)\n",
    "    print \"area: \",area\n",
    "print \"outof if block\""
   ]
  },
  {
   "cell_type": "code",
   "execution_count": 3,
   "metadata": {},
   "outputs": [
    {
     "name": "stdout",
     "output_type": "stream",
     "text": [
      "enter age of you : 12\n",
      "thanks for visting the voter id center\n"
     ]
    }
   ],
   "source": [
    "# wap apply for voter id application\n",
    "age = input(\"enter age of you : \")\n",
    "if(age >= 18):\n",
    "    print\"your elgible for voter id application\"\n",
    "    name = input(\"enter name : \")\n",
    "    phone = input(\"enter phone: \")\n",
    "    mail  = input(\"enter mail : \")\n",
    "print \"thanks for visting the voter id center\""
   ]
  },
  {
   "cell_type": "code",
   "execution_count": 4,
   "metadata": {},
   "outputs": [
    {
     "name": "stdout",
     "output_type": "stream",
     "text": [
      "enter age of you : 20\n",
      "your elgible for voter id application\n",
      "enter name : \"anjan\"\n",
      "enter phone: \"969786543\"\n",
      "enter mail : \"danfn@nfj.com\n"
     ]
    },
    {
     "ename": "SyntaxError",
     "evalue": "EOL while scanning string literal (<string>, line 1)",
     "output_type": "error",
     "traceback": [
      "\u001b[1;36m  File \u001b[1;32m\"<string>\"\u001b[1;36m, line \u001b[1;32m1\u001b[0m\n\u001b[1;33m    \"danfn@nfj.com\u001b[0m\n\u001b[1;37m                 ^\u001b[0m\n\u001b[1;31mSyntaxError\u001b[0m\u001b[1;31m:\u001b[0m EOL while scanning string literal\n"
     ]
    }
   ],
   "source": [
    "# wap apply for voter id application\n",
    "age = input(\"enter age of you : \")\n",
    "if(age >= 18):\n",
    "    print\"your elgible for voter id application\"\n",
    "    name = input(\"enter name : \")\n",
    "    phone = input(\"enter phone: \")\n",
    "    mail  = input(\"enter mail : \")\n",
    "print \"thanks for visting the voter id center\""
   ]
  },
  {
   "cell_type": "code",
   "execution_count": 5,
   "metadata": {},
   "outputs": [
    {
     "name": "stdout",
     "output_type": "stream",
     "text": [
      "enter side of square : 13\n",
      "peri :  52\n",
      "outof if and else\n"
     ]
    }
   ],
   "source": [
    "# if and else\n",
    "'''\n",
    "WAP find the area of sqaure when side iws even number other wise find perimter of square\n",
    "'''\n",
    "side = input(\"enter side of square : \")\n",
    "if(side % 2 == 0 ):\n",
    "    area = side ** 2\n",
    "    print \"area : \",area\n",
    "else:\n",
    "    peri = 4*side\n",
    "    print \"peri : \",peri\n",
    "print \"outof if and else\""
   ]
  },
  {
   "cell_type": "code",
   "execution_count": 6,
   "metadata": {},
   "outputs": [
    {
     "name": "stdout",
     "output_type": "stream",
     "text": [
      "enter side of square : 16\n",
      "area :  256\n",
      "outof if and else\n"
     ]
    }
   ],
   "source": [
    "# if and else\n",
    "'''\n",
    "WAP find the area of sqaure when side iws even number other wise find perimter of square\n",
    "'''\n",
    "side = input(\"enter side of square : \")\n",
    "if(side % 2 == 0 ):\n",
    "    area = side ** 2\n",
    "    print \"area : \",area\n",
    "else:\n",
    "    peri = 4*side\n",
    "    print \"peri : \",peri\n",
    "print \"outof if and else\""
   ]
  },
  {
   "cell_type": "code",
   "execution_count": 7,
   "metadata": {},
   "outputs": [
    {
     "name": "stdout",
     "output_type": "stream",
     "text": [
      "enter any number: 45.6685\n",
      "given number is not a int \n"
     ]
    }
   ],
   "source": [
    "# wap find the  given number is int or not\n",
    "\n",
    "num = input(\"enter any number: \")\n",
    "if(isinstance(num,int)):\n",
    "    print \"Givem number is int \"\n",
    "else:\n",
    "    print \"given number is not a int \""
   ]
  },
  {
   "cell_type": "code",
   "execution_count": 8,
   "metadata": {},
   "outputs": [
    {
     "name": "stdout",
     "output_type": "stream",
     "text": [
      "enter any number: 456\n",
      "Givem number is int \n"
     ]
    }
   ],
   "source": [
    "# wap find the  given number is int or not\n",
    "\n",
    "num = input(\"enter any number: \")\n",
    "if(isinstance(num,int)):\n",
    "    print \"Givem number is int \"\n",
    "else:\n",
    "    print \"given number is not a int \""
   ]
  },
  {
   "cell_type": "code",
   "execution_count": null,
   "metadata": {},
   "outputs": [],
   "source": []
  }
 ],
 "metadata": {
  "kernelspec": {
   "display_name": "Python 2",
   "language": "python",
   "name": "python2"
  },
  "language_info": {
   "codemirror_mode": {
    "name": "ipython",
    "version": 2
   },
   "file_extension": ".py",
   "mimetype": "text/x-python",
   "name": "python",
   "nbconvert_exporter": "python",
   "pygments_lexer": "ipython2",
   "version": "2.7.17"
  }
 },
 "nbformat": 4,
 "nbformat_minor": 2
}
