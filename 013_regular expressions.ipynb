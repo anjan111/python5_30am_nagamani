{
 "cells": [
  {
   "cell_type": "code",
   "execution_count": 1,
   "metadata": {},
   "outputs": [
    {
     "name": "stdout",
     "output_type": "stream",
     "text": [
      "Help on module re:\n",
      "\n",
      "NAME\n",
      "    re - Support for regular expressions (RE).\n",
      "\n",
      "FILE\n",
      "    c:\\users\\socso\\anaconda2\\lib\\re.py\n",
      "\n",
      "DESCRIPTION\n",
      "    This module provides regular expression matching operations similar to\n",
      "    those found in Perl.  It supports both 8-bit and Unicode strings; both\n",
      "    the pattern and the strings being processed can contain null bytes and\n",
      "    characters outside the US ASCII range.\n",
      "    \n",
      "    Regular expressions can contain both special and ordinary characters.\n",
      "    Most ordinary characters, like \"A\", \"a\", or \"0\", are the simplest\n",
      "    regular expressions; they simply match themselves.  You can\n",
      "    concatenate ordinary characters, so last matches the string 'last'.\n",
      "    \n",
      "    The special characters are:\n",
      "        \".\"      Matches any character except a newline.\n",
      "        \"^\"      Matches the start of the string.\n",
      "        \"$\"      Matches the end of the string or just before the newline at\n",
      "                 the end of the string.\n",
      "        \"*\"      Matches 0 or more (greedy) repetitions of the preceding RE.\n",
      "                 Greedy means that it will match as many repetitions as possible.\n",
      "        \"+\"      Matches 1 or more (greedy) repetitions of the preceding RE.\n",
      "        \"?\"      Matches 0 or 1 (greedy) of the preceding RE.\n",
      "        *?,+?,?? Non-greedy versions of the previous three special characters.\n",
      "        {m,n}    Matches from m to n repetitions of the preceding RE.\n",
      "        {m,n}?   Non-greedy version of the above.\n",
      "        \"\\\\\"     Either escapes special characters or signals a special sequence.\n",
      "        []       Indicates a set of characters.\n",
      "                 A \"^\" as the first character indicates a complementing set.\n",
      "        \"|\"      A|B, creates an RE that will match either A or B.\n",
      "        (...)    Matches the RE inside the parentheses.\n",
      "                 The contents can be retrieved or matched later in the string.\n",
      "        (?iLmsux) Set the I, L, M, S, U, or X flag for the RE (see below).\n",
      "        (?:...)  Non-grouping version of regular parentheses.\n",
      "        (?P<name>...) The substring matched by the group is accessible by name.\n",
      "        (?P=name)     Matches the text matched earlier by the group named name.\n",
      "        (?#...)  A comment; ignored.\n",
      "        (?=...)  Matches if ... matches next, but doesn't consume the string.\n",
      "        (?!...)  Matches if ... doesn't match next.\n",
      "        (?<=...) Matches if preceded by ... (must be fixed length).\n",
      "        (?<!...) Matches if not preceded by ... (must be fixed length).\n",
      "        (?(id/name)yes|no) Matches yes pattern if the group with id/name matched,\n",
      "                           the (optional) no pattern otherwise.\n",
      "    \n",
      "    The special sequences consist of \"\\\\\" and a character from the list\n",
      "    below.  If the ordinary character is not on the list, then the\n",
      "    resulting RE will match the second character.\n",
      "        \\number  Matches the contents of the group of the same number.\n",
      "        \\A       Matches only at the start of the string.\n",
      "        \\Z       Matches only at the end of the string.\n",
      "        \\b       Matches the empty string, but only at the start or end of a word.\n",
      "        \\B       Matches the empty string, but not at the start or end of a word.\n",
      "        \\d       Matches any decimal digit; equivalent to the set [0-9].\n",
      "        \\D       Matches any non-digit character; equivalent to the set [^0-9].\n",
      "        \\s       Matches any whitespace character; equivalent to [ \\t\\n\\r\\f\\v].\n",
      "        \\S       Matches any non-whitespace character; equiv. to [^ \\t\\n\\r\\f\\v].\n",
      "        \\w       Matches any alphanumeric character; equivalent to [a-zA-Z0-9_].\n",
      "                 With LOCALE, it will match the set [0-9_] plus characters defined\n",
      "                 as letters for the current locale.\n",
      "        \\W       Matches the complement of \\w.\n",
      "        \\\\       Matches a literal backslash.\n",
      "    \n",
      "    This module exports the following functions:\n",
      "        match    Match a regular expression pattern to the beginning of a string.\n",
      "        search   Search a string for the presence of a pattern.\n",
      "        sub      Substitute occurrences of a pattern found in a string.\n",
      "        subn     Same as sub, but also return the number of substitutions made.\n",
      "        split    Split a string by the occurrences of a pattern.\n",
      "        findall  Find all occurrences of a pattern in a string.\n",
      "        finditer Return an iterator yielding a match object for each match.\n",
      "        compile  Compile a pattern into a RegexObject.\n",
      "        purge    Clear the regular expression cache.\n",
      "        escape   Backslash all non-alphanumerics in a string.\n",
      "    \n",
      "    Some of the functions in this module takes flags as optional parameters:\n",
      "        I  IGNORECASE  Perform case-insensitive matching.\n",
      "        L  LOCALE      Make \\w, \\W, \\b, \\B, dependent on the current locale.\n",
      "        M  MULTILINE   \"^\" matches the beginning of lines (after a newline)\n",
      "                       as well as the string.\n",
      "                       \"$\" matches the end of lines (before a newline) as well\n",
      "                       as the end of the string.\n",
      "        S  DOTALL      \".\" matches any character at all, including the newline.\n",
      "        X  VERBOSE     Ignore whitespace and comments for nicer looking RE's.\n",
      "        U  UNICODE     Make \\w, \\W, \\b, \\B, dependent on the Unicode locale.\n",
      "    \n",
      "    This module also defines an exception 'error'.\n",
      "\n",
      "CLASSES\n",
      "    exceptions.Exception(exceptions.BaseException)\n",
      "        sre_constants.error\n",
      "    \n",
      "    class error(exceptions.Exception)\n",
      "     |  Method resolution order:\n",
      "     |      error\n",
      "     |      exceptions.Exception\n",
      "     |      exceptions.BaseException\n",
      "     |      __builtin__.object\n",
      "     |  \n",
      "     |  Data descriptors defined here:\n",
      "     |  \n",
      "     |  __weakref__\n",
      "     |      list of weak references to the object (if defined)\n",
      "     |  \n",
      "     |  ----------------------------------------------------------------------\n",
      "     |  Methods inherited from exceptions.Exception:\n",
      "     |  \n",
      "     |  __init__(...)\n",
      "     |      x.__init__(...) initializes x; see help(type(x)) for signature\n",
      "     |  \n",
      "     |  ----------------------------------------------------------------------\n",
      "     |  Data and other attributes inherited from exceptions.Exception:\n",
      "     |  \n",
      "     |  __new__ = <built-in method __new__ of type object>\n",
      "     |      T.__new__(S, ...) -> a new object with type S, a subtype of T\n",
      "     |  \n",
      "     |  ----------------------------------------------------------------------\n",
      "     |  Methods inherited from exceptions.BaseException:\n",
      "     |  \n",
      "     |  __delattr__(...)\n",
      "     |      x.__delattr__('name') <==> del x.name\n",
      "     |  \n",
      "     |  __getattribute__(...)\n",
      "     |      x.__getattribute__('name') <==> x.name\n",
      "     |  \n",
      "     |  __getitem__(...)\n",
      "     |      x.__getitem__(y) <==> x[y]\n",
      "     |  \n",
      "     |  __getslice__(...)\n",
      "     |      x.__getslice__(i, j) <==> x[i:j]\n",
      "     |      \n",
      "     |      Use of negative indices is not supported.\n",
      "     |  \n",
      "     |  __reduce__(...)\n",
      "     |  \n",
      "     |  __repr__(...)\n",
      "     |      x.__repr__() <==> repr(x)\n",
      "     |  \n",
      "     |  __setattr__(...)\n",
      "     |      x.__setattr__('name', value) <==> x.name = value\n",
      "     |  \n",
      "     |  __setstate__(...)\n",
      "     |  \n",
      "     |  __str__(...)\n",
      "     |      x.__str__() <==> str(x)\n",
      "     |  \n",
      "     |  __unicode__(...)\n",
      "     |  \n",
      "     |  ----------------------------------------------------------------------\n",
      "     |  Data descriptors inherited from exceptions.BaseException:\n",
      "     |  \n",
      "     |  __dict__\n",
      "     |  \n",
      "     |  args\n",
      "     |  \n",
      "     |  message\n",
      "\n",
      "FUNCTIONS\n",
      "    compile(pattern, flags=0)\n",
      "        Compile a regular expression pattern, returning a pattern object.\n",
      "    \n",
      "    escape(pattern)\n",
      "        Escape all non-alphanumeric characters in pattern.\n",
      "    \n",
      "    findall(pattern, string, flags=0)\n",
      "        Return a list of all non-overlapping matches in the string.\n",
      "        \n",
      "        If one or more groups are present in the pattern, return a\n",
      "        list of groups; this will be a list of tuples if the pattern\n",
      "        has more than one group.\n",
      "        \n",
      "        Empty matches are included in the result.\n",
      "    \n",
      "    finditer(pattern, string, flags=0)\n",
      "        Return an iterator over all non-overlapping matches in the\n",
      "        string.  For each match, the iterator returns a match object.\n",
      "        \n",
      "        Empty matches are included in the result.\n",
      "    \n",
      "    match(pattern, string, flags=0)\n",
      "        Try to apply the pattern at the start of the string, returning\n",
      "        a match object, or None if no match was found.\n",
      "    \n",
      "    purge()\n",
      "        Clear the regular expression cache\n",
      "    \n",
      "    search(pattern, string, flags=0)\n",
      "        Scan through string looking for a match to the pattern, returning\n",
      "        a match object, or None if no match was found.\n",
      "    \n",
      "    split(pattern, string, maxsplit=0, flags=0)\n",
      "        Split the source string by the occurrences of the pattern,\n",
      "        returning a list containing the resulting substrings.\n",
      "    \n",
      "    sub(pattern, repl, string, count=0, flags=0)\n",
      "        Return the string obtained by replacing the leftmost\n",
      "        non-overlapping occurrences of the pattern in string by the\n",
      "        replacement repl.  repl can be either a string or a callable;\n",
      "        if a string, backslash escapes in it are processed.  If it is\n",
      "        a callable, it's passed the match object and must return\n",
      "        a replacement string to be used.\n",
      "    \n",
      "    subn(pattern, repl, string, count=0, flags=0)\n",
      "        Return a 2-tuple containing (new_string, number).\n",
      "        new_string is the string obtained by replacing the leftmost\n",
      "        non-overlapping occurrences of the pattern in the source\n",
      "        string by the replacement repl.  number is the number of\n",
      "        substitutions that were made. repl can be either a string or a\n",
      "        callable; if a string, backslash escapes in it are processed.\n",
      "        If it is a callable, it's passed the match object and must\n",
      "        return a replacement string to be used.\n",
      "    \n",
      "    template(pattern, flags=0)\n",
      "        Compile a template pattern, returning a pattern object\n",
      "\n",
      "DATA\n",
      "    DOTALL = 16\n",
      "    I = 2\n",
      "    IGNORECASE = 2\n",
      "    L = 4\n",
      "    LOCALE = 4\n",
      "    M = 8\n",
      "    MULTILINE = 8\n",
      "    S = 16\n",
      "    U = 32\n",
      "    UNICODE = 32\n",
      "    VERBOSE = 64\n",
      "    X = 64\n",
      "    __all__ = ['match', 'search', 'sub', 'subn', 'split', 'findall', 'comp...\n",
      "    __version__ = '2.2.1'\n",
      "\n",
      "VERSION\n",
      "    2.2.1\n",
      "\n",
      "\n"
     ]
    }
   ],
   "source": [
    "# re --->> it predefined python lib\n",
    "# which is used for to do some regular expression operation\n",
    "# import keyword can import the lib\n",
    "import re\n",
    "help(re)"
   ]
  },
  {
   "cell_type": "code",
   "execution_count": 2,
   "metadata": {},
   "outputs": [
    {
     "name": "stdout",
     "output_type": "stream",
     "text": [
      "Help on function match in module re:\n",
      "\n",
      "match(pattern, string, flags=0)\n",
      "    Try to apply the pattern at the start of the string, returning\n",
      "    a match object, or None if no match was found.\n",
      "\n"
     ]
    }
   ],
   "source": [
    "import re\n",
    "help(re.match)"
   ]
  },
  {
   "cell_type": "code",
   "execution_count": 3,
   "metadata": {},
   "outputs": [
    {
     "name": "stdout",
     "output_type": "stream",
     "text": [
      "<_sre.SRE_Match object at 0x00000000046FF988>\n",
      "None\n"
     ]
    }
   ],
   "source": [
    "raw_str = \"python program language\"\n",
    "ptr1  = \"python\"\n",
    "ptr2  = \"program\"\n",
    "\n",
    "import re\n",
    "print re.match(ptr1,raw_str)\n",
    "print re.match(ptr2,raw_str)"
   ]
  },
  {
   "cell_type": "code",
   "execution_count": 5,
   "metadata": {},
   "outputs": [
    {
     "name": "stdout",
     "output_type": "stream",
     "text": [
      "<_sre.SRE_Match object at 0x00000000046FFCC8>\n",
      "None\n"
     ]
    }
   ],
   "source": [
    "raw_str = \"python program language\"\n",
    "\n",
    "ptr1  = \"p....n\"\n",
    "ptr2  = \"p...n\"\n",
    "\n",
    "import re\n",
    "print re.match(ptr1,raw_str)\n",
    "print re.match(ptr2,raw_str)"
   ]
  },
  {
   "cell_type": "code",
   "execution_count": 6,
   "metadata": {},
   "outputs": [
    {
     "name": "stdout",
     "output_type": "stream",
     "text": [
      "<_sre.SRE_Match object at 0x00000000046FFAC0>\n",
      "None\n"
     ]
    }
   ],
   "source": [
    "raw_str1 = \"python program language\"\n",
    "raw_str2 = \"p1y9&n program language\"\n",
    "ptr1  = \"python\"\n",
    "\n",
    "\n",
    "import re\n",
    "print re.match(ptr1,raw_str1)\n",
    "print re.match(ptr1,raw_str2)"
   ]
  },
  {
   "cell_type": "code",
   "execution_count": 2,
   "metadata": {},
   "outputs": [
    {
     "name": "stdout",
     "output_type": "stream",
     "text": [
      "python\n",
      "p1y9&n\n",
      "Help on function match in module re:\n",
      "\n",
      "match(pattern, string, flags=0)\n",
      "    Try to apply the pattern at the start of the string, returning\n",
      "    a match object, or None if no match was found.\n",
      "\n"
     ]
    }
   ],
   "source": [
    "raw_str1 = \"python program language\"\n",
    "raw_str2 = \"p1y9&n program language\"\n",
    "ptr1  = \"p....n\"\n",
    "\n",
    "\n",
    "import re\n",
    "print re.match(ptr1,raw_str1).group()\n",
    "print re.match(ptr1,raw_str2).group()\n",
    "help(re.match)"
   ]
  },
  {
   "cell_type": "code",
   "execution_count": 4,
   "metadata": {},
   "outputs": [
    {
     "name": "stdout",
     "output_type": "stream",
     "text": [
      "python\n",
      "p1y9&n\n",
      "Help on function search in module re:\n",
      "\n",
      "search(pattern, string, flags=0)\n",
      "    Scan through string looking for a match to the pattern, returning\n",
      "    a match object, or None if no match was found.\n",
      "\n"
     ]
    }
   ],
   "source": [
    "raw_str1 = \"python program language\"\n",
    "raw_str2 = \" program  p1y9&n language\"\n",
    "ptr1  = \"p....n\"\n",
    "\n",
    "\n",
    "import re\n",
    "print re.search(ptr1,raw_str1).group()\n",
    "print re.search(ptr1,raw_str2).group()\n",
    "help(re.search)"
   ]
  },
  {
   "cell_type": "code",
   "execution_count": 5,
   "metadata": {},
   "outputs": [
    {
     "name": "stdout",
     "output_type": "stream",
     "text": [
      "['python', 'p1k&3n']\n",
      "['p1y9&n']\n",
      "Help on function findall in module re:\n",
      "\n",
      "findall(pattern, string, flags=0)\n",
      "    Return a list of all non-overlapping matches in the string.\n",
      "    \n",
      "    If one or more groups are present in the pattern, return a\n",
      "    list of groups; this will be a list of tuples if the pattern\n",
      "    has more than one group.\n",
      "    \n",
      "    Empty matches are included in the result.\n",
      "\n"
     ]
    }
   ],
   "source": [
    "raw_str1 = \"python program p1k&3n language\"\n",
    "raw_str2 = \" program  p1y9&n language\"\n",
    "ptr1  = \"p....n\"\n",
    "\n",
    "\n",
    "import re\n",
    "print re.findall(ptr1,raw_str1)\n",
    "print re.findall(ptr1,raw_str2)\n",
    "help(re.findall)"
   ]
  },
  {
   "cell_type": "code",
   "execution_count": 6,
   "metadata": {},
   "outputs": [
    {
     "name": "stdout",
     "output_type": "stream",
     "text": [
      "HELLO program language\n",
      " program  HELLO language\n",
      "Help on function sub in module re:\n",
      "\n",
      "sub(pattern, repl, string, count=0, flags=0)\n",
      "    Return the string obtained by replacing the leftmost\n",
      "    non-overlapping occurrences of the pattern in string by the\n",
      "    replacement repl.  repl can be either a string or a callable;\n",
      "    if a string, backslash escapes in it are processed.  If it is\n",
      "    a callable, it's passed the match object and must return\n",
      "    a replacement string to be used.\n",
      "\n"
     ]
    }
   ],
   "source": [
    "raw_str1 = \"python program language\"\n",
    "raw_str2 = \" program  p1y9&n language\"\n",
    "ptr1  = \"p....n\"\n",
    "\n",
    "\n",
    "import re\n",
    "print re.sub(ptr1,\"HELLO\",raw_str1)\n",
    "print re.sub(ptr1,\"HELLO\",raw_str2)\n",
    "help(re.sub)"
   ]
  },
  {
   "cell_type": "code",
   "execution_count": 11,
   "metadata": {},
   "outputs": [
    {
     "name": "stdout",
     "output_type": "stream",
     "text": [
      "<_sre.SRE_Match object at 0x00000000050594A8>\n",
      "<_sre.SRE_Match object at 0x00000000050594A8>\n",
      "['pt3&2n', 'python']\n",
      "Hello program Hello language\n"
     ]
    }
   ],
   "source": [
    "import re\n",
    "ptr = re.compile(\"p....n\")\n",
    "raw_str = \"pt3&2n program python language\"\n",
    "print ptr.match(raw_str)\n",
    "print ptr.search(raw_str)\n",
    "print ptr.findall(raw_str)\n",
    "print ptr.sub(\"Hello\",raw_str)"
   ]
  },
  {
   "cell_type": "code",
   "execution_count": 14,
   "metadata": {},
   "outputs": [
    {
     "name": "stdout",
     "output_type": "stream",
     "text": [
      "[]\n",
      "['python', 'p5r&2n']\n",
      "['p5r&2n']\n"
     ]
    }
   ],
   "source": [
    "import re\n",
    "raw_str = \" program python jjkhj p5r&2n\"\n",
    "print re.findall(r'^p....n',raw_str)\n",
    "print re.findall(r'p....n',raw_str)\n",
    "print re.findall(r'p....n$',raw_str)"
   ]
  },
  {
   "cell_type": "code",
   "execution_count": 16,
   "metadata": {},
   "outputs": [
    {
     "name": "stdout",
     "output_type": "stream",
     "text": [
      "['paaaan', 'paan', 'pan', 'pn']\n"
     ]
    }
   ],
   "source": [
    "import re\n",
    "raw_str = \" paaaan jkhkj paanjj pan jjf pn jjkhj p5r&2n\"\n",
    "print re.findall(r'pa*n',raw_str)# "
   ]
  },
  {
   "cell_type": "code",
   "execution_count": 1,
   "metadata": {},
   "outputs": [
    {
     "name": "stdout",
     "output_type": "stream",
     "text": [
      "['paaaan', 'paan', 'pan']\n"
     ]
    }
   ],
   "source": [
    "import re\n",
    "raw_str = \" paaaan jkhkj paanjj pan jjf pn jjkhj p5r&2n\"\n",
    "print re.findall(r'pa+n',raw_str)# "
   ]
  },
  {
   "cell_type": "code",
   "execution_count": 2,
   "metadata": {},
   "outputs": [
    {
     "name": "stdout",
     "output_type": "stream",
     "text": [
      "['pan', 'pn']\n"
     ]
    }
   ],
   "source": [
    "import re\n",
    "raw_str = \" paaaan jkhkj paanjj pan jjf pn jjkhj p5r&2n\"\n",
    "print re.findall(r'pa?n',raw_str)# "
   ]
  },
  {
   "cell_type": "code",
   "execution_count": 4,
   "metadata": {},
   "outputs": [
    {
     "name": "stdout",
     "output_type": "stream",
     "text": [
      "['paaaan', 'paaaan']\n"
     ]
    }
   ],
   "source": [
    "import re \n",
    "raw_str = \" paaaan jkhkj paaaanjj pan jjf pn jjkhj p5r&2n\"\n",
    "print re.findall(r'pa{4}n',raw_str)#"
   ]
  },
  {
   "cell_type": "code",
   "execution_count": 6,
   "metadata": {},
   "outputs": [
    {
     "name": "stdout",
     "output_type": "stream",
     "text": [
      "['paaaan', 'paaan', 'paan']\n"
     ]
    }
   ],
   "source": [
    "import re \n",
    "raw_str = \" paaaan jkhkj paaanjj paan jjf pan jkj pn jjkhj p5r&2n\"\n",
    "print re.findall(r'pa{2,4}n',raw_str)#"
   ]
  },
  {
   "cell_type": "code",
   "execution_count": 7,
   "metadata": {},
   "outputs": [
    {
     "name": "stdout",
     "output_type": "stream",
     "text": [
      "['paaan', 'paan', 'pan', 'pn']\n"
     ]
    }
   ],
   "source": [
    "import re \n",
    "raw_str = \" paaaan jkhkj paaanjj paan jjf pan jkj pn jjkhj p5r&2n\"\n",
    "print re.findall(r'pa{0,3}n',raw_str)#"
   ]
  },
  {
   "cell_type": "code",
   "execution_count": 14,
   "metadata": {},
   "outputs": [
    {
     "name": "stdout",
     "output_type": "stream",
     "text": [
      "['pbn', 'p4n', 'pan']\n"
     ]
    }
   ],
   "source": [
    "import re \n",
    "raw_str = \" paaaan jkhkj pbbbnjj paan jjf pbn jkj p4n jjkhj pan pab4n p5r&2n\"\n",
    "print re.findall(r'p[ab4]n',raw_str)#"
   ]
  },
  {
   "cell_type": "code",
   "execution_count": 15,
   "metadata": {},
   "outputs": [
    {
     "name": "stdout",
     "output_type": "stream",
     "text": [
      "['p4n']\n"
     ]
    }
   ],
   "source": [
    "import re \n",
    "raw_str = \" paaaan jkhkj pbbbnjj paan jjf pbn jkj p4n jjkhj pan pab4n p5r&2n\"\n",
    "print re.findall(r'p\\dn',raw_str)#"
   ]
  },
  {
   "cell_type": "code",
   "execution_count": 16,
   "metadata": {},
   "outputs": [
    {
     "name": "stdout",
     "output_type": "stream",
     "text": [
      "['p n', 'pbn', 'pan']\n"
     ]
    }
   ],
   "source": [
    "import re \n",
    "raw_str = \" paaaan jkhkj pbbbnjj p n jjf pbn jkj p4n jjkhj pan pab4n p5r&2n\"\n",
    "print re.findall(r'p\\Dn',raw_str)#"
   ]
  },
  {
   "cell_type": "code",
   "execution_count": 17,
   "metadata": {},
   "outputs": [
    {
     "name": "stdout",
     "output_type": "stream",
     "text": [
      "['pbn', 'p4n', 'pan']\n"
     ]
    }
   ],
   "source": [
    "import re \n",
    "raw_str = \" paaaan jkhkj p n jj p&n jjf pbn jkj p4n jjkhj pan pab4n p5r&2n\"\n",
    "print re.findall(r'p\\wn',raw_str)#"
   ]
  },
  {
   "cell_type": "code",
   "execution_count": 18,
   "metadata": {},
   "outputs": [
    {
     "name": "stdout",
     "output_type": "stream",
     "text": [
      "['p n', 'p&n']\n"
     ]
    }
   ],
   "source": [
    "import re \n",
    "raw_str = \" paaaan jkhkj p n jj p&n jjf pbn jkj p4n jjkhj pan pab4n p5r&2n\"\n",
    "print re.findall(r'p\\Wn',raw_str)#"
   ]
  },
  {
   "cell_type": "code",
   "execution_count": 19,
   "metadata": {},
   "outputs": [
    {
     "name": "stdout",
     "output_type": "stream",
     "text": [
      "['p n']\n"
     ]
    }
   ],
   "source": [
    "import re \n",
    "raw_str = \" paaaan jkhkj p n jj p&n jjf pbn jkj p4n jjkhj pan pab4n p5r&2n\"\n",
    "print re.findall(r'p\\sn',raw_str)#"
   ]
  },
  {
   "cell_type": "code",
   "execution_count": 20,
   "metadata": {},
   "outputs": [
    {
     "name": "stdout",
     "output_type": "stream",
     "text": [
      "['p&n', 'pbn', 'p4n', 'pan']\n"
     ]
    }
   ],
   "source": [
    "import re \n",
    "raw_str = \" paaaan jkhkj p n jj p&n jjf pbn jkj p4n jjkhj pan pab4n p5r&2n\"\n",
    "print re.findall(r'p\\Sn',raw_str)#"
   ]
  },
  {
   "cell_type": "code",
   "execution_count": 22,
   "metadata": {},
   "outputs": [
    {
     "name": "stdout",
     "output_type": "stream",
     "text": [
      "['p n', 'p&n', 'pbn', 'p4n']\n"
     ]
    }
   ],
   "source": [
    "import re \n",
    "raw_str = \" paaaan jkhkj p n jj p&n jjf pbn jkj p4n jjkhj pan pab4n p5r&2n\"\n",
    "print re.findall(r'p[4b]n|p[ &]n',raw_str)#"
   ]
  },
  {
   "cell_type": "code",
   "execution_count": 23,
   "metadata": {},
   "outputs": [
    {
     "name": "stdout",
     "output_type": "stream",
     "text": [
      "[]\n"
     ]
    }
   ],
   "source": [
    "import re \n",
    "raw_str = \" paaaan jkhkj p n jj p&n jjf pbn jkj p4n jjkhj pan pab4n p5r&2n\"\n",
    "print re.findall(r'p[4b][ &]n',raw_str)#"
   ]
  },
  {
   "cell_type": "code",
   "execution_count": 24,
   "metadata": {},
   "outputs": [
    {
     "name": "stdout",
     "output_type": "stream",
     "text": [
      "['p4 n']\n"
     ]
    }
   ],
   "source": [
    "import re \n",
    "raw_str = \" paaaan jkhkj p n jj p&n jjf pbn jkj p4 n jjkhj pan pab4n p5r&2n\"\n",
    "print re.findall(r'p[4b][ &]n',raw_str)#"
   ]
  },
  {
   "cell_type": "code",
   "execution_count": null,
   "metadata": {},
   "outputs": [],
   "source": [
    "# create a file which having name , phone number  , mail id\n",
    "# access the data from file with ref of name ( only last 2 character are an) print name and phone number"
   ]
  }
 ],
 "metadata": {
  "kernelspec": {
   "display_name": "Python 2",
   "language": "python",
   "name": "python2"
  },
  "language_info": {
   "codemirror_mode": {
    "name": "ipython",
    "version": 2
   },
   "file_extension": ".py",
   "mimetype": "text/x-python",
   "name": "python",
   "nbconvert_exporter": "python",
   "pygments_lexer": "ipython2",
   "version": "2.7.16"
  }
 },
 "nbformat": 4,
 "nbformat_minor": 2
}
