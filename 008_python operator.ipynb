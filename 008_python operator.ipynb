{
 "cells": [
  {
   "cell_type": "code",
   "execution_count": 1,
   "metadata": {},
   "outputs": [
    {
     "name": "stdout",
     "output_type": "stream",
     "text": [
      "25\n",
      "21\n",
      "46\n",
      "11\n",
      "1\n",
      "11\n",
      "529\n"
     ]
    }
   ],
   "source": [
    "# operators --->> data processing \n",
    "'''\n",
    "1. arithmetic Operators\n",
    "2. Relational Operators\n",
    "3. Logical Operator\n",
    "4. Special Operators\n",
    "5. Bitwise Operators\n",
    "6. Assignment Operators\n",
    "\n",
    "'''\n",
    "# Arithmetic Operators\n",
    "'''\n",
    "--->> Mathametical Operations\n",
    "   1. Addition -------------->   +\n",
    "   2. Subtraction------------>   -\n",
    "   3. Multipliction---------->   *\n",
    "   4. Division--------------->   / ---> \n",
    "   5. Modulus---------------->  % ---> reminder\n",
    "   6. Floor Division--------->  //\n",
    "   7. Exponant--------------->  **\n",
    "'''\n",
    "a = 23\n",
    "b = 2\n",
    "print a+b\n",
    "print a-b\n",
    "print a*b\n",
    "print a/b# 11\n",
    "print a%b# 1\n",
    "print a // b  #11\n",
    "print a ** b  #  23 ** 2 --->>   23 * 23--->  529"
   ]
  },
  {
   "cell_type": "code",
   "execution_count": 2,
   "metadata": {},
   "outputs": [
    {
     "name": "stdout",
     "output_type": "stream",
     "text": [
      "25.0\n",
      "21.0\n",
      "46.0\n",
      "11.5\n",
      "1.0\n",
      "11.0\n",
      "529.0\n"
     ]
    }
   ],
   "source": [
    "a = 23.0\n",
    "b = 2.0\n",
    "print a+b\n",
    "print a-b\n",
    "print a*b\n",
    "print a/b# 11.5\n",
    "print a%b# 1.0\n",
    "print a // b  #11.0\n",
    "print a ** b  #  23 ** 2 --->>   23 * 23--->  529"
   ]
  },
  {
   "cell_type": "code",
   "execution_count": 3,
   "metadata": {},
   "outputs": [
    {
     "name": "stdout",
     "output_type": "stream",
     "text": [
      "enter diameter of any circle  in meter  : 25\n",
      "area :  432  sq.m\n",
      "peri :  72  meters\n"
     ]
    }
   ],
   "source": [
    "# wap find the area of circle , and perimeter also\n",
    "\n",
    "d = input(\"enter diameter of any circle  in meter  : \")\n",
    "r = d/2\n",
    "pi = 22/7\n",
    "area = pi*(r**2)\n",
    "peri = 2*pi*r\n",
    "print \"area : \",area ,\" sq.m\"\n",
    "print \"peri : \",peri ,\" meters\""
   ]
  },
  {
   "cell_type": "code",
   "execution_count": 4,
   "metadata": {},
   "outputs": [
    {
     "name": "stdout",
     "output_type": "stream",
     "text": [
      "enter diameter of any circle  in meter  : 25.0\n",
      "area :  491.071428571  sq.m\n",
      "peri :  78.5714285714  meters\n"
     ]
    }
   ],
   "source": [
    "# wap find the area of circle , and perimeter also\n",
    "\n",
    "d = input(\"enter diameter of any circle  in meter  : \")\n",
    "r = d/2\n",
    "pi = 22.0/7\n",
    "area = pi*(r**2)\n",
    "peri = 2*pi*r\n",
    "print \"area : \",area ,\" sq.m\"\n",
    "print \"peri : \",peri ,\" meters\""
   ]
  },
  {
   "cell_type": "code",
   "execution_count": null,
   "metadata": {},
   "outputs": [],
   "source": [
    "#wap find the area & perimeter of square\n",
    "#wap find the area & perimter of rectangle"
   ]
  },
  {
   "cell_type": "code",
   "execution_count": 5,
   "metadata": {},
   "outputs": [
    {
     "name": "stdout",
     "output_type": "stream",
     "text": [
      "True\n",
      "False\n",
      "False\n"
     ]
    }
   ],
   "source": [
    "# relational Operator\n",
    "'''\n",
    "===>> compare the operands ( data)\n",
    "===>> lessthan   <\n",
    "===>> greaterthan >\n",
    "===>> equal too  ==\n",
    "===>> greaterthan or equal   >=\n",
    "===>> lessthan or equal  <=\n",
    "===>> not equal too    !=\n",
    "'''\n",
    "# lessthan   <\n",
    "print   10 < 56\n",
    "print   10  < 10\n",
    "print  34 < 12"
   ]
  },
  {
   "cell_type": "code",
   "execution_count": 6,
   "metadata": {},
   "outputs": [
    {
     "name": "stdout",
     "output_type": "stream",
     "text": [
      "False\n",
      "False\n",
      "True\n"
     ]
    }
   ],
   "source": [
    "# greaterthan   >\n",
    "print   10 > 56\n",
    "print   10  > 10\n",
    "print  34 > 12"
   ]
  },
  {
   "cell_type": "code",
   "execution_count": 7,
   "metadata": {},
   "outputs": [
    {
     "name": "stdout",
     "output_type": "stream",
     "text": [
      "False\n",
      "True\n",
      "False\n"
     ]
    }
   ],
   "source": [
    "#equal too   ==\n",
    "print   10 == 56\n",
    "print   10  == 10\n",
    "print  34 == 12"
   ]
  },
  {
   "cell_type": "code",
   "execution_count": 8,
   "metadata": {},
   "outputs": [
    {
     "name": "stdout",
     "output_type": "stream",
     "text": [
      "True\n",
      "True\n",
      "False\n"
     ]
    }
   ],
   "source": [
    "# lessthan or equal too  <=\n",
    "print   10 <= 56\n",
    "print   10  <= 10\n",
    "print  34 <= 12"
   ]
  },
  {
   "cell_type": "code",
   "execution_count": 9,
   "metadata": {},
   "outputs": [
    {
     "name": "stdout",
     "output_type": "stream",
     "text": [
      "False\n",
      "True\n",
      "True\n"
     ]
    }
   ],
   "source": [
    "# greaterthan or eaul too\n",
    "print   10 >= 56\n",
    "print   10  >= 10\n",
    "print  34 >=  12"
   ]
  },
  {
   "cell_type": "code",
   "execution_count": 10,
   "metadata": {},
   "outputs": [
    {
     "name": "stdout",
     "output_type": "stream",
     "text": [
      "True\n",
      "False\n",
      "True\n"
     ]
    }
   ],
   "source": [
    "# not equal too\n",
    "print   10 != 56\n",
    "print   10  != 10\n",
    "print  34 != 12"
   ]
  },
  {
   "cell_type": "code",
   "execution_count": 11,
   "metadata": {},
   "outputs": [
    {
     "name": "stdout",
     "output_type": "stream",
     "text": [
      "enter num :  45\n",
      "45  is even :  False\n"
     ]
    }
   ],
   "source": [
    "#wap find the given number is even or not\n",
    "num = input(\"enter num :  \")\n",
    "rem = num % 2\n",
    "print num,\" is even : \", rem == 0"
   ]
  },
  {
   "cell_type": "code",
   "execution_count": 12,
   "metadata": {},
   "outputs": [
    {
     "name": "stdout",
     "output_type": "stream",
     "text": [
      "enter num :  46\n",
      "46  is even :  True\n"
     ]
    }
   ],
   "source": [
    "#wap find the given number is even or not\n",
    "num = input(\"enter num :  \")\n",
    "rem = num % 2\n",
    "print num,\" is even : \", rem == 0"
   ]
  },
  {
   "cell_type": "code",
   "execution_count": 13,
   "metadata": {},
   "outputs": [
    {
     "name": "stdout",
     "output_type": "stream",
     "text": [
      "12\n",
      "12\n",
      "156\n"
     ]
    }
   ],
   "source": [
    "# Assignment  = operator\n",
    "a = 12  # 12 --->>> a  # constant  to variable\n",
    "b = a   # a ---->>> b  # variable to variable \n",
    "c = a*b+12 # res-->> c # expression to variable\n",
    "print a\n",
    "print b\n",
    "print c\n"
   ]
  },
  {
   "cell_type": "code",
   "execution_count": 14,
   "metadata": {},
   "outputs": [
    {
     "name": "stdout",
     "output_type": "stream",
     "text": [
      "10\n",
      "20\n",
      "30\n",
      "20\n"
     ]
    }
   ],
   "source": [
    "# compound assignment   \n",
    "a = 10\n",
    "b = 20\n",
    "print a\n",
    "print b\n",
    "a = a+b  # 10+20 -->> 30 ---->>a # addition then update\n",
    "print a\n",
    "print b"
   ]
  },
  {
   "cell_type": "code",
   "execution_count": 15,
   "metadata": {},
   "outputs": [
    {
     "name": "stdout",
     "output_type": "stream",
     "text": [
      "10\n",
      "20\n",
      "30\n",
      "20\n"
     ]
    }
   ],
   "source": [
    "# compound assignment   \n",
    "a = 10\n",
    "b = 20\n",
    "print a\n",
    "print b\n",
    "a  += b  #  a = a+b  # 10+20 -->> 30 ---->>a # addition then update\n",
    "print a\n",
    "print b"
   ]
  },
  {
   "cell_type": "code",
   "execution_count": 16,
   "metadata": {},
   "outputs": [
    {
     "name": "stdout",
     "output_type": "stream",
     "text": [
      "10\n",
      "20\n",
      "-10\n",
      "20\n"
     ]
    }
   ],
   "source": [
    "# compound assignment   \n",
    "a = 10\n",
    "b = 20\n",
    "print a\n",
    "print b\n",
    "a  -= b  #  a = a-b  # 10-20 -->>-10 ---->>a # subtraction then update\n",
    "print a\n",
    "print b"
   ]
  },
  {
   "cell_type": "code",
   "execution_count": 17,
   "metadata": {},
   "outputs": [
    {
     "name": "stdout",
     "output_type": "stream",
     "text": [
      "10\n",
      "20\n",
      "200\n",
      "20\n"
     ]
    }
   ],
   "source": [
    "# compound assignment   \n",
    "a = 10\n",
    "b = 20\n",
    "print a\n",
    "print b\n",
    "a *= b  # a =  a * b\n",
    "print a\n",
    "print b"
   ]
  },
  {
   "cell_type": "code",
   "execution_count": 18,
   "metadata": {},
   "outputs": [
    {
     "name": "stdout",
     "output_type": "stream",
     "text": [
      "10\n",
      "20\n",
      "0\n",
      "20\n"
     ]
    }
   ],
   "source": [
    "# compound assignment   \n",
    "a = 10\n",
    "b = 20\n",
    "print a\n",
    "print b\n",
    "a /= b  # a =  a / b\n",
    "print a\n",
    "print b"
   ]
  },
  {
   "cell_type": "code",
   "execution_count": 19,
   "metadata": {},
   "outputs": [
    {
     "name": "stdout",
     "output_type": "stream",
     "text": [
      "10\n",
      "20\n",
      "10\n",
      "20\n"
     ]
    }
   ],
   "source": [
    "# compound assignment   \n",
    "a = 10\n",
    "b = 20\n",
    "print a\n",
    "print b\n",
    "a %= b  # a =  a % b\n",
    "print a\n",
    "print b"
   ]
  },
  {
   "cell_type": "code",
   "execution_count": null,
   "metadata": {},
   "outputs": [],
   "source": []
  }
 ],
 "metadata": {
  "kernelspec": {
   "display_name": "Python 2",
   "language": "python",
   "name": "python2"
  },
  "language_info": {
   "codemirror_mode": {
    "name": "ipython",
    "version": 2
   },
   "file_extension": ".py",
   "mimetype": "text/x-python",
   "name": "python",
   "nbconvert_exporter": "python",
   "pygments_lexer": "ipython2",
   "version": "2.7.16"
  }
 },
 "nbformat": 4,
 "nbformat_minor": 2
}
