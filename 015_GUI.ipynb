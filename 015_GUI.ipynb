{
 "cells": [
  {
   "cell_type": "code",
   "execution_count": 2,
   "metadata": {},
   "outputs": [],
   "source": [
    "#Create the window\n",
    "###### tkinter \n",
    "from tkinter import *\n",
    "window = Tk() # This is Tk class , which is used for to create window object\n",
    "window.title(\"Welcome to GUI application\")\n",
    "window.mainloop()"
   ]
  },
  {
   "cell_type": "code",
   "execution_count": 6,
   "metadata": {},
   "outputs": [],
   "source": [
    "# creating the label on window\n",
    "from tkinter import *\n",
    "window = Tk() # This is Tk class , which is used for to create window object\n",
    "\n",
    "Lb1    = Label(window,text = \"Hello\",font =(\"Arial Bold\",50))\n",
    "Lb1.grid(column = 0 , row = 0)\n",
    "\n",
    "Lb2    = Label(window,text = \"Anjan Kumar\",font =(\"Arial Bold\",50))\n",
    "Lb2.grid(column = 0 , row = 1)\n",
    "\n",
    "Lb3    = Label(window,text = \"Suresh\",font =(\"Arial Bold\",50))\n",
    "Lb3.grid(column = 1 , row = 0)\n",
    "\n",
    "Lb4    = Label(window,text = \"Sir\",font =(\"Arial Bold\",50))\n",
    "Lb4.grid(column = 1 , row = 1)\n",
    "\n",
    "window.title(\"Welcome to GUI application\")\n",
    "window.mainloop()"
   ]
  },
  {
   "cell_type": "code",
   "execution_count": 7,
   "metadata": {},
   "outputs": [
    {
     "name": "stdout",
     "output_type": "stream",
     "text": [
      "Button is pressed   1   no of times\n",
      "Button is pressed   2   no of times\n",
      "Button is pressed   3   no of times\n",
      "Button is pressed   4   no of times\n",
      "Button is pressed   5   no of times\n",
      "Button is pressed   6   no of times\n",
      "Button is pressed   7   no of times\n",
      "Button is pressed   8   no of times\n",
      "Button is pressed   9   no of times\n",
      "Button is pressed   10   no of times\n",
      "Button is pressed   11   no of times\n",
      "Button is pressed   12   no of times\n",
      "Button is pressed   13   no of times\n",
      "Button is pressed   14   no of times\n",
      "Button is pressed   15   no of times\n",
      "Button is pressed   16   no of times\n",
      "Button is pressed   17   no of times\n",
      "Button is pressed   18   no of times\n"
     ]
    }
   ],
   "source": [
    "# creating a button on window\n",
    "var = 0\n",
    "def task():\n",
    "    global var\n",
    "    var = var + 1\n",
    "    print \"Button is pressed  \",var,\"  no of times\"\n",
    "    \n",
    "from tkinter import *\n",
    "window = Tk() # This is Tk class , which is used for to create window object\n",
    "window.title(\"Welcome to GUI application\")\n",
    "Lb1    = Label(window,text = \"Created a Button object\",font =(\"Arial Bold\",50))\n",
    "Lb1.grid(column = 0 , row = 0)\n",
    "\n",
    "Btn  = Button(window,text = \"Click me\",bg = \"orange\",fg=\"red\",command =task)\n",
    "Btn.grid(column = 0 , row = 1)\n",
    "window.mainloop()"
   ]
  },
  {
   "cell_type": "code",
   "execution_count": 9,
   "metadata": {},
   "outputs": [],
   "source": [
    "# creating a button on window\n",
    "var = 0\n",
    "def task():\n",
    "    global var\n",
    "    var = var + 1\n",
    "    Text = \"Button is pressed  \"+ str(var)+ \"  no of times\"\n",
    "    Lb2.configure(text = Text )\n",
    "    \n",
    "from tkinter import *\n",
    "window = Tk() # This is Tk class , which is used for to create window object\n",
    "window.title(\"Welcome to GUI application\")\n",
    "Lb1    = Label(window,text = \"Created a Button object\",font =(\"Arial Bold\",50))\n",
    "Lb1.grid(column = 0 , row = 0)\n",
    "\n",
    "Btn  = Button(window,text = \"Click me\",bg = \"orange\",fg=\"red\",command =task)\n",
    "Btn.grid(column = 0 , row = 1)\n",
    "\n",
    "Lb2    = Label(window,text = \"Here it can display no times button pressed\",font =(\"Arial Bold\",50))\n",
    "Lb2.grid(column = 0 , row = 2)\n",
    "window.mainloop()"
   ]
  },
  {
   "cell_type": "code",
   "execution_count": null,
   "metadata": {},
   "outputs": [],
   "source": [
    "# Entry Box creation\n",
    "def task():\n",
    "    global var\n",
    "    var = var + 1\n",
    "    Text = \"Enter data : \"+Ent.get()\n",
    "    Lb2.configure(text = Text )\n",
    "    \n",
    "    \n",
    "from tkinter import *\n",
    "window = Tk() # This is Tk class , which is used for to create window object\n",
    "window.title(\"Welcome to GUI application\")\n",
    "\n",
    "Lb1    = Label(window,text = \"Created a Button & entry object\",font =(\"Arial Bold\",50))\n",
    "Lb1.grid(column = 0 , row = 0)\n",
    "\n",
    "Ent = Entry(window,width = 10)\n",
    "Ent.grid(column = 0 , row = 1)\n",
    "\n",
    "Btn  = Button(window,text = \"Click me\",bg = \"orange\",fg=\"red\",command =task)\n",
    "Btn.grid(column = 0 , row = 2)\n",
    "\n",
    "Lb2    = Label(window,text = \"Here it can display Entered data\",font =(\"Arial Bold\",50))\n",
    "Lb2.grid(column = 0 , row = 3)\n",
    "\n",
    "window.mainloop()"
   ]
  },
  {
   "cell_type": "code",
   "execution_count": null,
   "metadata": {},
   "outputs": [],
   "source": []
  }
 ],
 "metadata": {
  "kernelspec": {
   "display_name": "Python 2",
   "language": "python",
   "name": "python2"
  },
  "language_info": {
   "codemirror_mode": {
    "name": "ipython",
    "version": 2
   },
   "file_extension": ".py",
   "mimetype": "text/x-python",
   "name": "python",
   "nbconvert_exporter": "python",
   "pygments_lexer": "ipython2",
   "version": "2.7.16"
  }
 },
 "nbformat": 4,
 "nbformat_minor": 2
}
