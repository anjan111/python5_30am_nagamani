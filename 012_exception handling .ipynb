{
 "cells": [
  {
   "cell_type": "markdown",
   "metadata": {},
   "source": [
    "Exception Handlings :-\n",
    "--------------------------\n",
    "\n",
    "Error :\n",
    "--------\n",
    "\n",
    "==>> The Mistakes wih in the program \n",
    "\n",
    "There are 2 types of errors \n",
    "\n",
    "1. syntax Error --->>  This are the errors we will get bcz of syntax( structure )\n",
    "\n",
    "2. Runtime Error --> we will get those errors are at execution time. \n",
    "\n",
    "--------->>> BCz of the run time error the program execution can stop in middle  ( exception)"
   ]
  },
  {
   "cell_type": "code",
   "execution_count": 1,
   "metadata": {},
   "outputs": [
    {
     "ename": "SyntaxError",
     "evalue": "EOL while scanning string literal (<ipython-input-1-779d778d4da9>, line 1)",
     "output_type": "error",
     "traceback": [
      "\u001b[1;36m  File \u001b[1;32m\"<ipython-input-1-779d778d4da9>\"\u001b[1;36m, line \u001b[1;32m1\u001b[0m\n\u001b[1;33m    print \"hello'\u001b[0m\n\u001b[1;37m                ^\u001b[0m\n\u001b[1;31mSyntaxError\u001b[0m\u001b[1;31m:\u001b[0m EOL while scanning string literal\n"
     ]
    }
   ],
   "source": [
    "print \"hello'\n",
    "print \"hai\""
   ]
  },
  {
   "cell_type": "code",
   "execution_count": 2,
   "metadata": {},
   "outputs": [
    {
     "ename": "SyntaxError",
     "evalue": "invalid syntax (<ipython-input-2-8da2a55d7bcd>, line 1)",
     "output_type": "error",
     "traceback": [
      "\u001b[1;36m  File \u001b[1;32m\"<ipython-input-2-8da2a55d7bcd>\"\u001b[1;36m, line \u001b[1;32m1\u001b[0m\n\u001b[1;33m    wh@r =123\u001b[0m\n\u001b[1;37m      ^\u001b[0m\n\u001b[1;31mSyntaxError\u001b[0m\u001b[1;31m:\u001b[0m invalid syntax\n"
     ]
    }
   ],
   "source": [
    "wh@r =123"
   ]
  },
  {
   "cell_type": "code",
   "execution_count": 4,
   "metadata": {},
   "outputs": [
    {
     "name": "stdout",
     "output_type": "stream",
     "text": [
      "123\n"
     ]
    },
    {
     "ename": "NameError",
     "evalue": "name 'a' is not defined",
     "output_type": "error",
     "traceback": [
      "\u001b[1;31m---------------------------------------------------------------------------\u001b[0m",
      "\u001b[1;31mNameError\u001b[0m                                 Traceback (most recent call last)",
      "\u001b[1;32m<ipython-input-4-4f715594570d>\u001b[0m in \u001b[0;36m<module>\u001b[1;34m()\u001b[0m\n\u001b[0;32m      1\u001b[0m \u001b[0mvar\u001b[0m \u001b[1;33m=\u001b[0m \u001b[1;36m123\u001b[0m\u001b[1;33m\u001b[0m\u001b[0m\n\u001b[0;32m      2\u001b[0m \u001b[1;32mprint\u001b[0m \u001b[0mvar\u001b[0m\u001b[1;33m\u001b[0m\u001b[0m\n\u001b[1;32m----> 3\u001b[1;33m \u001b[1;32mprint\u001b[0m \u001b[0ma\u001b[0m\u001b[1;33m\u001b[0m\u001b[0m\n\u001b[0m",
      "\u001b[1;31mNameError\u001b[0m: name 'a' is not defined"
     ]
    }
   ],
   "source": [
    "var = 123\n",
    "print var\n",
    "print a"
   ]
  },
  {
   "cell_type": "code",
   "execution_count": 5,
   "metadata": {},
   "outputs": [
    {
     "ename": "IOError",
     "evalue": "[Errno 2] No such file or directory: 'jkgjk'",
     "output_type": "error",
     "traceback": [
      "\u001b[1;31m---------------------------------------------------------------------------\u001b[0m",
      "\u001b[1;31mIOError\u001b[0m                                   Traceback (most recent call last)",
      "\u001b[1;32m<ipython-input-5-42763d3593ba>\u001b[0m in \u001b[0;36m<module>\u001b[1;34m()\u001b[0m\n\u001b[1;32m----> 1\u001b[1;33m \u001b[0mfo\u001b[0m \u001b[1;33m=\u001b[0m \u001b[0mopen\u001b[0m\u001b[1;33m(\u001b[0m\u001b[1;34m\"jkgjk\"\u001b[0m\u001b[1;33m,\u001b[0m\u001b[1;34m\"r\"\u001b[0m\u001b[1;33m)\u001b[0m\u001b[1;33m\u001b[0m\u001b[0m\n\u001b[0m\u001b[0;32m      2\u001b[0m \u001b[0mfo\u001b[0m\u001b[1;33m.\u001b[0m\u001b[0mclose\u001b[0m\u001b[1;33m(\u001b[0m\u001b[1;33m)\u001b[0m\u001b[1;33m\u001b[0m\u001b[0m\n",
      "\u001b[1;31mIOError\u001b[0m: [Errno 2] No such file or directory: 'jkgjk'"
     ]
    }
   ],
   "source": [
    "fo = open(\"jkgjk\",\"r\")\n",
    "fo.close()"
   ]
  },
  {
   "cell_type": "code",
   "execution_count": 6,
   "metadata": {},
   "outputs": [
    {
     "ename": "ImportError",
     "evalue": "No module named fgfkjg",
     "output_type": "error",
     "traceback": [
      "\u001b[1;31m---------------------------------------------------------------------------\u001b[0m",
      "\u001b[1;31mImportError\u001b[0m                               Traceback (most recent call last)",
      "\u001b[1;32m<ipython-input-6-6a6628a6f441>\u001b[0m in \u001b[0;36m<module>\u001b[1;34m()\u001b[0m\n\u001b[1;32m----> 1\u001b[1;33m \u001b[1;32mimport\u001b[0m \u001b[0mfgfkjg\u001b[0m\u001b[1;33m\u001b[0m\u001b[0m\n\u001b[0m",
      "\u001b[1;31mImportError\u001b[0m: No module named fgfkjg"
     ]
    }
   ],
   "source": [
    "import fgfkjg"
   ]
  },
  {
   "cell_type": "code",
   "execution_count": 7,
   "metadata": {},
   "outputs": [
    {
     "name": "stdout",
     "output_type": "stream",
     "text": [
      "hello\n",
      "hai\n",
      "bye\n"
     ]
    }
   ],
   "source": [
    "# TypeError , ValueError , NameError, IOError, ImportError , ZeroDevisionError, KeyError,IndexError\n",
    "\n",
    "# Exception  Handling \n",
    "'''\n",
    "==>> We need to handle the exception\n",
    "=->> which means we have to run the program even we got exception\n",
    "'''\n",
    "'''\n",
    "try :\n",
    "    program code\n",
    "    \n",
    "except:\n",
    "    this code can \n",
    "    executes when we get exception\n",
    "'''\n",
    "try :\n",
    "    print \"hello\"\n",
    "    print \"hai\"\n",
    "    print \"bye\"\n",
    "except:\n",
    "    print \"This is excepion block\""
   ]
  },
  {
   "cell_type": "code",
   "execution_count": 8,
   "metadata": {},
   "outputs": [
    {
     "name": "stdout",
     "output_type": "stream",
     "text": [
      "hello\n",
      "hai\n",
      "This is excepion block\n"
     ]
    }
   ],
   "source": [
    "try :\n",
    "    print \"hello\"\n",
    "    print \"hai\"\n",
    "    print a # NameError\n",
    "    print \"bye\"\n",
    "except:\n",
    "    print \"This is excepion block\""
   ]
  },
  {
   "cell_type": "code",
   "execution_count": 9,
   "metadata": {},
   "outputs": [
    {
     "name": "stdout",
     "output_type": "stream",
     "text": [
      "hello\n",
      "hai\n",
      "This is excepion block\n"
     ]
    }
   ],
   "source": [
    "try :\n",
    "    print \"hello\"\n",
    "    print \"hai\"\n",
    "    import dfdkfgjfgk  # ImportError\n",
    "    print \"bye\"\n",
    "except:\n",
    "    print \"This is excepion block\""
   ]
  },
  {
   "cell_type": "code",
   "execution_count": 11,
   "metadata": {},
   "outputs": [
    {
     "name": "stdout",
     "output_type": "stream",
     "text": [
      "hello\n",
      "hai\n",
      "This is Name Error Block\n"
     ]
    }
   ],
   "source": [
    "try :\n",
    "    print \"hello\"\n",
    "    print \"hai\"\n",
    "    print a\n",
    "    print \"bye\"\n",
    "except ValueError:\n",
    "    print \"This is Value Error block\"\n",
    "except NameError:\n",
    "    print \"This is Name Error Block\"\n",
    "except TypeError:\n",
    "    print \"This is Type Error Block\"\n",
    "except IOError :\n",
    "    print \"This is IO Error BLOCK\"\n",
    "except ZeroDivisionError:\n",
    "    print \"This is ZDE Block\"\n",
    "except ImportError:\n",
    "    print \"This is Import ErrorBlock\"\n",
    "except:\n",
    "    print \"This is default excepion block\""
   ]
  },
  {
   "cell_type": "code",
   "execution_count": 12,
   "metadata": {},
   "outputs": [
    {
     "name": "stdout",
     "output_type": "stream",
     "text": [
      "hello\n",
      "hai\n",
      "This is IO Error BLOCK\n"
     ]
    }
   ],
   "source": [
    "try :\n",
    "    print \"hello\"\n",
    "    print \"hai\"\n",
    "    open(\"fkdknngfkg\",\"r\")\n",
    "    print \"bye\"\n",
    "except ValueError:\n",
    "    print \"This is Value Error block\"\n",
    "except NameError:\n",
    "    print \"This is Name Error Block\"\n",
    "except TypeError:\n",
    "    print \"This is Type Error Block\"\n",
    "except IOError :\n",
    "    print \"This is IO Error BLOCK\"\n",
    "except ZeroDivisionError:\n",
    "    print \"This is ZDE Block\"\n",
    "except ImportError:\n",
    "    print \"This is Import ErrorBlock\"\n",
    "except:\n",
    "    print \"This is default excepion block\""
   ]
  },
  {
   "cell_type": "code",
   "execution_count": 13,
   "metadata": {},
   "outputs": [
    {
     "name": "stdout",
     "output_type": "stream",
     "text": [
      "hello\n",
      "hai\n",
      "This is Import ErrorBlock\n"
     ]
    }
   ],
   "source": [
    "try :\n",
    "    print \"hello\"\n",
    "    print \"hai\"\n",
    "    import dkdjfjkngfjgn\n",
    "    print \"bye\"\n",
    "except ValueError:\n",
    "    print \"This is Value Error block\"\n",
    "except NameError:\n",
    "    print \"This is Name Error Block\"\n",
    "except TypeError:\n",
    "    print \"This is Type Error Block\"\n",
    "except IOError :\n",
    "    print \"This is IO Error BLOCK\"\n",
    "except ZeroDivisionError:\n",
    "    print \"This is ZDE Block\"\n",
    "except ImportError:\n",
    "    print \"This is Import ErrorBlock\"\n",
    "except:\n",
    "    print \"This is default excepion block\""
   ]
  },
  {
   "cell_type": "code",
   "execution_count": 14,
   "metadata": {},
   "outputs": [
    {
     "name": "stdout",
     "output_type": "stream",
     "text": [
      "hello\n",
      "hai\n",
      "This is ZDE Block\n"
     ]
    }
   ],
   "source": [
    "try :\n",
    "    print \"hello\"\n",
    "    print \"hai\"\n",
    "    print 100/0\n",
    "    print \"bye\"\n",
    "except ValueError:\n",
    "    print \"This is Value Error block\"\n",
    "except NameError:\n",
    "    print \"This is Name Error Block\"\n",
    "except TypeError:\n",
    "    print \"This is Type Error Block\"\n",
    "except IOError :\n",
    "    print \"This is IO Error BLOCK\"\n",
    "except ZeroDivisionError:\n",
    "    print \"This is ZDE Block\"\n",
    "except ImportError:\n",
    "    print \"This is Import ErrorBlock\"\n",
    "except:\n",
    "    print \"This is default excepion block\""
   ]
  },
  {
   "cell_type": "code",
   "execution_count": 15,
   "metadata": {},
   "outputs": [
    {
     "name": "stdout",
     "output_type": "stream",
     "text": [
      "hello\n",
      "hai\n",
      "This is default excepion block\n"
     ]
    }
   ],
   "source": [
    "try :\n",
    "    print \"hello\"\n",
    "    print \"hai\"\n",
    "    a = {12:56 , 67:\"54\"}\n",
    "    print a[100]\n",
    "    print \"bye\"\n",
    "except ValueError:\n",
    "    print \"This is Value Error block\"\n",
    "except NameError:\n",
    "    print \"This is Name Error Block\"\n",
    "except TypeError:\n",
    "    print \"This is Type Error Block\"\n",
    "except IOError :\n",
    "    print \"This is IO Error BLOCK\"\n",
    "except ZeroDivisionError:\n",
    "    print \"This is ZDE Block\"\n",
    "except ImportError:\n",
    "    print \"This is Import ErrorBlock\"\n",
    "except:\n",
    "    print \"This is default excepion block\""
   ]
  },
  {
   "cell_type": "code",
   "execution_count": 16,
   "metadata": {},
   "outputs": [
    {
     "name": "stdout",
     "output_type": "stream",
     "text": [
      "hello\n",
      "hai\n",
      "This is Key error block\n"
     ]
    }
   ],
   "source": [
    "try :\n",
    "    print \"hello\"\n",
    "    print \"hai\"\n",
    "    a = {12:56 , 67:\"54\"}\n",
    "    print a[100]\n",
    "    print \"bye\"\n",
    "except ValueError:\n",
    "    print \"This is Value Error block\"\n",
    "except NameError:\n",
    "    print \"This is Name Error Block\"\n",
    "except TypeError:\n",
    "    print \"This is Type Error Block\"\n",
    "except IOError :\n",
    "    print \"This is IO Error BLOCK\"\n",
    "except ZeroDivisionError:\n",
    "    print \"This is ZDE Block\"\n",
    "except ImportError:\n",
    "    print \"This is Import ErrorBlock\"\n",
    "except  KeyError:\n",
    "    print \"This is Key error block\"\n",
    "\n",
    "except:\n",
    "    print \"This is default excepion block\""
   ]
  },
  {
   "cell_type": "code",
   "execution_count": 17,
   "metadata": {},
   "outputs": [
    {
     "name": "stdout",
     "output_type": "stream",
     "text": [
      "hello\n",
      "hai\n",
      "This is default excepion block\n"
     ]
    }
   ],
   "source": [
    "try :\n",
    "    print \"hello\"\n",
    "    print \"hai\"\n",
    "    a = {12:56 , 67:\"54\"}\n",
    "    print a[100]\n",
    "    print \"bye\"\n",
    "except ValueError:\n",
    "    print \"This is Value Error block\"\n",
    "except NameError:\n",
    "    print \"This is Name Error Block\"\n",
    "except TypeError:\n",
    "    print \"This is Type Error Block\"\n",
    "except IOError :\n",
    "    print \"This is IO Error BLOCK\"\n",
    "except ZeroDivisionError:\n",
    "    print \"This is ZDE Block\"\n",
    "except ImportError:\n",
    "    print \"This is Import ErrorBlock\"\n",
    "except:\n",
    "    print \"This is default excepion block\"\n",
    "else:\n",
    "    print \"If we won't get any exception\""
   ]
  },
  {
   "cell_type": "code",
   "execution_count": 18,
   "metadata": {},
   "outputs": [
    {
     "name": "stdout",
     "output_type": "stream",
     "text": [
      "hello\n",
      "hai\n",
      "bye\n",
      "If we won't get any exception\n"
     ]
    }
   ],
   "source": [
    "try :\n",
    "    print \"hello\"\n",
    "    print \"hai\"\n",
    "    print \"bye\"\n",
    "except ValueError:\n",
    "    print \"This is Value Error block\"\n",
    "except NameError:\n",
    "    print \"This is Name Error Block\"\n",
    "except TypeError:\n",
    "    print \"This is Type Error Block\"\n",
    "except IOError :\n",
    "    print \"This is IO Error BLOCK\"\n",
    "except ZeroDivisionError:\n",
    "    print \"This is ZDE Block\"\n",
    "except ImportError:\n",
    "    print \"This is Import ErrorBlock\"\n",
    "except:\n",
    "    print \"This is default excepion block\"\n",
    "else:\n",
    "    print \"If we won't get any exception\""
   ]
  },
  {
   "cell_type": "code",
   "execution_count": 19,
   "metadata": {},
   "outputs": [
    {
     "name": "stdout",
     "output_type": "stream",
     "text": [
      "hello\n",
      "hai\n",
      "bye\n",
      "If we won't get any exception\n",
      "Both cases finally can executed \n"
     ]
    }
   ],
   "source": [
    "try :\n",
    "    print \"hello\"\n",
    "    print \"hai\"\n",
    "    print \"bye\"\n",
    "except ValueError:\n",
    "    print \"This is Value Error block\"\n",
    "except NameError:\n",
    "    print \"This is Name Error Block\"\n",
    "except TypeError:\n",
    "    print \"This is Type Error Block\"\n",
    "except IOError :\n",
    "    print \"This is IO Error BLOCK\"\n",
    "except ZeroDivisionError:\n",
    "    print \"This is ZDE Block\"\n",
    "except ImportError:\n",
    "    print \"This is Import ErrorBlock\"\n",
    "except:\n",
    "    print \"This is default excepion block\"\n",
    "else:\n",
    "    print \"If we won't get any exception\"\n",
    "finally :\n",
    "    print \"Both cases finally can executed \""
   ]
  },
  {
   "cell_type": "code",
   "execution_count": 20,
   "metadata": {},
   "outputs": [
    {
     "name": "stdout",
     "output_type": "stream",
     "text": [
      "hello\n",
      "hai\n",
      "This is Import ErrorBlock\n",
      "Both cases finally can executed \n"
     ]
    }
   ],
   "source": [
    "try :\n",
    "    print \"hello\"\n",
    "    print \"hai\"\n",
    "    raise ImportError\n",
    "    print \"bye\"\n",
    "except ValueError:\n",
    "    print \"This is Value Error block\"\n",
    "except NameError:\n",
    "    print \"This is Name Error Block\"\n",
    "except TypeError:\n",
    "    print \"This is Type Error Block\"\n",
    "except IOError :\n",
    "    print \"This is IO Error BLOCK\"\n",
    "except ZeroDivisionError:\n",
    "    print \"This is ZDE Block\"\n",
    "except ImportError:\n",
    "    print \"This is Import ErrorBlock\"\n",
    "except:\n",
    "    print \"This is default excepion block\"\n",
    "else:\n",
    "    print \"If we won't get any exception\"\n",
    "finally :\n",
    "    print \"Both cases finally can executed \""
   ]
  },
  {
   "cell_type": "code",
   "execution_count": null,
   "metadata": {},
   "outputs": [],
   "source": []
  }
 ],
 "metadata": {
  "kernelspec": {
   "display_name": "Python 2",
   "language": "python",
   "name": "python2"
  },
  "language_info": {
   "codemirror_mode": {
    "name": "ipython",
    "version": 2
   },
   "file_extension": ".py",
   "mimetype": "text/x-python",
   "name": "python",
   "nbconvert_exporter": "python",
   "pygments_lexer": "ipython2",
   "version": "2.7.16"
  }
 },
 "nbformat": 4,
 "nbformat_minor": 2
}
