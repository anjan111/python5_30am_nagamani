{
 "cells": [
  {
   "cell_type": "code",
   "execution_count": 2,
   "metadata": {},
   "outputs": [
    {
     "name": "stdout",
     "output_type": "stream",
     "text": [
      "enter int : 123\n",
      "daata :  123\n",
      "<type 'str'>\n",
      "memory loc :  73025456\n"
     ]
    }
   ],
   "source": [
    "# function --->> Task\n",
    "########################\n",
    "'''\n",
    "----->>>> input functions --->> to read the data from keyboard\n",
    "       1. raw_input()\n",
    "       2. input()\n",
    "       \n",
    "--->>> Output function  ----->> display the data on monitor\n",
    "\n",
    "        1. print statement\n",
    "        2. print function\n",
    "---->> type() ------>>> to know the datatype\n",
    "---->> id()  ------->> to know the memory loc\n",
    "'''\n",
    "# wap read int by raw_input & display data, datatype, memory\n",
    "\n",
    "var = raw_input(\"enter int : \")\n",
    "print \"daata : \",var\n",
    "print type(var)\n",
    "print\"memory loc : \", id(var)"
   ]
  },
  {
   "cell_type": "code",
   "execution_count": 4,
   "metadata": {},
   "outputs": [
    {
     "name": "stdout",
     "output_type": "stream",
     "text": [
      "enter float : 78.656812\n",
      "daata :  78.656812\n",
      "<type 'str'>\n",
      "memory loc :  66811440\n"
     ]
    }
   ],
   "source": [
    "# wap read float by raw_input & display data, datatype, memory\n",
    "\n",
    "var = raw_input(\"enter float : \")\n",
    "print \"daata : \",var\n",
    "print type(var)\n",
    "print\"memory loc : \", id(var)"
   ]
  },
  {
   "cell_type": "code",
   "execution_count": 5,
   "metadata": {},
   "outputs": [
    {
     "name": "stdout",
     "output_type": "stream",
     "text": [
      "enter set : {12,5.67,45}\n",
      "daata :  {12,5.67,45}\n",
      "<type 'str'>\n",
      "memory loc :  72785520\n"
     ]
    }
   ],
   "source": [
    "# wap read  set by raw_input & display data, datatype, memory\n",
    "\n",
    "var = raw_input(\"enter set : \")\n",
    "print \"daata : \",var\n",
    "print type(var)\n",
    "print\"memory loc : \", id(var)"
   ]
  },
  {
   "cell_type": "code",
   "execution_count": 7,
   "metadata": {},
   "outputs": [
    {
     "name": "stdout",
     "output_type": "stream",
     "text": [
      "enter int : 789\n",
      "daata :  789\n",
      "<type 'int'>\n",
      "memory loc :  62008016\n"
     ]
    }
   ],
   "source": [
    "# wap read int by input & display data, datatype, memory\n",
    "\n",
    "var = input(\"enter int : \")\n",
    "print \"daata : \",var\n",
    "print type(var)\n",
    "print\"memory loc : \", id(var)"
   ]
  },
  {
   "cell_type": "code",
   "execution_count": 8,
   "metadata": {},
   "outputs": [
    {
     "name": "stdout",
     "output_type": "stream",
     "text": [
      "enter float : 786.5565\n",
      "daata :  786.5565\n",
      "<type 'float'>\n",
      "memory loc :  66106688\n"
     ]
    }
   ],
   "source": [
    "# wap read float by input & display data, datatype, memory\n",
    "\n",
    "var = input(\"enter float : \")\n",
    "print \"daata : \",var\n",
    "print type(var)\n",
    "print\"memory loc : \", id(var)"
   ]
  },
  {
   "cell_type": "code",
   "execution_count": 10,
   "metadata": {},
   "outputs": [
    {
     "name": "stdout",
     "output_type": "stream",
     "text": [
      "enter float : 78.6565\n",
      "daata with raw_input :  78.6565\n",
      " datatype with raw_input :  <type 'str'>\n",
      "memory loc  with raw_input:  73024936\n",
      "***************************\n",
      "enter float : 78.6565\n",
      "daata :  78.6565\n",
      "<type 'float'>\n",
      "memory loc :  66106568\n"
     ]
    }
   ],
   "source": [
    "# write 10 programs for each program one new datatype we should enter with input as well as raw_input\n",
    "var = raw_input(\"enter float : \")\n",
    "print \"daata with raw_input : \",var\n",
    "print \" datatype with raw_input : \" ,type(var)\n",
    "print\"memory loc  with raw_input: \", id(var)\n",
    "print \"***************************\"\n",
    "var = input(\"enter float : \")\n",
    "print \"daata : \",var\n",
    "print type(var)\n",
    "print\"memory loc : \", id(var)"
   ]
  },
  {
   "cell_type": "code",
   "execution_count": null,
   "metadata": {},
   "outputs": [],
   "source": [
    "# finish it "
   ]
  },
  {
   "cell_type": "code",
   "execution_count": 1,
   "metadata": {},
   "outputs": [
    {
     "name": "stdout",
     "output_type": "stream",
     "text": [
      "enter int : 456\n",
      "enter int : 256\n",
      "res :  456256\n"
     ]
    }
   ],
   "source": [
    "# wap addition of two numbers\n",
    "\n",
    "num1 = raw_input(\"enter int : \") # ----> str\n",
    "num2 = raw_input(\"enter int : \")# -----> str\n",
    "res =  num1 + num2\n",
    "print\"res : \",res"
   ]
  },
  {
   "cell_type": "code",
   "execution_count": 3,
   "metadata": {},
   "outputs": [
    {
     "name": "stdout",
     "output_type": "stream",
     "text": [
      "enter int : 789\n",
      "var :  789\n",
      "<type 'str'>\n",
      "************************\n",
      "var :  789\n",
      "<type 'int'>\n"
     ]
    }
   ],
   "source": [
    "# daatatype conversion functions \n",
    "'''\n",
    "--->> we can  convert one data type to another datatype\n",
    "'''\n",
    "#int() ---->> convert into int datatype\n",
    "#float()\n",
    "#complex()\n",
    "#bool()\n",
    "#str()\n",
    "#list()\n",
    "#tuple()\n",
    "#set()\n",
    "#dict()\n",
    "# wap read int by raw_input and then convert str_int to int\n",
    "\n",
    "var = raw_input(\"enter int : \")\n",
    "print \"var : \",var\n",
    "print type(var)\n",
    "print \"************************\"\n",
    "var = int(var)\n",
    "print \"var : \",var\n",
    "print type(var)"
   ]
  },
  {
   "cell_type": "code",
   "execution_count": 4,
   "metadata": {},
   "outputs": [
    {
     "name": "stdout",
     "output_type": "stream",
     "text": [
      "enter float : 78.98515\n",
      "var :  78.98515\n",
      "<type 'str'>\n",
      "************************\n",
      "var :  78.98515\n",
      "<type 'float'>\n"
     ]
    }
   ],
   "source": [
    "# wap read float by raw_input and then convert str_float to float\n",
    "var = raw_input(\"enter float : \")\n",
    "print \"var : \",var\n",
    "print type(var)\n",
    "print \"************************\"\n",
    "var = float(var)\n",
    "print \"var : \",var\n",
    "print type(var)"
   ]
  },
  {
   "cell_type": "code",
   "execution_count": 6,
   "metadata": {},
   "outputs": [
    {
     "name": "stdout",
     "output_type": "stream",
     "text": [
      "enter complex : 7+3j\n",
      "var :  7+3j\n",
      "<type 'str'>\n",
      "************************\n",
      "var :  (7+3j)\n",
      "<type 'complex'>\n"
     ]
    }
   ],
   "source": [
    "# wap read complex by raw_input and then convert str_complex to complex\n",
    "var = raw_input(\"enter complex : \")\n",
    "print \"var : \",var\n",
    "print type(var)\n",
    "print \"************************\"\n",
    "var = complex(var)\n",
    "print \"var : \",var\n",
    "print type(var)"
   ]
  },
  {
   "cell_type": "code",
   "execution_count": 8,
   "metadata": {},
   "outputs": [
    {
     "name": "stdout",
     "output_type": "stream",
     "text": [
      "enter bool : True\n",
      "var :  True\n",
      "<type 'str'>\n",
      "************************\n",
      "var :  True\n",
      "<type 'bool'>\n"
     ]
    }
   ],
   "source": [
    "# wap read bool by raw_input and then convert str_bool to bool\n",
    "var = raw_input(\"enter bool : \")\n",
    "print \"var : \",var\n",
    "print type(var)\n",
    "print \"************************\"\n",
    "var = bool(var)\n",
    "print \"var : \",var\n",
    "print type(var)"
   ]
  },
  {
   "cell_type": "code",
   "execution_count": 9,
   "metadata": {},
   "outputs": [
    {
     "name": "stdout",
     "output_type": "stream",
     "text": [
      "enter bool : False\n",
      "var :  False\n",
      "<type 'str'>\n",
      "************************\n",
      "var :  True\n",
      "<type 'bool'>\n"
     ]
    }
   ],
   "source": [
    "# wap read bool by raw_input and then convert str_bool to bool\n",
    "var = raw_input(\"enter bool : \")\n",
    "print \"var : \",var\n",
    "print type(var)\n",
    "print \"************************\"\n",
    "var = bool(var)\n",
    "print \"var : \",var\n",
    "print type(var)\n",
    "# why we are getting the True when i given str- False"
   ]
  },
  {
   "cell_type": "code",
   "execution_count": null,
   "metadata": {},
   "outputs": [],
   "source": [
    "# write remaining 5 programs for each time use new daatatype conversion function"
   ]
  },
  {
   "cell_type": "code",
   "execution_count": 10,
   "metadata": {},
   "outputs": [
    {
     "name": "stdout",
     "output_type": "stream",
     "text": [
      "enter float : 78.9861212\n",
      "data :  78.9861212\n",
      "<type 'float'>\n",
      "data :  78\n",
      "<type 'int'>\n"
     ]
    }
   ],
   "source": [
    "# datatype conversion function  \n",
    "'''\n",
    "To convert any daatatype to another datatype\n",
    "#int() ---->> convert into int datatype\n",
    "#float()--->> convert into float datatype\n",
    "#complex()--->>convert into complex datatype\n",
    "#bool() ---->>convert into bool datatype\n",
    "#str() ---->> convert into str datatype\n",
    "#list()--->> convert into list datatype\n",
    "#tuple()-->> convert into tuple datatype\n",
    "#set()---->> convert into set datatype\n",
    "#dict()--->> convert into dict datatype\n",
    "'''\n",
    "###### int function\n",
    "'''\n",
    "float ---->> success\n",
    "complex -->> error\n",
    "bool ---->> success\n",
    "Nonetype -->> error\n",
    "str ---->> success --->> when input is digits \n",
    "str --->> error  ----->> when input is having a character\n",
    "list, tuple,set,dict --->>>>>> error\n",
    "'''\n",
    "# wap read float data convert into int\n",
    "var = input(\"enter float : \")\n",
    "print \"data : \", var\n",
    "print type(var)\n",
    "var = int(var)\n",
    "print \"data : \", var\n",
    "print type(var)"
   ]
  },
  {
   "cell_type": "code",
   "execution_count": 11,
   "metadata": {},
   "outputs": [
    {
     "name": "stdout",
     "output_type": "stream",
     "text": [
      "enter complex : 7+3j\n",
      "data :  (7+3j)\n",
      "<type 'complex'>\n"
     ]
    },
    {
     "ename": "TypeError",
     "evalue": "can't convert complex to int",
     "output_type": "error",
     "traceback": [
      "\u001b[1;31m---------------------------------------------------------------------------\u001b[0m",
      "\u001b[1;31mTypeError\u001b[0m                                 Traceback (most recent call last)",
      "\u001b[1;32m<ipython-input-11-b9342734563c>\u001b[0m in \u001b[0;36m<module>\u001b[1;34m()\u001b[0m\n\u001b[0;32m      3\u001b[0m \u001b[1;32mprint\u001b[0m \u001b[1;34m\"data : \"\u001b[0m\u001b[1;33m,\u001b[0m \u001b[0mvar\u001b[0m\u001b[1;33m\u001b[0m\u001b[0m\n\u001b[0;32m      4\u001b[0m \u001b[1;32mprint\u001b[0m \u001b[0mtype\u001b[0m\u001b[1;33m(\u001b[0m\u001b[0mvar\u001b[0m\u001b[1;33m)\u001b[0m\u001b[1;33m\u001b[0m\u001b[0m\n\u001b[1;32m----> 5\u001b[1;33m \u001b[0mvar\u001b[0m \u001b[1;33m=\u001b[0m \u001b[0mint\u001b[0m\u001b[1;33m(\u001b[0m\u001b[0mvar\u001b[0m\u001b[1;33m)\u001b[0m\u001b[1;33m\u001b[0m\u001b[0m\n\u001b[0m\u001b[0;32m      6\u001b[0m \u001b[1;32mprint\u001b[0m \u001b[1;34m\"data : \"\u001b[0m\u001b[1;33m,\u001b[0m \u001b[0mvar\u001b[0m\u001b[1;33m\u001b[0m\u001b[0m\n\u001b[0;32m      7\u001b[0m \u001b[1;32mprint\u001b[0m \u001b[0mtype\u001b[0m\u001b[1;33m(\u001b[0m\u001b[0mvar\u001b[0m\u001b[1;33m)\u001b[0m\u001b[1;33m\u001b[0m\u001b[0m\n",
      "\u001b[1;31mTypeError\u001b[0m: can't convert complex to int"
     ]
    }
   ],
   "source": [
    "# wap read complex data convert into int\n",
    "var = input(\"enter complex : \")\n",
    "print \"data : \", var\n",
    "print type(var)\n",
    "var = int(var)\n",
    "print \"data : \", var\n",
    "print type(var)"
   ]
  },
  {
   "cell_type": "code",
   "execution_count": 12,
   "metadata": {},
   "outputs": [
    {
     "name": "stdout",
     "output_type": "stream",
     "text": [
      "enter bool : True\n",
      "data :  True\n",
      "<type 'bool'>\n",
      "data :  1\n",
      "<type 'int'>\n"
     ]
    }
   ],
   "source": [
    "# wap read bool data convert into int\n",
    "var = input(\"enter bool : \")\n",
    "print \"data : \", var\n",
    "print type(var)\n",
    "var = int(var)\n",
    "print \"data : \", var\n",
    "print type(var)"
   ]
  },
  {
   "cell_type": "code",
   "execution_count": 13,
   "metadata": {},
   "outputs": [
    {
     "name": "stdout",
     "output_type": "stream",
     "text": [
      "enter bool : False\n",
      "data :  False\n",
      "<type 'bool'>\n",
      "data :  0\n",
      "<type 'int'>\n"
     ]
    }
   ],
   "source": [
    "# wap read bool data convert into int\n",
    "var = input(\"enter bool : \")\n",
    "print \"data : \", var\n",
    "print type(var)\n",
    "var = int(var)\n",
    "print \"data : \", var\n",
    "print type(var)"
   ]
  },
  {
   "cell_type": "code",
   "execution_count": 14,
   "metadata": {},
   "outputs": [
    {
     "name": "stdout",
     "output_type": "stream",
     "text": [
      "enter Nonetype : None\n",
      "data :  None\n",
      "<type 'NoneType'>\n"
     ]
    },
    {
     "ename": "TypeError",
     "evalue": "int() argument must be a string or a number, not 'NoneType'",
     "output_type": "error",
     "traceback": [
      "\u001b[1;31m---------------------------------------------------------------------------\u001b[0m",
      "\u001b[1;31mTypeError\u001b[0m                                 Traceback (most recent call last)",
      "\u001b[1;32m<ipython-input-14-50becdff3527>\u001b[0m in \u001b[0;36m<module>\u001b[1;34m()\u001b[0m\n\u001b[0;32m      3\u001b[0m \u001b[1;32mprint\u001b[0m \u001b[1;34m\"data : \"\u001b[0m\u001b[1;33m,\u001b[0m \u001b[0mvar\u001b[0m\u001b[1;33m\u001b[0m\u001b[0m\n\u001b[0;32m      4\u001b[0m \u001b[1;32mprint\u001b[0m \u001b[0mtype\u001b[0m\u001b[1;33m(\u001b[0m\u001b[0mvar\u001b[0m\u001b[1;33m)\u001b[0m\u001b[1;33m\u001b[0m\u001b[0m\n\u001b[1;32m----> 5\u001b[1;33m \u001b[0mvar\u001b[0m \u001b[1;33m=\u001b[0m \u001b[0mint\u001b[0m\u001b[1;33m(\u001b[0m\u001b[0mvar\u001b[0m\u001b[1;33m)\u001b[0m\u001b[1;33m\u001b[0m\u001b[0m\n\u001b[0m\u001b[0;32m      6\u001b[0m \u001b[1;32mprint\u001b[0m \u001b[1;34m\"data : \"\u001b[0m\u001b[1;33m,\u001b[0m \u001b[0mvar\u001b[0m\u001b[1;33m\u001b[0m\u001b[0m\n\u001b[0;32m      7\u001b[0m \u001b[1;32mprint\u001b[0m \u001b[0mtype\u001b[0m\u001b[1;33m(\u001b[0m\u001b[0mvar\u001b[0m\u001b[1;33m)\u001b[0m\u001b[1;33m\u001b[0m\u001b[0m\n",
      "\u001b[1;31mTypeError\u001b[0m: int() argument must be a string or a number, not 'NoneType'"
     ]
    }
   ],
   "source": [
    "# wap read None data convert into int\n",
    "var = input(\"enter Nonetype : \")\n",
    "print \"data : \", var\n",
    "print type(var)\n",
    "var = int(var)\n",
    "print \"data : \", var\n",
    "print type(var)"
   ]
  },
  {
   "cell_type": "code",
   "execution_count": 15,
   "metadata": {},
   "outputs": [
    {
     "name": "stdout",
     "output_type": "stream",
     "text": [
      "enter str : \"123\"\n",
      "data :  123\n",
      "<type 'str'>\n",
      "data :  123\n",
      "<type 'int'>\n"
     ]
    }
   ],
   "source": [
    "# wap read str data convert into int\n",
    "var = input(\"enter str : \")\n",
    "print \"data : \", var\n",
    "print type(var)\n",
    "var = int(var)\n",
    "print \"data : \", var\n",
    "print type(var)"
   ]
  },
  {
   "cell_type": "code",
   "execution_count": 16,
   "metadata": {},
   "outputs": [
    {
     "name": "stdout",
     "output_type": "stream",
     "text": [
      "enter str : \"soc3\"\n",
      "data :  soc3\n",
      "<type 'str'>\n"
     ]
    },
    {
     "ename": "ValueError",
     "evalue": "invalid literal for int() with base 10: 'soc3'",
     "output_type": "error",
     "traceback": [
      "\u001b[1;31m---------------------------------------------------------------------------\u001b[0m",
      "\u001b[1;31mValueError\u001b[0m                                Traceback (most recent call last)",
      "\u001b[1;32m<ipython-input-16-db6cb7e8bad3>\u001b[0m in \u001b[0;36m<module>\u001b[1;34m()\u001b[0m\n\u001b[0;32m      3\u001b[0m \u001b[1;32mprint\u001b[0m \u001b[1;34m\"data : \"\u001b[0m\u001b[1;33m,\u001b[0m \u001b[0mvar\u001b[0m\u001b[1;33m\u001b[0m\u001b[0m\n\u001b[0;32m      4\u001b[0m \u001b[1;32mprint\u001b[0m \u001b[0mtype\u001b[0m\u001b[1;33m(\u001b[0m\u001b[0mvar\u001b[0m\u001b[1;33m)\u001b[0m\u001b[1;33m\u001b[0m\u001b[0m\n\u001b[1;32m----> 5\u001b[1;33m \u001b[0mvar\u001b[0m \u001b[1;33m=\u001b[0m \u001b[0mint\u001b[0m\u001b[1;33m(\u001b[0m\u001b[0mvar\u001b[0m\u001b[1;33m)\u001b[0m\u001b[1;33m\u001b[0m\u001b[0m\n\u001b[0m\u001b[0;32m      6\u001b[0m \u001b[1;32mprint\u001b[0m \u001b[1;34m\"data : \"\u001b[0m\u001b[1;33m,\u001b[0m \u001b[0mvar\u001b[0m\u001b[1;33m\u001b[0m\u001b[0m\n\u001b[0;32m      7\u001b[0m \u001b[1;32mprint\u001b[0m \u001b[0mtype\u001b[0m\u001b[1;33m(\u001b[0m\u001b[0mvar\u001b[0m\u001b[1;33m)\u001b[0m\u001b[1;33m\u001b[0m\u001b[0m\n",
      "\u001b[1;31mValueError\u001b[0m: invalid literal for int() with base 10: 'soc3'"
     ]
    }
   ],
   "source": [
    "# wap read str data convert into int\n",
    "var = input(\"enter str : \")\n",
    "print \"data : \", var\n",
    "print type(var)\n",
    "var = int(var)\n",
    "print \"data : \", var\n",
    "print type(var)"
   ]
  },
  {
   "cell_type": "code",
   "execution_count": 17,
   "metadata": {},
   "outputs": [
    {
     "name": "stdout",
     "output_type": "stream",
     "text": [
      "enter str : [12,45,5]\n",
      "data :  [12, 45, 5]\n",
      "<type 'list'>\n"
     ]
    },
    {
     "ename": "TypeError",
     "evalue": "int() argument must be a string or a number, not 'list'",
     "output_type": "error",
     "traceback": [
      "\u001b[1;31m---------------------------------------------------------------------------\u001b[0m",
      "\u001b[1;31mTypeError\u001b[0m                                 Traceback (most recent call last)",
      "\u001b[1;32m<ipython-input-17-e7b77988668f>\u001b[0m in \u001b[0;36m<module>\u001b[1;34m()\u001b[0m\n\u001b[0;32m      3\u001b[0m \u001b[1;32mprint\u001b[0m \u001b[1;34m\"data : \"\u001b[0m\u001b[1;33m,\u001b[0m \u001b[0mvar\u001b[0m\u001b[1;33m\u001b[0m\u001b[0m\n\u001b[0;32m      4\u001b[0m \u001b[1;32mprint\u001b[0m \u001b[0mtype\u001b[0m\u001b[1;33m(\u001b[0m\u001b[0mvar\u001b[0m\u001b[1;33m)\u001b[0m\u001b[1;33m\u001b[0m\u001b[0m\n\u001b[1;32m----> 5\u001b[1;33m \u001b[0mvar\u001b[0m \u001b[1;33m=\u001b[0m \u001b[0mint\u001b[0m\u001b[1;33m(\u001b[0m\u001b[0mvar\u001b[0m\u001b[1;33m)\u001b[0m\u001b[1;33m\u001b[0m\u001b[0m\n\u001b[0m\u001b[0;32m      6\u001b[0m \u001b[1;32mprint\u001b[0m \u001b[1;34m\"data : \"\u001b[0m\u001b[1;33m,\u001b[0m \u001b[0mvar\u001b[0m\u001b[1;33m\u001b[0m\u001b[0m\n\u001b[0;32m      7\u001b[0m \u001b[1;32mprint\u001b[0m \u001b[0mtype\u001b[0m\u001b[1;33m(\u001b[0m\u001b[0mvar\u001b[0m\u001b[1;33m)\u001b[0m\u001b[1;33m\u001b[0m\u001b[0m\n",
      "\u001b[1;31mTypeError\u001b[0m: int() argument must be a string or a number, not 'list'"
     ]
    }
   ],
   "source": [
    "# wap read list data convert into int\n",
    "var = input(\"enter list : \")\n",
    "print \"data : \", var\n",
    "print type(var)\n",
    "var = int(var)\n",
    "print \"data : \", var\n",
    "print type(var)"
   ]
  },
  {
   "cell_type": "code",
   "execution_count": 18,
   "metadata": {},
   "outputs": [
    {
     "name": "stdout",
     "output_type": "stream",
     "text": [
      "enter tuple : (12,45,23)\n",
      "data :  (12, 45, 23)\n",
      "<type 'tuple'>\n"
     ]
    },
    {
     "ename": "TypeError",
     "evalue": "int() argument must be a string or a number, not 'tuple'",
     "output_type": "error",
     "traceback": [
      "\u001b[1;31m---------------------------------------------------------------------------\u001b[0m",
      "\u001b[1;31mTypeError\u001b[0m                                 Traceback (most recent call last)",
      "\u001b[1;32m<ipython-input-18-d5d4a8949ecc>\u001b[0m in \u001b[0;36m<module>\u001b[1;34m()\u001b[0m\n\u001b[0;32m      3\u001b[0m \u001b[1;32mprint\u001b[0m \u001b[1;34m\"data : \"\u001b[0m\u001b[1;33m,\u001b[0m \u001b[0mvar\u001b[0m\u001b[1;33m\u001b[0m\u001b[0m\n\u001b[0;32m      4\u001b[0m \u001b[1;32mprint\u001b[0m \u001b[0mtype\u001b[0m\u001b[1;33m(\u001b[0m\u001b[0mvar\u001b[0m\u001b[1;33m)\u001b[0m\u001b[1;33m\u001b[0m\u001b[0m\n\u001b[1;32m----> 5\u001b[1;33m \u001b[0mvar\u001b[0m \u001b[1;33m=\u001b[0m \u001b[0mint\u001b[0m\u001b[1;33m(\u001b[0m\u001b[0mvar\u001b[0m\u001b[1;33m)\u001b[0m\u001b[1;33m\u001b[0m\u001b[0m\n\u001b[0m\u001b[0;32m      6\u001b[0m \u001b[1;32mprint\u001b[0m \u001b[1;34m\"data : \"\u001b[0m\u001b[1;33m,\u001b[0m \u001b[0mvar\u001b[0m\u001b[1;33m\u001b[0m\u001b[0m\n\u001b[0;32m      7\u001b[0m \u001b[1;32mprint\u001b[0m \u001b[0mtype\u001b[0m\u001b[1;33m(\u001b[0m\u001b[0mvar\u001b[0m\u001b[1;33m)\u001b[0m\u001b[1;33m\u001b[0m\u001b[0m\n",
      "\u001b[1;31mTypeError\u001b[0m: int() argument must be a string or a number, not 'tuple'"
     ]
    }
   ],
   "source": [
    "# wap read tuple data convert into int\n",
    "var = input(\"enter tuple : \")\n",
    "print \"data : \", var\n",
    "print type(var)\n",
    "var = int(var)\n",
    "print \"data : \", var\n",
    "print type(var)"
   ]
  },
  {
   "cell_type": "code",
   "execution_count": 19,
   "metadata": {},
   "outputs": [
    {
     "name": "stdout",
     "output_type": "stream",
     "text": [
      "enter set : {12,34,3}\n",
      "data :  set([34, 3, 12])\n",
      "<type 'set'>\n"
     ]
    },
    {
     "ename": "TypeError",
     "evalue": "int() argument must be a string or a number, not 'set'",
     "output_type": "error",
     "traceback": [
      "\u001b[1;31m---------------------------------------------------------------------------\u001b[0m",
      "\u001b[1;31mTypeError\u001b[0m                                 Traceback (most recent call last)",
      "\u001b[1;32m<ipython-input-19-0c8f9ea96ac7>\u001b[0m in \u001b[0;36m<module>\u001b[1;34m()\u001b[0m\n\u001b[0;32m      3\u001b[0m \u001b[1;32mprint\u001b[0m \u001b[1;34m\"data : \"\u001b[0m\u001b[1;33m,\u001b[0m \u001b[0mvar\u001b[0m\u001b[1;33m\u001b[0m\u001b[0m\n\u001b[0;32m      4\u001b[0m \u001b[1;32mprint\u001b[0m \u001b[0mtype\u001b[0m\u001b[1;33m(\u001b[0m\u001b[0mvar\u001b[0m\u001b[1;33m)\u001b[0m\u001b[1;33m\u001b[0m\u001b[0m\n\u001b[1;32m----> 5\u001b[1;33m \u001b[0mvar\u001b[0m \u001b[1;33m=\u001b[0m \u001b[0mint\u001b[0m\u001b[1;33m(\u001b[0m\u001b[0mvar\u001b[0m\u001b[1;33m)\u001b[0m\u001b[1;33m\u001b[0m\u001b[0m\n\u001b[0m\u001b[0;32m      6\u001b[0m \u001b[1;32mprint\u001b[0m \u001b[1;34m\"data : \"\u001b[0m\u001b[1;33m,\u001b[0m \u001b[0mvar\u001b[0m\u001b[1;33m\u001b[0m\u001b[0m\n\u001b[0;32m      7\u001b[0m \u001b[1;32mprint\u001b[0m \u001b[0mtype\u001b[0m\u001b[1;33m(\u001b[0m\u001b[0mvar\u001b[0m\u001b[1;33m)\u001b[0m\u001b[1;33m\u001b[0m\u001b[0m\n",
      "\u001b[1;31mTypeError\u001b[0m: int() argument must be a string or a number, not 'set'"
     ]
    }
   ],
   "source": [
    "# wap read set data convert into int\n",
    "var = input(\"enter set : \")\n",
    "print \"data : \", var\n",
    "print type(var)\n",
    "var = int(var)\n",
    "print \"data : \", var\n",
    "print type(var)"
   ]
  },
  {
   "cell_type": "code",
   "execution_count": 20,
   "metadata": {},
   "outputs": [
    {
     "name": "stdout",
     "output_type": "stream",
     "text": [
      "enter list : {23:3 ,6:3}\n",
      "data :  {6: 3, 23: 3}\n",
      "<type 'dict'>\n"
     ]
    },
    {
     "ename": "TypeError",
     "evalue": "int() argument must be a string or a number, not 'dict'",
     "output_type": "error",
     "traceback": [
      "\u001b[1;31m---------------------------------------------------------------------------\u001b[0m",
      "\u001b[1;31mTypeError\u001b[0m                                 Traceback (most recent call last)",
      "\u001b[1;32m<ipython-input-20-43ccdc978a15>\u001b[0m in \u001b[0;36m<module>\u001b[1;34m()\u001b[0m\n\u001b[0;32m      3\u001b[0m \u001b[1;32mprint\u001b[0m \u001b[1;34m\"data : \"\u001b[0m\u001b[1;33m,\u001b[0m \u001b[0mvar\u001b[0m\u001b[1;33m\u001b[0m\u001b[0m\n\u001b[0;32m      4\u001b[0m \u001b[1;32mprint\u001b[0m \u001b[0mtype\u001b[0m\u001b[1;33m(\u001b[0m\u001b[0mvar\u001b[0m\u001b[1;33m)\u001b[0m\u001b[1;33m\u001b[0m\u001b[0m\n\u001b[1;32m----> 5\u001b[1;33m \u001b[0mvar\u001b[0m \u001b[1;33m=\u001b[0m \u001b[0mint\u001b[0m\u001b[1;33m(\u001b[0m\u001b[0mvar\u001b[0m\u001b[1;33m)\u001b[0m\u001b[1;33m\u001b[0m\u001b[0m\n\u001b[0m\u001b[0;32m      6\u001b[0m \u001b[1;32mprint\u001b[0m \u001b[1;34m\"data : \"\u001b[0m\u001b[1;33m,\u001b[0m \u001b[0mvar\u001b[0m\u001b[1;33m\u001b[0m\u001b[0m\n\u001b[0;32m      7\u001b[0m \u001b[1;32mprint\u001b[0m \u001b[0mtype\u001b[0m\u001b[1;33m(\u001b[0m\u001b[0mvar\u001b[0m\u001b[1;33m)\u001b[0m\u001b[1;33m\u001b[0m\u001b[0m\n",
      "\u001b[1;31mTypeError\u001b[0m: int() argument must be a string or a number, not 'dict'"
     ]
    }
   ],
   "source": [
    "# wap read dict  data convert into int\n",
    "var = input(\"enter dict : \")\n",
    "print \"data : \", var\n",
    "print type(var)\n",
    "var = int(var)\n",
    "print \"data : \", var\n",
    "print type(var)"
   ]
  },
  {
   "cell_type": "code",
   "execution_count": null,
   "metadata": {},
   "outputs": [],
   "source": [
    "# list ---->> mutable  --->> elemenets in a list can modify\n",
    "\n",
    "# tuple---->> immutable  --->> elemenets in a tuple can't modify"
   ]
  },
  {
   "cell_type": "code",
   "execution_count": null,
   "metadata": {},
   "outputs": [],
   "source": [
    "# float funcction\n",
    "'''\n",
    "int --->>\n",
    "complex -->> \n",
    "bool   ----->>\n",
    "Nonetype --->>\n",
    "str--------->>\n",
    "str -------->>\n",
    "list\n",
    "tuple\n",
    "set\n",
    "dict\n",
    "\n",
    "'''"
   ]
  },
  {
   "cell_type": "code",
   "execution_count": null,
   "metadata": {},
   "outputs": [],
   "source": [
    "# complex funcction\n",
    "'''\n",
    "int --->>\n",
    "float -->> \n",
    "bool   ----->>\n",
    "Nonetype --->>\n",
    "str--------->>\n",
    "str -------->>\n",
    "list\n",
    "tuple\n",
    "set\n",
    "dict\n",
    "\n",
    "'''"
   ]
  },
  {
   "cell_type": "code",
   "execution_count": null,
   "metadata": {},
   "outputs": [],
   "source": [
    "# bool funcction\n",
    "'''\n",
    "int --->>\n",
    "float -->> \n",
    "complex   ----->>\n",
    "Nonetype --->>\n",
    "str--------->>\n",
    "str -------->>\n",
    "list\n",
    "tuple\n",
    "set\n",
    "dict\n",
    "\n",
    "'''"
   ]
  },
  {
   "cell_type": "code",
   "execution_count": null,
   "metadata": {},
   "outputs": [],
   "source": [
    "# str funcction\n",
    "'''\n",
    "int --->>\n",
    "complex -->> \n",
    "bool   ----->>\n",
    "float --->>\n",
    "Nonetype\n",
    "list\n",
    "tuple\n",
    "set\n",
    "dict\n",
    "\n",
    "'''"
   ]
  },
  {
   "cell_type": "code",
   "execution_count": null,
   "metadata": {},
   "outputs": [],
   "source": [
    "# list funcction\n",
    "'''\n",
    "int --->>\n",
    "float--->>\n",
    "complex -->> \n",
    "bool   ----->>\n",
    "Nonetype --->>\n",
    "str--------->>\n",
    "str -------->>\n",
    "tuple\n",
    "set\n",
    "dict\n",
    "\n",
    "'''"
   ]
  },
  {
   "cell_type": "code",
   "execution_count": null,
   "metadata": {},
   "outputs": [],
   "source": [
    "#set\n",
    "#dict"
   ]
  },
  {
   "cell_type": "code",
   "execution_count": null,
   "metadata": {},
   "outputs": [],
   "source": [
    "# tuple\n"
   ]
  },
  {
   "cell_type": "code",
   "execution_count": null,
   "metadata": {},
   "outputs": [],
   "source": [
    "#### str datatype ---->> full information"
   ]
  }
 ],
 "metadata": {
  "kernelspec": {
   "display_name": "Python 2",
   "language": "python",
   "name": "python2"
  },
  "language_info": {
   "codemirror_mode": {
    "name": "ipython",
    "version": 2
   },
   "file_extension": ".py",
   "mimetype": "text/x-python",
   "name": "python",
   "nbconvert_exporter": "python",
   "pygments_lexer": "ipython2",
   "version": "2.7.16"
  }
 },
 "nbformat": 4,
 "nbformat_minor": 2
}
