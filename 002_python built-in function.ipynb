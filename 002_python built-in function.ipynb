{
 "cells": [
  {
   "cell_type": "code",
   "execution_count": 2,
   "metadata": {},
   "outputs": [
    {
     "name": "stdout",
     "output_type": "stream",
     "text": [
      "enter int : 123\n",
      "daata :  123\n",
      "<type 'str'>\n",
      "memory loc :  73025456\n"
     ]
    }
   ],
   "source": [
    "# function --->> Task\n",
    "########################\n",
    "'''\n",
    "----->>>> input functions --->> to read the data from keyboard\n",
    "       1. raw_input()\n",
    "       2. input()\n",
    "       \n",
    "--->>> Output function  ----->> display the data on monitor\n",
    "\n",
    "        1. print statement\n",
    "        2. print function\n",
    "---->> type() ------>>> to know the datatype\n",
    "---->> id()  ------->> to know the memory loc\n",
    "'''\n",
    "# wap read int by raw_input & display data, datatype, memory\n",
    "\n",
    "var = raw_input(\"enter int : \")\n",
    "print \"daata : \",var\n",
    "print type(var)\n",
    "print\"memory loc : \", id(var)"
   ]
  },
  {
   "cell_type": "code",
   "execution_count": 4,
   "metadata": {},
   "outputs": [
    {
     "name": "stdout",
     "output_type": "stream",
     "text": [
      "enter float : 78.656812\n",
      "daata :  78.656812\n",
      "<type 'str'>\n",
      "memory loc :  66811440\n"
     ]
    }
   ],
   "source": [
    "# wap read float by raw_input & display data, datatype, memory\n",
    "\n",
    "var = raw_input(\"enter float : \")\n",
    "print \"daata : \",var\n",
    "print type(var)\n",
    "print\"memory loc : \", id(var)"
   ]
  },
  {
   "cell_type": "code",
   "execution_count": 5,
   "metadata": {},
   "outputs": [
    {
     "name": "stdout",
     "output_type": "stream",
     "text": [
      "enter set : {12,5.67,45}\n",
      "daata :  {12,5.67,45}\n",
      "<type 'str'>\n",
      "memory loc :  72785520\n"
     ]
    }
   ],
   "source": [
    "# wap read  set by raw_input & display data, datatype, memory\n",
    "\n",
    "var = raw_input(\"enter set : \")\n",
    "print \"daata : \",var\n",
    "print type(var)\n",
    "print\"memory loc : \", id(var)"
   ]
  },
  {
   "cell_type": "code",
   "execution_count": 7,
   "metadata": {},
   "outputs": [
    {
     "name": "stdout",
     "output_type": "stream",
     "text": [
      "enter int : 789\n",
      "daata :  789\n",
      "<type 'int'>\n",
      "memory loc :  62008016\n"
     ]
    }
   ],
   "source": [
    "# wap read int by input & display data, datatype, memory\n",
    "\n",
    "var = input(\"enter int : \")\n",
    "print \"daata : \",var\n",
    "print type(var)\n",
    "print\"memory loc : \", id(var)"
   ]
  },
  {
   "cell_type": "code",
   "execution_count": 8,
   "metadata": {},
   "outputs": [
    {
     "name": "stdout",
     "output_type": "stream",
     "text": [
      "enter float : 786.5565\n",
      "daata :  786.5565\n",
      "<type 'float'>\n",
      "memory loc :  66106688\n"
     ]
    }
   ],
   "source": [
    "# wap read float by input & display data, datatype, memory\n",
    "\n",
    "var = input(\"enter float : \")\n",
    "print \"daata : \",var\n",
    "print type(var)\n",
    "print\"memory loc : \", id(var)"
   ]
  },
  {
   "cell_type": "code",
   "execution_count": null,
   "metadata": {},
   "outputs": [
    {
     "name": "stdout",
     "output_type": "stream",
     "text": [
      "enter float : 78.6565\n",
      "daata with raw_input :  78.6565\n",
      " datatype with raw_input :  <type 'str'>\n",
      "memory loc  with raw_input:  73024936\n",
      "***************************\n"
     ]
    }
   ],
   "source": [
    "# write 10 programs for each program one new datatype we should enter with input as well as raw_input\n",
    "var = raw_input(\"enter float : \")\n",
    "print \"daata with raw_input : \",var\n",
    "print \" datatype with raw_input : \" ,type(var)\n",
    "print\"memory loc  with raw_input: \", id(var)\n",
    "print \"***************************\"\n",
    "var = input(\"enter float : \")\n",
    "print \"daata : \",var\n",
    "print type(var)\n",
    "print\"memory loc : \", id(var)"
   ]
  },
  {
   "cell_type": "code",
   "execution_count": null,
   "metadata": {},
   "outputs": [],
   "source": []
  }
 ],
 "metadata": {
  "kernelspec": {
   "display_name": "Python 2",
   "language": "python",
   "name": "python2"
  },
  "language_info": {
   "codemirror_mode": {
    "name": "ipython",
    "version": 2
   },
   "file_extension": ".py",
   "mimetype": "text/x-python",
   "name": "python",
   "nbconvert_exporter": "python",
   "pygments_lexer": "ipython2",
   "version": "2.7.16"
  }
 },
 "nbformat": 4,
 "nbformat_minor": 2
}
