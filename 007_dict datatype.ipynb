{
 "cells": [
  {
   "cell_type": "code",
   "execution_count": 1,
   "metadata": {},
   "outputs": [
    {
     "name": "stdout",
     "output_type": "stream",
     "text": [
      "<type 'dict'>\n"
     ]
    }
   ],
   "source": [
    "# dict -->> collection of items with in {}\n",
    "# item -->> combination of the key  and values -->>  key : value\n",
    "# empty dict\n",
    "var = {}\n",
    "print type(var)"
   ]
  },
  {
   "cell_type": "code",
   "execution_count": 2,
   "metadata": {},
   "outputs": [
    {
     "name": "stdout",
     "output_type": "stream",
     "text": [
      "{56: '45', 12: '34'}\n",
      "<type 'dict'>\n"
     ]
    }
   ],
   "source": [
    "# unordered datatype\n",
    "var = {12 : \"34\" , 56:\"45\"}\n",
    "print var\n",
    "print type(var)"
   ]
  },
  {
   "cell_type": "code",
   "execution_count": 3,
   "metadata": {},
   "outputs": [
    {
     "name": "stdout",
     "output_type": "stream",
     "text": [
      "{56: '45', 89: '45', 12: 100}\n",
      "<type 'dict'>\n"
     ]
    }
   ],
   "source": [
    "# dict its not allow the duplicate key items \n",
    "var = {12 : \"34\" , 56:\"45\" ,12:100, 89:\"45\"}\n",
    "print var\n",
    "print type(var)'45"
   ]
  },
  {
   "cell_type": "code",
   "execution_count": 4,
   "metadata": {},
   "outputs": [
    {
     "name": "stdout",
     "output_type": "stream",
     "text": [
      "{8: (4+5j), 34: True, 67: None, 12: 34, 45: 5.3}\n"
     ]
    }
   ],
   "source": [
    "# any daata type elements we can use a value\n",
    "var = {12: 34,45:5.3,8:4+5j, 34 : True , 67:None}\n",
    "print var"
   ]
  },
  {
   "cell_type": "code",
   "execution_count": 5,
   "metadata": {},
   "outputs": [
    {
     "name": "stdout",
     "output_type": "stream",
     "text": [
      "{8: (5, (4+5j)), 34: set([True, 5]), 67: {45: 5}, 12: '34', 45: [5.3, 5]}\n"
     ]
    }
   ],
   "source": [
    "# any daata type elements we can use a value\n",
    "var = {12: \"34\", 45: [5.3,5] ,8: (5,4+5j), 34 : {True,5} , 67:{45:5}}\n",
    "print var"
   ]
  },
  {
   "cell_type": "code",
   "execution_count": 6,
   "metadata": {},
   "outputs": [
    {
     "name": "stdout",
     "output_type": "stream",
     "text": [
      "{False: True, 45.8: 5.3, 12: 34, (8+4j): (4+5j), None: None}\n"
     ]
    }
   ],
   "source": [
    "# any daata fundaametal  type elements we can use a key\n",
    "var = {12: 34, 45.8 :5.3, 8+4j :4+5j, False : True , None :None}\n",
    "print var"
   ]
  },
  {
   "cell_type": "code",
   "execution_count": 7,
   "metadata": {},
   "outputs": [
    {
     "name": "stdout",
     "output_type": "stream",
     "text": [
      "{False: True, '12': 34, (8+4j): (4+5j), (1, 2, 5): 5.3, None: None}\n"
     ]
    }
   ],
   "source": [
    "#we can use str, tuple we can use as a key \n",
    "var = {\"12\": 34, (1,2,5) :5.3, 8+4j :4+5j, False : True , None :None}\n",
    "print var"
   ]
  },
  {
   "cell_type": "code",
   "execution_count": 8,
   "metadata": {},
   "outputs": [
    {
     "ename": "TypeError",
     "evalue": "unhashable type: 'list'",
     "output_type": "error",
     "traceback": [
      "\u001b[1;31m---------------------------------------------------------------------------\u001b[0m",
      "\u001b[1;31mTypeError\u001b[0m                                 Traceback (most recent call last)",
      "\u001b[1;32m<ipython-input-8-6af69763b35c>\u001b[0m in \u001b[0;36m<module>\u001b[1;34m()\u001b[0m\n\u001b[0;32m      1\u001b[0m \u001b[1;31m#we can use str, tuple we can use as a key\u001b[0m\u001b[1;33m\u001b[0m\u001b[1;33m\u001b[0m\u001b[0m\n\u001b[1;32m----> 2\u001b[1;33m \u001b[0mvar\u001b[0m \u001b[1;33m=\u001b[0m \u001b[1;33m{\u001b[0m\u001b[1;34m\"12\"\u001b[0m\u001b[1;33m:\u001b[0m \u001b[1;36m34\u001b[0m\u001b[1;33m,\u001b[0m \u001b[1;33m[\u001b[0m\u001b[1;36m1\u001b[0m\u001b[1;33m,\u001b[0m\u001b[1;36m2\u001b[0m\u001b[1;33m,\u001b[0m\u001b[1;36m5\u001b[0m\u001b[1;33m]\u001b[0m \u001b[1;33m:\u001b[0m\u001b[1;36m5.3\u001b[0m\u001b[1;33m,\u001b[0m \u001b[1;36m8\u001b[0m\u001b[1;33m+\u001b[0m\u001b[1;36m4j\u001b[0m \u001b[1;33m:\u001b[0m\u001b[1;36m4\u001b[0m\u001b[1;33m+\u001b[0m\u001b[1;36m5j\u001b[0m\u001b[1;33m,\u001b[0m \u001b[0mFalse\u001b[0m \u001b[1;33m:\u001b[0m \u001b[0mTrue\u001b[0m \u001b[1;33m,\u001b[0m \u001b[0mNone\u001b[0m \u001b[1;33m:\u001b[0m\u001b[0mNone\u001b[0m\u001b[1;33m}\u001b[0m\u001b[1;33m\u001b[0m\u001b[0m\n\u001b[0m\u001b[0;32m      3\u001b[0m \u001b[1;32mprint\u001b[0m \u001b[0mvar\u001b[0m\u001b[1;33m\u001b[0m\u001b[0m\n",
      "\u001b[1;31mTypeError\u001b[0m: unhashable type: 'list'"
     ]
    }
   ],
   "source": [
    "#we can use str, tuple we can use as a key \n",
    "var = {\"12\": 34, [1,2,5] :5.3, 8+4j :4+5j, False : True , None :None}\n",
    "print var"
   ]
  },
  {
   "cell_type": "code",
   "execution_count": 9,
   "metadata": {},
   "outputs": [
    {
     "ename": "TypeError",
     "evalue": "unhashable type: 'set'",
     "output_type": "error",
     "traceback": [
      "\u001b[1;31m---------------------------------------------------------------------------\u001b[0m",
      "\u001b[1;31mTypeError\u001b[0m                                 Traceback (most recent call last)",
      "\u001b[1;32m<ipython-input-9-ecdb724be314>\u001b[0m in \u001b[0;36m<module>\u001b[1;34m()\u001b[0m\n\u001b[0;32m      1\u001b[0m \u001b[1;31m#we can use str, tuple we can use as a key\u001b[0m\u001b[1;33m\u001b[0m\u001b[1;33m\u001b[0m\u001b[0m\n\u001b[1;32m----> 2\u001b[1;33m \u001b[0mvar\u001b[0m \u001b[1;33m=\u001b[0m \u001b[1;33m{\u001b[0m\u001b[1;34m\"12\"\u001b[0m\u001b[1;33m:\u001b[0m \u001b[1;36m34\u001b[0m\u001b[1;33m,\u001b[0m \u001b[1;33m{\u001b[0m\u001b[1;36m1\u001b[0m\u001b[1;33m,\u001b[0m\u001b[1;36m2\u001b[0m\u001b[1;33m,\u001b[0m\u001b[1;36m5\u001b[0m\u001b[1;33m}\u001b[0m \u001b[1;33m:\u001b[0m\u001b[1;36m5.3\u001b[0m\u001b[1;33m,\u001b[0m \u001b[1;36m8\u001b[0m\u001b[1;33m+\u001b[0m\u001b[1;36m4j\u001b[0m \u001b[1;33m:\u001b[0m\u001b[1;36m4\u001b[0m\u001b[1;33m+\u001b[0m\u001b[1;36m5j\u001b[0m\u001b[1;33m,\u001b[0m \u001b[0mFalse\u001b[0m \u001b[1;33m:\u001b[0m \u001b[0mTrue\u001b[0m \u001b[1;33m,\u001b[0m \u001b[0mNone\u001b[0m \u001b[1;33m:\u001b[0m\u001b[0mNone\u001b[0m\u001b[1;33m}\u001b[0m\u001b[1;33m\u001b[0m\u001b[0m\n\u001b[0m\u001b[0;32m      3\u001b[0m \u001b[1;32mprint\u001b[0m \u001b[0mvar\u001b[0m\u001b[1;33m\u001b[0m\u001b[0m\n",
      "\u001b[1;31mTypeError\u001b[0m: unhashable type: 'set'"
     ]
    }
   ],
   "source": [
    "#we can use str, tuple we can use as a key \n",
    "var = {\"12\": 34, {1,2,5} :5.3, 8+4j :4+5j, False : True , None :None}\n",
    "print var"
   ]
  },
  {
   "cell_type": "code",
   "execution_count": 10,
   "metadata": {},
   "outputs": [
    {
     "ename": "TypeError",
     "evalue": "unhashable type: 'dict'",
     "output_type": "error",
     "traceback": [
      "\u001b[1;31m---------------------------------------------------------------------------\u001b[0m",
      "\u001b[1;31mTypeError\u001b[0m                                 Traceback (most recent call last)",
      "\u001b[1;32m<ipython-input-10-a15c5e62beaf>\u001b[0m in \u001b[0;36m<module>\u001b[1;34m()\u001b[0m\n\u001b[0;32m      1\u001b[0m \u001b[1;31m#we can use str, tuple we can use as a key\u001b[0m\u001b[1;33m\u001b[0m\u001b[1;33m\u001b[0m\u001b[0m\n\u001b[1;32m----> 2\u001b[1;33m \u001b[0mvar\u001b[0m \u001b[1;33m=\u001b[0m \u001b[1;33m{\u001b[0m\u001b[1;34m\"12\"\u001b[0m\u001b[1;33m:\u001b[0m \u001b[1;36m34\u001b[0m\u001b[1;33m,\u001b[0m \u001b[1;33m{\u001b[0m\u001b[1;36m34\u001b[0m\u001b[1;33m:\u001b[0m\u001b[1;36m556\u001b[0m\u001b[1;33m}\u001b[0m \u001b[1;33m:\u001b[0m\u001b[1;36m5.3\u001b[0m\u001b[1;33m,\u001b[0m \u001b[1;36m8\u001b[0m\u001b[1;33m+\u001b[0m\u001b[1;36m4j\u001b[0m \u001b[1;33m:\u001b[0m\u001b[1;36m4\u001b[0m\u001b[1;33m+\u001b[0m\u001b[1;36m5j\u001b[0m\u001b[1;33m,\u001b[0m \u001b[0mFalse\u001b[0m \u001b[1;33m:\u001b[0m \u001b[0mTrue\u001b[0m \u001b[1;33m,\u001b[0m \u001b[0mNone\u001b[0m \u001b[1;33m:\u001b[0m\u001b[0mNone\u001b[0m\u001b[1;33m}\u001b[0m\u001b[1;33m\u001b[0m\u001b[0m\n\u001b[0m\u001b[0;32m      3\u001b[0m \u001b[1;32mprint\u001b[0m \u001b[0mvar\u001b[0m\u001b[1;33m\u001b[0m\u001b[0m\n",
      "\u001b[1;31mTypeError\u001b[0m: unhashable type: 'dict'"
     ]
    }
   ],
   "source": [
    "#we can use str, tuple we can use as a key \n",
    "var = {\"12\": 34, {34:556} :5.3, 8+4j :4+5j, False : True , None :None}\n",
    "print var"
   ]
  },
  {
   "cell_type": "code",
   "execution_count": 11,
   "metadata": {},
   "outputs": [
    {
     "name": "stdout",
     "output_type": "stream",
     "text": [
      "{False: True, '12': 34, (8+4j): (4+5j), (1, 2, 5): 5.3, None: None}\n"
     ]
    }
   ],
   "source": [
    "#we can 't access the items using indexing'\n",
    "var = {\"12\": 34, (1,2,5) :5.3, 8+4j :4+5j, False : True , None :None}\n",
    "print var"
   ]
  },
  {
   "cell_type": "code",
   "execution_count": 12,
   "metadata": {},
   "outputs": [
    {
     "ename": "KeyError",
     "evalue": "1",
     "output_type": "error",
     "traceback": [
      "\u001b[1;31m---------------------------------------------------------------------------\u001b[0m",
      "\u001b[1;31mKeyError\u001b[0m                                  Traceback (most recent call last)",
      "\u001b[1;32m<ipython-input-12-33ed59daa202>\u001b[0m in \u001b[0;36m<module>\u001b[1;34m()\u001b[0m\n\u001b[1;32m----> 1\u001b[1;33m \u001b[0mvar\u001b[0m\u001b[1;33m[\u001b[0m\u001b[1;36m1\u001b[0m\u001b[1;33m]\u001b[0m\u001b[1;33m\u001b[0m\u001b[0m\n\u001b[0m",
      "\u001b[1;31mKeyError\u001b[0m: 1"
     ]
    }
   ],
   "source": [
    "var[1]"
   ]
  },
  {
   "cell_type": "code",
   "execution_count": 13,
   "metadata": {},
   "outputs": [
    {
     "name": "stdout",
     "output_type": "stream",
     "text": [
      "{False: True, '12': 34, (8+4j): (4+5j), (1, 2, 5): 5.3, None: None}\n",
      "34\n",
      "5.3\n"
     ]
    }
   ],
   "source": [
    "# we can use the values using key as an index\n",
    "#we can 't access the items using indexing'\n",
    "var = {\"12\": 34, (1,2,5) :5.3, 8+4j :4+5j, False : True , None :None}\n",
    "print var\n",
    "print var[\"12\"]\n",
    "print var[(1,2,5)]"
   ]
  },
  {
   "cell_type": "code",
   "execution_count": 14,
   "metadata": {},
   "outputs": [
    {
     "name": "stdout",
     "output_type": "stream",
     "text": [
      "{False: True, '12': 34, (8+4j): (4+5j), (1, 2, 5): 5.3, None: None}\n",
      "34\n",
      "{False: True, '12': 3490, (8+4j): (4+5j), (1, 2, 5): 5.3, None: None}\n"
     ]
    }
   ],
   "source": [
    "# we can use the values using key as an index\n",
    "#we can 't access the items using indexing'\n",
    "var = {\"12\": 34, (1,2,5) :5.3, 8+4j :4+5j, False : True , None :None}\n",
    "print var\n",
    "print var[\"12\"]\n",
    "var[\"12\"] =3490\n",
    "print var"
   ]
  },
  {
   "cell_type": "code",
   "execution_count": 15,
   "metadata": {},
   "outputs": [
    {
     "name": "stdout",
     "output_type": "stream",
     "text": [
      "{False: True, '12': 34, (8+4j): (4+5j), (1, 2, 5): 5.3, None: None}\n",
      "{}\n"
     ]
    }
   ],
   "source": [
    "# we can use the values using key as an index\n",
    "#we can 't access the items using indexing'\n",
    "var = {\"12\": 34, (1,2,5) :5.3, 8+4j :4+5j, False : True , None :None}\n",
    "print var\n",
    "\n",
    "var.clear()\n",
    "print var"
   ]
  },
  {
   "cell_type": "code",
   "execution_count": 16,
   "metadata": {},
   "outputs": [
    {
     "name": "stdout",
     "output_type": "stream",
     "text": [
      "{False: True, '12': 34, (8+4j): (4+5j), (1, 2, 5): 5.3, None: None}\n",
      "(4+5j)\n",
      "{False: True, '12': 34, (1, 2, 5): 5.3, None: None}\n",
      "None\n",
      "{False: True, '12': 34, (1, 2, 5): 5.3}\n"
     ]
    }
   ],
   "source": [
    "var = {\"12\": 34, (1,2,5) :5.3, 8+4j :4+5j, False : True , None :None}\n",
    "print var\n",
    "print var.pop(8+4j)# remove the item key is the input for pop \n",
    "print var\n",
    "print var.pop(None)# same like list\n",
    "print var"
   ]
  },
  {
   "cell_type": "code",
   "execution_count": 17,
   "metadata": {},
   "outputs": [
    {
     "name": "stdout",
     "output_type": "stream",
     "text": [
      "{False: True, '12': 34, (8+4j): (4+5j), (1, 2, 5): 5.3, None: None}\n",
      "(False, True)\n",
      "{'12': 34, (8+4j): (4+5j), (1, 2, 5): 5.3, None: None}\n",
      "('12', 34)\n",
      "{(8+4j): (4+5j), (1, 2, 5): 5.3, None: None}\n"
     ]
    }
   ],
   "source": [
    "var = {\"12\": 34, (1,2,5) :5.3, 8+4j :4+5j, False : True , None :None}\n",
    "print var\n",
    "print var.popitem()# same lik set pop method\n",
    "print var\n",
    "print var.popitem()\n",
    "print var"
   ]
  },
  {
   "cell_type": "code",
   "execution_count": 18,
   "metadata": {},
   "outputs": [
    {
     "name": "stdout",
     "output_type": "stream",
     "text": [
      "{False: True, '12': 34, (8+4j): (4+5j), (1, 2, 5): 5.3, None: None}\n",
      "[True, 34, (4+5j), 5.3, None]\n",
      "[False, '12', (8+4j), (1, 2, 5), None]\n",
      "[(False, True), ('12', 34), ((8+4j), (4+5j)), ((1, 2, 5), 5.3), (None, None)]\n"
     ]
    }
   ],
   "source": [
    "var = {\"12\": 34, (1,2,5) :5.3, 8+4j :4+5j, False : True , None :None}\n",
    "print var\n",
    "print var.values()\n",
    "print var.keys()\n",
    "print var.items()"
   ]
  },
  {
   "cell_type": "code",
   "execution_count": 19,
   "metadata": {},
   "outputs": [
    {
     "name": "stdout",
     "output_type": "stream",
     "text": [
      "{False: True, '12': 34, (8+4j): (4+5j), (1, 2, 5): 5.3, None: None}\n",
      "{False: True, 45.8: 5.3, 12: 34, (8+4j): (4+5j), None: None}\n",
      "{False: True, '12': 34, None: None, 12: 34, (8+4j): (4+5j), 45.8: 5.3, (1, 2, 5): 5.3}\n",
      "{False: True, 45.8: 5.3, 12: 34, (8+4j): (4+5j), None: None}\n"
     ]
    }
   ],
   "source": [
    "a = {\"12\": 34, (1,2,5) :5.3, 8+4j :4+5j, False : True , None :None}\n",
    "\n",
    "b = {12: 34, 45.8 :5.3, 8+4j :4+5j, False : True , None :None}\n",
    "print a\n",
    "print b\n",
    "a.update(b)\n",
    "print a\n",
    "print b"
   ]
  },
  {
   "cell_type": "code",
   "execution_count": null,
   "metadata": {},
   "outputs": [],
   "source": []
  }
 ],
 "metadata": {
  "kernelspec": {
   "display_name": "Python 2",
   "language": "python",
   "name": "python2"
  },
  "language_info": {
   "codemirror_mode": {
    "name": "ipython",
    "version": 2
   },
   "file_extension": ".py",
   "mimetype": "text/x-python",
   "name": "python",
   "nbconvert_exporter": "python",
   "pygments_lexer": "ipython2",
   "version": "2.7.16"
  }
 },
 "nbformat": 4,
 "nbformat_minor": 2
}
