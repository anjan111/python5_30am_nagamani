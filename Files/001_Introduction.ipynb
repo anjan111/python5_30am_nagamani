{
 "cells": [
  {
   "cell_type": "markdown",
   "metadata": {},
   "source": [
    "File :-\n",
    "--------\n",
    "\n",
    "==>> Part of the storage container\n",
    "\n",
    "==>> Which caontains related data\n",
    "\n",
    "\n",
    "Types Of Files :-\n",
    "---------------------\n",
    "\n",
    "==>> There are 2 types of files \n",
    "\n",
    "1. Text File \n",
    "\n",
    "    ==>> which conains alphanumarical data\n",
    "     \n",
    "    ==>> we can easy to write and read\n",
    "\n",
    "    ==>>  .txt  ,  .doc , .docx\n",
    "\n",
    "2. Binary File\n",
    "\n",
    "    ==>> Which contains binary data( 0 ,1 )\n",
    "    \n",
    "    ==>> It's not east write and read\n",
    "    \n",
    "    ==>>  image files  , video  files , executable files\n",
    "    \n",
    "\n",
    "File Operations :-\n",
    "-------------------------\n",
    "\n",
    "==>>We can do some tasks on files\n",
    "\n",
    "==>>Creating a file \n",
    "\n",
    "==>>Opening a file \n",
    "\n",
    "==>>Reading a file\n",
    "\n",
    "==>>Writinng a file \n",
    "\n",
    "==>>Seeking a cursor in a file  \n",
    "\n",
    "==>>Closing a file\n",
    "\n",
    "\n",
    "File Operations Methods :-\n",
    "----------------------------------\n",
    "\n",
    "==>> All File operations methods are available in FILE class\n",
    "\n",
    "==>> If you want to use all file operational methods , we have to create a file object \n",
    "\n",
    "==>> we have below file operations methods \n",
    "\n",
    "        1. write()\n",
    "        \n",
    "        2. read()\n",
    "        \n",
    "        3. seek()\n",
    "        \n",
    "        4. tell()\n",
    "        \n",
    "        5. close()\n",
    "        \n",
    "        6. readline()\n",
    "        \n",
    "        7. readlines()\n",
    "        \n",
    "==>> With help of open() function we can create a file object\n",
    "\n",
    "==>> Syntax of open function\n",
    "\n",
    "\n",
    "file_object  = open(\"file_name_with_path\",\"mode_operation\")\n",
    "\n",
    "\n",
    "mode_operation:-\n",
    "------------------------\n",
    "\n",
    "===>>> Setting the some permission before open a file\n",
    "\n",
    "1. write mode\n",
    "\n",
    "    ===>>Target file is not existed then create a new target file \n",
    "\n",
    "    ===>>The Target file is existed with some data then it can open but data can lost\n",
    "    \n",
    "    w ==>> only write methods can work , can't work read methods\n",
    "    \n",
    "    w+ ==> both write and read methods can work.\n",
    "\n",
    "2. append mode\n",
    "\n",
    "    ===>>Target file is not existed then create a new target file \n",
    "    \n",
    "    ===>>The Target file is existed with some data then it can open but data can safe\n",
    "    \n",
    "    ===>>The previous data can't be modify.\n",
    "    \n",
    "    a ==>> we just add at end of the file and can't use read methods \n",
    "    \n",
    "    a+ ==>> we can add at EOF and we can use read and write methods\n",
    "    \n",
    "    \n",
    "3. read mode\n",
    "\n",
    "    ===>>Target file is not existed then raise the IO Error \n",
    "    \n",
    "    ===>>The Target file is existed with some data then it can open but data can safe\n",
    "    \n",
    "    r ===>> only read method can work\n",
    "    \n",
    "    r+ ===>>The previous data can be modify. ( read + write )"
   ]
  },
  {
   "cell_type": "code",
   "execution_count": 1,
   "metadata": {},
   "outputs": [
    {
     "ename": "IOError",
     "evalue": "File not open for reading",
     "output_type": "error",
     "traceback": [
      "\u001b[1;31m---------------------------------------------------------------------------\u001b[0m",
      "\u001b[1;31mIOError\u001b[0m                                   Traceback (most recent call last)",
      "\u001b[1;32m<ipython-input-1-1837fcb7df92>\u001b[0m in \u001b[0;36m<module>\u001b[1;34m()\u001b[0m\n\u001b[0;32m      2\u001b[0m \u001b[1;33m\u001b[0m\u001b[0m\n\u001b[0;32m      3\u001b[0m \u001b[0mfo\u001b[0m \u001b[1;33m=\u001b[0m \u001b[0mopen\u001b[0m\u001b[1;33m(\u001b[0m\u001b[1;34m\"sample1.txt\"\u001b[0m\u001b[1;33m,\u001b[0m\u001b[1;34m\"w\"\u001b[0m\u001b[1;33m)\u001b[0m\u001b[1;33m\u001b[0m\u001b[0m\n\u001b[1;32m----> 4\u001b[1;33m \u001b[1;32mprint\u001b[0m \u001b[0mfo\u001b[0m\u001b[1;33m.\u001b[0m\u001b[0mread\u001b[0m\u001b[1;33m(\u001b[0m\u001b[1;33m)\u001b[0m\u001b[1;33m\u001b[0m\u001b[0m\n\u001b[0m\u001b[0;32m      5\u001b[0m \u001b[0mfo\u001b[0m\u001b[1;33m.\u001b[0m\u001b[0mclose\u001b[0m\u001b[1;33m(\u001b[0m\u001b[1;33m)\u001b[0m\u001b[1;33m\u001b[0m\u001b[0m\n",
      "\u001b[1;31mIOError\u001b[0m: File not open for reading"
     ]
    }
   ],
   "source": [
    "# write mode\n",
    "\n",
    "fo = open(\"sample1.txt\",\"w\")\n",
    "print fo.read()\n",
    "fo.close()"
   ]
  },
  {
   "cell_type": "code",
   "execution_count": 2,
   "metadata": {},
   "outputs": [],
   "source": [
    "# write mode\n",
    "\n",
    "fo = open(\"sample1.txt\",\"w\")# file having some data \n",
    "#print fo.read()\n",
    "fo.close()"
   ]
  },
  {
   "cell_type": "code",
   "execution_count": 3,
   "metadata": {},
   "outputs": [],
   "source": [
    "fo = open(\"sample2.txt\",\"w+\")\n",
    "fo.close()"
   ]
  },
  {
   "cell_type": "code",
   "execution_count": 4,
   "metadata": {},
   "outputs": [
    {
     "name": "stdout",
     "output_type": "stream",
     "text": [
      "\n"
     ]
    }
   ],
   "source": [
    "fo = open(\"sample2.txt\",\"w+\")\n",
    "print fo.read()# No error\n",
    "fo.close()"
   ]
  },
  {
   "cell_type": "code",
   "execution_count": 6,
   "metadata": {},
   "outputs": [
    {
     "name": "stdout",
     "output_type": "stream",
     "text": [
      "\n",
      "enter new data\"anjan Kumar python trainer\"\n",
      "anjan Kumar python trainer\n",
      "an Kumar python trainer\n"
     ]
    }
   ],
   "source": [
    "fo = open(\"sample2.txt\",\"w+\")\n",
    "print fo.read()# No error\n",
    "data = input(\"enter new data\")\n",
    "fo.write(data)\n",
    "fo.seek(0,0) # From start placing 0 location\n",
    "\n",
    "# 1st argumemnt no of postion ( +ve numbers -> forward ), (-ve backword)\n",
    "# 2nd argument set postion\n",
    "#   0 ---> BOF\n",
    "#   2 ---> EOF\n",
    "#   1 ---> CUrrent location\n",
    "print fo.read()\n",
    "fo.seek(3,0)\n",
    "print fo.read()\n",
    "fo.close()"
   ]
  },
  {
   "cell_type": "code",
   "execution_count": 1,
   "metadata": {},
   "outputs": [
    {
     "name": "stdout",
     "output_type": "stream",
     "text": [
      "BOF :  0\n",
      "enter new data\"anjankumar\"\n",
      "CCL :  10\n",
      "BOF :  0\n",
      "CCL :  5\n",
      "CCL :  2\n",
      "CCL :  6\n",
      "EOF :  10\n",
      "CCL :  5\n",
      "kumar\n"
     ]
    }
   ],
   "source": [
    "fo = open(\"sample2.txt\",\"w+\")\n",
    "print \"BOF : \",fo.tell()\n",
    "data = input(\"enter new data\")# 10 character \n",
    "fo.write(data)# file location  # 10\n",
    "print \"CCL : \",fo.tell()# 10\n",
    "\n",
    "fo.seek(0,0) # From start placing 0 location\n",
    "print \"BOF : \",fo.tell()\n",
    "\n",
    "fo.seek(5,0)# 5\n",
    "print \"CCL : \",fo.tell()# 5\n",
    "\n",
    "fo.seek(-3,1) # 5 -3 ----> 2\n",
    "print \"CCL : \",fo.tell()# 2\n",
    "\n",
    "fo.seek(4,1) # 2+4 ---> 6\n",
    "print \"CCL : \",fo.tell()# 6\n",
    "\n",
    "fo.seek(0,2) # 10\n",
    "print \"EOF : \",fo.tell()# 10\n",
    "\n",
    "fo.seek(-5,2) # 10 - 5 --> 5\n",
    "print \"CCL : \",fo.tell()# 5\n",
    "print fo.read()\n",
    "fo.close()"
   ]
  },
  {
   "cell_type": "code",
   "execution_count": 2,
   "metadata": {},
   "outputs": [],
   "source": [
    "# Append Mode  # files are created \n",
    "fo = open(\"sample3.txt\",\"a\")\n",
    "fo.close()\n",
    "\n",
    "fo1 = open(\"sample4.txt\",\"a+\")\n",
    "fo1.close()"
   ]
  },
  {
   "cell_type": "code",
   "execution_count": 3,
   "metadata": {},
   "outputs": [],
   "source": [
    "# Append Mode  # files are already having some daata , daata can safe  \n",
    "fo = open(\"sample3.txt\",\"a\")\n",
    "fo.close()\n",
    "\n",
    "fo1 = open(\"sample4.txt\",\"a+\")\n",
    "fo1.close()"
   ]
  },
  {
   "cell_type": "code",
   "execution_count": 5,
   "metadata": {},
   "outputs": [
    {
     "name": "stdout",
     "output_type": "stream",
     "text": [
      " BOF :  0\n",
      "enter 5 character : \"98765\"\n",
      "EOF :  15\n",
      "BOF :  0\n",
      "enter 5 character : \"98765\"\n",
      "EOF :  16\n"
     ]
    }
   ],
   "source": [
    "# Append Mode  # files are created \n",
    "fo = open(\"sample3.txt\",\"a\")\n",
    "print \"BOF : \",fo.tell()\n",
    "data = input(\"enter 5 character : \")\n",
    "fo.write(data)\n",
    "print \"EOF : \",fo.tell()\n",
    "fo.close()\n",
    "\n",
    "fo1 = open(\"sample4.txt\",\"a+\")\n",
    "print \"BOF : \",fo1.tell()\n",
    "data = input(\"enter 5 character : \")\n",
    "fo1.write(data)\n",
    "print \"EOF : \",fo1.tell()\n",
    "fo1.close()"
   ]
  },
  {
   "cell_type": "code",
   "execution_count": 6,
   "metadata": {},
   "outputs": [
    {
     "name": "stdout",
     "output_type": "stream",
     "text": [
      "BOF :  0\n"
     ]
    },
    {
     "ename": "IOError",
     "evalue": "File not open for reading",
     "output_type": "error",
     "traceback": [
      "\u001b[1;31m---------------------------------------------------------------------------\u001b[0m",
      "\u001b[1;31mIOError\u001b[0m                                   Traceback (most recent call last)",
      "\u001b[1;32m<ipython-input-6-e60e97626995>\u001b[0m in \u001b[0;36m<module>\u001b[1;34m()\u001b[0m\n\u001b[0;32m      2\u001b[0m \u001b[0mfo\u001b[0m \u001b[1;33m=\u001b[0m \u001b[0mopen\u001b[0m\u001b[1;33m(\u001b[0m\u001b[1;34m\"sample3.txt\"\u001b[0m\u001b[1;33m,\u001b[0m\u001b[1;34m\"a\"\u001b[0m\u001b[1;33m)\u001b[0m\u001b[1;33m\u001b[0m\u001b[0m\n\u001b[0;32m      3\u001b[0m \u001b[1;32mprint\u001b[0m \u001b[1;34m\"BOF : \"\u001b[0m\u001b[1;33m,\u001b[0m\u001b[0mfo\u001b[0m\u001b[1;33m.\u001b[0m\u001b[0mtell\u001b[0m\u001b[1;33m(\u001b[0m\u001b[1;33m)\u001b[0m\u001b[1;33m\u001b[0m\u001b[0m\n\u001b[1;32m----> 4\u001b[1;33m \u001b[1;32mprint\u001b[0m \u001b[0mfo\u001b[0m\u001b[1;33m.\u001b[0m\u001b[0mread\u001b[0m\u001b[1;33m(\u001b[0m\u001b[1;33m)\u001b[0m\u001b[1;33m\u001b[0m\u001b[0m\n\u001b[0m\u001b[0;32m      5\u001b[0m \u001b[1;32mprint\u001b[0m \u001b[1;34m\"EOF : \"\u001b[0m\u001b[1;33m,\u001b[0m\u001b[0mfo\u001b[0m\u001b[1;33m.\u001b[0m\u001b[0mtell\u001b[0m\u001b[1;33m(\u001b[0m\u001b[1;33m)\u001b[0m\u001b[1;33m\u001b[0m\u001b[0m\n\u001b[0;32m      6\u001b[0m \u001b[0mfo\u001b[0m\u001b[1;33m.\u001b[0m\u001b[0mclose\u001b[0m\u001b[1;33m(\u001b[0m\u001b[1;33m)\u001b[0m\u001b[1;33m\u001b[0m\u001b[0m\n",
      "\u001b[1;31mIOError\u001b[0m: File not open for reading"
     ]
    }
   ],
   "source": [
    "# Append Mode  # files are created \n",
    "fo = open(\"sample3.txt\",\"a\")\n",
    "print \"BOF : \",fo.tell()\n",
    "print fo.read()\n",
    "print \"EOF : \",fo.tell()\n",
    "fo.close()\n"
   ]
  },
  {
   "cell_type": "code",
   "execution_count": 13,
   "metadata": {},
   "outputs": [
    {
     "name": "stdout",
     "output_type": "stream",
     "text": [
      "BOF :  0\n",
      "enter 5 character : \"12345566\"\n",
      "12345566\n",
      "EOF :  8\n"
     ]
    }
   ],
   "source": [
    "fo1 = open(\"sample5.txt\",\"a+\")\n",
    "print \"BOF : \",fo1.tell()\n",
    "\n",
    "data = input(\"enter 5 character : \")\n",
    "fo1.write(data)\n",
    "fo1.seek(0,0)\n",
    "print fo1.read()\n",
    "\n",
    "print \"EOF : \",fo1.tell()\n",
    "fo1.close()"
   ]
  },
  {
   "cell_type": "code",
   "execution_count": 14,
   "metadata": {},
   "outputs": [
    {
     "name": "stdout",
     "output_type": "stream",
     "text": [
      "sample5 :  0\n",
      "BOF :  0\n",
      "sample5 EOF:  23\n",
      "EOF :  15\n"
     ]
    }
   ],
   "source": [
    "fo = open(\"sample3.txt\",\"a+\")\n",
    "fo1 = open(\"sample5.txt\",\"a\")\n",
    "print \"sample5 : \",fo1.tell()\n",
    "print \"BOF : \",fo.tell()\n",
    "data = fo.read()\n",
    "fo1.write(data)\n",
    "print \"sample5 EOF: \",fo1.tell()\n",
    "print \"EOF : \",fo.tell()\n",
    "fo1.close()\n",
    "fo.close()\n"
   ]
  },
  {
   "cell_type": "code",
   "execution_count": 15,
   "metadata": {},
   "outputs": [
    {
     "ename": "IOError",
     "evalue": "[Errno 2] No such file or directory: 'sample6.txt'",
     "output_type": "error",
     "traceback": [
      "\u001b[1;31m---------------------------------------------------------------------------\u001b[0m",
      "\u001b[1;31mIOError\u001b[0m                                   Traceback (most recent call last)",
      "\u001b[1;32m<ipython-input-15-4726d19c16f5>\u001b[0m in \u001b[0;36m<module>\u001b[1;34m()\u001b[0m\n\u001b[0;32m      1\u001b[0m \u001b[1;31m# read mode\u001b[0m\u001b[1;33m\u001b[0m\u001b[1;33m\u001b[0m\u001b[0m\n\u001b[1;32m----> 2\u001b[1;33m \u001b[0mfo\u001b[0m \u001b[1;33m=\u001b[0m \u001b[0mopen\u001b[0m\u001b[1;33m(\u001b[0m\u001b[1;34m\"sample6.txt\"\u001b[0m\u001b[1;33m,\u001b[0m\u001b[1;34m\"r\"\u001b[0m\u001b[1;33m)\u001b[0m\u001b[1;33m\u001b[0m\u001b[0m\n\u001b[0m\u001b[0;32m      3\u001b[0m \u001b[0mfo\u001b[0m\u001b[1;33m.\u001b[0m\u001b[0mclose\u001b[0m\u001b[1;33m(\u001b[0m\u001b[1;33m)\u001b[0m\u001b[1;33m\u001b[0m\u001b[0m\n",
      "\u001b[1;31mIOError\u001b[0m: [Errno 2] No such file or directory: 'sample6.txt'"
     ]
    }
   ],
   "source": [
    "# read mode\n",
    "fo = open(\"sample6.txt\",\"r\")\n",
    "fo.close()"
   ]
  },
  {
   "cell_type": "code",
   "execution_count": 16,
   "metadata": {},
   "outputs": [
    {
     "ename": "IOError",
     "evalue": "[Errno 2] No such file or directory: 'sample6.txt'",
     "output_type": "error",
     "traceback": [
      "\u001b[1;31m---------------------------------------------------------------------------\u001b[0m",
      "\u001b[1;31mIOError\u001b[0m                                   Traceback (most recent call last)",
      "\u001b[1;32m<ipython-input-16-62b3741a88ac>\u001b[0m in \u001b[0;36m<module>\u001b[1;34m()\u001b[0m\n\u001b[0;32m      1\u001b[0m \u001b[1;31m# read mode\u001b[0m\u001b[1;33m\u001b[0m\u001b[1;33m\u001b[0m\u001b[0m\n\u001b[1;32m----> 2\u001b[1;33m \u001b[0mfo\u001b[0m \u001b[1;33m=\u001b[0m \u001b[0mopen\u001b[0m\u001b[1;33m(\u001b[0m\u001b[1;34m\"sample6.txt\"\u001b[0m\u001b[1;33m,\u001b[0m\u001b[1;34m\"r+\"\u001b[0m\u001b[1;33m)\u001b[0m\u001b[1;33m\u001b[0m\u001b[0m\n\u001b[0m\u001b[0;32m      3\u001b[0m \u001b[0mfo\u001b[0m\u001b[1;33m.\u001b[0m\u001b[0mclose\u001b[0m\u001b[1;33m(\u001b[0m\u001b[1;33m)\u001b[0m\u001b[1;33m\u001b[0m\u001b[0m\n",
      "\u001b[1;31mIOError\u001b[0m: [Errno 2] No such file or directory: 'sample6.txt'"
     ]
    }
   ],
   "source": [
    "# read mode\n",
    "fo = open(\"sample6.txt\",\"r+\")\n",
    "fo.close()"
   ]
  },
  {
   "cell_type": "code",
   "execution_count": 17,
   "metadata": {},
   "outputs": [
    {
     "name": "stdout",
     "output_type": "stream",
     "text": [
      "12345566anjan1234598765\n"
     ]
    }
   ],
   "source": [
    "# read mode\n",
    "fo = open(\"sample5.txt\",\"r\")\n",
    "print fo.read()\n",
    "fo.close()"
   ]
  },
  {
   "cell_type": "code",
   "execution_count": 18,
   "metadata": {},
   "outputs": [
    {
     "name": "stdout",
     "output_type": "stream",
     "text": [
      "12345566anjan1234598765\n"
     ]
    }
   ],
   "source": [
    "# read mode\n",
    "fo = open(\"sample5.txt\",\"r+\")\n",
    "print fo.read()\n",
    "fo.close()"
   ]
  },
  {
   "cell_type": "code",
   "execution_count": 19,
   "metadata": {},
   "outputs": [
    {
     "ename": "IOError",
     "evalue": "File not open for writing",
     "output_type": "error",
     "traceback": [
      "\u001b[1;31m---------------------------------------------------------------------------\u001b[0m",
      "\u001b[1;31mIOError\u001b[0m                                   Traceback (most recent call last)",
      "\u001b[1;32m<ipython-input-19-b5f25a6df0ec>\u001b[0m in \u001b[0;36m<module>\u001b[1;34m()\u001b[0m\n\u001b[0;32m      1\u001b[0m \u001b[1;31m# read mode\u001b[0m\u001b[1;33m\u001b[0m\u001b[1;33m\u001b[0m\u001b[0m\n\u001b[0;32m      2\u001b[0m \u001b[0mfo\u001b[0m \u001b[1;33m=\u001b[0m \u001b[0mopen\u001b[0m\u001b[1;33m(\u001b[0m\u001b[1;34m\"sample5.txt\"\u001b[0m\u001b[1;33m,\u001b[0m\u001b[1;34m\"r\"\u001b[0m\u001b[1;33m)\u001b[0m\u001b[1;33m\u001b[0m\u001b[0m\n\u001b[1;32m----> 3\u001b[1;33m \u001b[0mfo\u001b[0m\u001b[1;33m.\u001b[0m\u001b[0mwrite\u001b[0m\u001b[1;33m(\u001b[0m\u001b[1;34m\"sample\"\u001b[0m\u001b[1;33m)\u001b[0m\u001b[1;33m\u001b[0m\u001b[0m\n\u001b[0m\u001b[0;32m      4\u001b[0m \u001b[0mfo\u001b[0m\u001b[1;33m.\u001b[0m\u001b[0mclose\u001b[0m\u001b[1;33m(\u001b[0m\u001b[1;33m)\u001b[0m\u001b[1;33m\u001b[0m\u001b[0m\n",
      "\u001b[1;31mIOError\u001b[0m: File not open for writing"
     ]
    }
   ],
   "source": [
    "# read mode\n",
    "fo = open(\"sample5.txt\",\"r\")\n",
    "fo.write(\"sample\")\n",
    "fo.close()"
   ]
  },
  {
   "cell_type": "code",
   "execution_count": 20,
   "metadata": {},
   "outputs": [],
   "source": [
    "# read mode\n",
    "fo = open(\"sample5.txt\",\"r+\")\n",
    "fo.write(\"sample\")\n",
    "fo.close()"
   ]
  },
  {
   "cell_type": "code",
   "execution_count": 21,
   "metadata": {},
   "outputs": [],
   "source": [
    "# read mode\n",
    "fo = open(\"sample5.txt\",\"r+\")\n",
    "fo.seek(10,0)\n",
    "fo.write(\"python program\")\n",
    "fo.close()"
   ]
  },
  {
   "cell_type": "code",
   "execution_count": null,
   "metadata": {},
   "outputs": [],
   "source": []
  }
 ],
 "metadata": {
  "kernelspec": {
   "display_name": "Python 2",
   "language": "python",
   "name": "python2"
  },
  "language_info": {
   "codemirror_mode": {
    "name": "ipython",
    "version": 2
   },
   "file_extension": ".py",
   "mimetype": "text/x-python",
   "name": "python",
   "nbconvert_exporter": "python",
   "pygments_lexer": "ipython2",
   "version": "2.7.16"
  }
 },
 "nbformat": 4,
 "nbformat_minor": 2
}
