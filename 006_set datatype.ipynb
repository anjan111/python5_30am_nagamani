{
 "cells": [
  {
   "cell_type": "code",
   "execution_count": 1,
   "metadata": {},
   "outputs": [
    {
     "name": "stdout",
     "output_type": "stream",
     "text": [
      "<type 'dict'>\n"
     ]
    }
   ],
   "source": [
    "# set -->> collection elements with in {}\n",
    "var = {}\n",
    "print type(var)"
   ]
  },
  {
   "cell_type": "code",
   "execution_count": 3,
   "metadata": {},
   "outputs": [
    {
     "name": "stdout",
     "output_type": "stream",
     "text": [
      "<type 'set'>\n"
     ]
    }
   ],
   "source": [
    "# empty set\n",
    "var = set()\n",
    "print type(var)"
   ]
  },
  {
   "cell_type": "code",
   "execution_count": 4,
   "metadata": {},
   "outputs": [
    {
     "name": "stdout",
     "output_type": "stream",
     "text": [
      "<type 'set'>\n"
     ]
    }
   ],
   "source": [
    "# set --->> Hetrogenious datatype\n",
    "var ={12,3.23,3+4j,True,None}\n",
    "print type(var)"
   ]
  },
  {
   "cell_type": "code",
   "execution_count": 5,
   "metadata": {},
   "outputs": [
    {
     "name": "stdout",
     "output_type": "stream",
     "text": [
      "set([True, None, 12, 3.23, (3+4j)])\n",
      "<type 'set'>\n"
     ]
    }
   ],
   "source": [
    "# set --->> unordered datatype\n",
    "var ={12,3.23,3+4j,True,None}\n",
    "print var\n",
    "print type(var)"
   ]
  },
  {
   "cell_type": "code",
   "execution_count": 7,
   "metadata": {},
   "outputs": [
    {
     "name": "stdout",
     "output_type": "stream",
     "text": [
      "set(['soc', (1, 2, 3)])\n",
      "<type 'set'>\n"
     ]
    }
   ],
   "source": [
    "# set --->> it allows only few datatypes element\n",
    "var ={\"soc\",(1,2,3)}\n",
    "print var\n",
    "print type(var)"
   ]
  },
  {
   "cell_type": "code",
   "execution_count": 8,
   "metadata": {},
   "outputs": [
    {
     "ename": "TypeError",
     "evalue": "unhashable type: 'list'",
     "output_type": "error",
     "traceback": [
      "\u001b[1;31m---------------------------------------------------------------------------\u001b[0m",
      "\u001b[1;31mTypeError\u001b[0m                                 Traceback (most recent call last)",
      "\u001b[1;32m<ipython-input-8-591ce656c257>\u001b[0m in \u001b[0;36m<module>\u001b[1;34m()\u001b[0m\n\u001b[0;32m      1\u001b[0m \u001b[1;31m# set --->> it allows only few datatypes element\u001b[0m\u001b[1;33m\u001b[0m\u001b[1;33m\u001b[0m\u001b[0m\n\u001b[1;32m----> 2\u001b[1;33m \u001b[0mvar\u001b[0m \u001b[1;33m=\u001b[0m\u001b[1;33m{\u001b[0m\u001b[1;34m\"soc\"\u001b[0m\u001b[1;33m,\u001b[0m\u001b[1;33m[\u001b[0m\u001b[1;36m1\u001b[0m\u001b[1;33m,\u001b[0m\u001b[1;36m2\u001b[0m\u001b[1;33m,\u001b[0m\u001b[1;36m3\u001b[0m\u001b[1;33m]\u001b[0m\u001b[1;33m}\u001b[0m\u001b[1;33m\u001b[0m\u001b[0m\n\u001b[0m\u001b[0;32m      3\u001b[0m \u001b[1;32mprint\u001b[0m \u001b[0mvar\u001b[0m\u001b[1;33m\u001b[0m\u001b[0m\n\u001b[0;32m      4\u001b[0m \u001b[1;32mprint\u001b[0m \u001b[0mtype\u001b[0m\u001b[1;33m(\u001b[0m\u001b[0mvar\u001b[0m\u001b[1;33m)\u001b[0m\u001b[1;33m\u001b[0m\u001b[0m\n",
      "\u001b[1;31mTypeError\u001b[0m: unhashable type: 'list'"
     ]
    }
   ],
   "source": [
    "# set --->> it allows only few datatypes element\n",
    "var ={\"soc\",[1,2,3]}\n",
    "print var\n",
    "print type(var)"
   ]
  },
  {
   "cell_type": "code",
   "execution_count": 9,
   "metadata": {},
   "outputs": [
    {
     "ename": "TypeError",
     "evalue": "unhashable type: 'set'",
     "output_type": "error",
     "traceback": [
      "\u001b[1;31m---------------------------------------------------------------------------\u001b[0m",
      "\u001b[1;31mTypeError\u001b[0m                                 Traceback (most recent call last)",
      "\u001b[1;32m<ipython-input-9-1a2140c458e7>\u001b[0m in \u001b[0;36m<module>\u001b[1;34m()\u001b[0m\n\u001b[0;32m      1\u001b[0m \u001b[1;31m# set --->> it allows only few datatypes element\u001b[0m\u001b[1;33m\u001b[0m\u001b[1;33m\u001b[0m\u001b[0m\n\u001b[1;32m----> 2\u001b[1;33m \u001b[0mvar\u001b[0m \u001b[1;33m=\u001b[0m\u001b[1;33m{\u001b[0m\u001b[1;34m\"soc\"\u001b[0m\u001b[1;33m,\u001b[0m\u001b[1;33m{\u001b[0m\u001b[1;36m1\u001b[0m\u001b[1;33m,\u001b[0m\u001b[1;36m2\u001b[0m\u001b[1;33m,\u001b[0m\u001b[1;36m3\u001b[0m\u001b[1;33m}\u001b[0m\u001b[1;33m}\u001b[0m\u001b[1;33m\u001b[0m\u001b[0m\n\u001b[0m\u001b[0;32m      3\u001b[0m \u001b[1;32mprint\u001b[0m \u001b[0mvar\u001b[0m\u001b[1;33m\u001b[0m\u001b[0m\n\u001b[0;32m      4\u001b[0m \u001b[1;32mprint\u001b[0m \u001b[0mtype\u001b[0m\u001b[1;33m(\u001b[0m\u001b[0mvar\u001b[0m\u001b[1;33m)\u001b[0m\u001b[1;33m\u001b[0m\u001b[0m\n",
      "\u001b[1;31mTypeError\u001b[0m: unhashable type: 'set'"
     ]
    }
   ],
   "source": [
    "# set --->> it allows only few datatypes element\n",
    "var ={\"soc\",{1,2,3}}\n",
    "print var\n",
    "print type(var)"
   ]
  },
  {
   "cell_type": "code",
   "execution_count": 10,
   "metadata": {},
   "outputs": [
    {
     "ename": "TypeError",
     "evalue": "unhashable type: 'dict'",
     "output_type": "error",
     "traceback": [
      "\u001b[1;31m---------------------------------------------------------------------------\u001b[0m",
      "\u001b[1;31mTypeError\u001b[0m                                 Traceback (most recent call last)",
      "\u001b[1;32m<ipython-input-10-31b3d7176553>\u001b[0m in \u001b[0;36m<module>\u001b[1;34m()\u001b[0m\n\u001b[0;32m      1\u001b[0m \u001b[1;31m# set --->> it allows only few datatypes element\u001b[0m\u001b[1;33m\u001b[0m\u001b[1;33m\u001b[0m\u001b[0m\n\u001b[1;32m----> 2\u001b[1;33m \u001b[0mvar\u001b[0m \u001b[1;33m=\u001b[0m\u001b[1;33m{\u001b[0m\u001b[1;34m\"soc\"\u001b[0m\u001b[1;33m,\u001b[0m\u001b[1;33m{\u001b[0m\u001b[1;36m1\u001b[0m\u001b[1;33m:\u001b[0m\u001b[1;36m3\u001b[0m\u001b[1;33m}\u001b[0m\u001b[1;33m}\u001b[0m\u001b[1;33m\u001b[0m\u001b[0m\n\u001b[0m\u001b[0;32m      3\u001b[0m \u001b[1;32mprint\u001b[0m \u001b[0mvar\u001b[0m\u001b[1;33m\u001b[0m\u001b[0m\n\u001b[0;32m      4\u001b[0m \u001b[1;32mprint\u001b[0m \u001b[0mtype\u001b[0m\u001b[1;33m(\u001b[0m\u001b[0mvar\u001b[0m\u001b[1;33m)\u001b[0m\u001b[1;33m\u001b[0m\u001b[0m\n",
      "\u001b[1;31mTypeError\u001b[0m: unhashable type: 'dict'"
     ]
    }
   ],
   "source": [
    "# set --->> it allows only few datatypes element\n",
    "var ={\"soc\",{1:3}}\n",
    "print var\n",
    "print type(var)"
   ]
  },
  {
   "cell_type": "code",
   "execution_count": 11,
   "metadata": {},
   "outputs": [
    {
     "ename": "TypeError",
     "evalue": "'set' object does not support indexing",
     "output_type": "error",
     "traceback": [
      "\u001b[1;31m---------------------------------------------------------------------------\u001b[0m",
      "\u001b[1;31mTypeError\u001b[0m                                 Traceback (most recent call last)",
      "\u001b[1;32m<ipython-input-11-88cd53e5806e>\u001b[0m in \u001b[0;36m<module>\u001b[1;34m()\u001b[0m\n\u001b[0;32m      1\u001b[0m \u001b[1;31m# set elements we can't access -->> unorder datatype\u001b[0m\u001b[1;33m\u001b[0m\u001b[1;33m\u001b[0m\u001b[0m\n\u001b[0;32m      2\u001b[0m \u001b[0mvar\u001b[0m \u001b[1;33m=\u001b[0m\u001b[1;33m{\u001b[0m\u001b[1;36m1\u001b[0m\u001b[1;33m,\u001b[0m\u001b[1;36m9\u001b[0m\u001b[1;33m,\u001b[0m\u001b[1;36m34\u001b[0m\u001b[1;33m}\u001b[0m\u001b[1;33m\u001b[0m\u001b[0m\n\u001b[1;32m----> 3\u001b[1;33m \u001b[1;32mprint\u001b[0m \u001b[0mvar\u001b[0m\u001b[1;33m[\u001b[0m\u001b[1;36m0\u001b[0m\u001b[1;33m]\u001b[0m\u001b[1;33m\u001b[0m\u001b[0m\n\u001b[0m\u001b[0;32m      4\u001b[0m \u001b[1;32mprint\u001b[0m \u001b[0mvar\u001b[0m\u001b[1;33m[\u001b[0m\u001b[1;36m1\u001b[0m\u001b[1;33m]\u001b[0m\u001b[1;33m\u001b[0m\u001b[0m\n\u001b[0;32m      5\u001b[0m \u001b[1;32mprint\u001b[0m \u001b[0mvar\u001b[0m\u001b[1;33m[\u001b[0m\u001b[1;36m2\u001b[0m\u001b[1;33m]\u001b[0m\u001b[1;33m\u001b[0m\u001b[0m\n",
      "\u001b[1;31mTypeError\u001b[0m: 'set' object does not support indexing"
     ]
    }
   ],
   "source": [
    "# set elements we can't access -->> unorder datatype\n",
    "var ={1,9,34}\n",
    "print var[0]\n",
    "print var[1]\n",
    "print var[2]"
   ]
  },
  {
   "cell_type": "code",
   "execution_count": 12,
   "metadata": {},
   "outputs": [
    {
     "name": "stdout",
     "output_type": "stream",
     "text": [
      "set([9, 3, 4, 5])\n",
      "<type 'set'>\n"
     ]
    }
   ],
   "source": [
    "# removes the duplicate elements\n",
    "var ={5,9,4,5,9,3,5}#  5--> 3 ,  9---> 2\n",
    "print var\n",
    "print type(var)"
   ]
  },
  {
   "cell_type": "code",
   "execution_count": 17,
   "metadata": {},
   "outputs": [
    {
     "name": "stdout",
     "output_type": "stream",
     "text": [
      "****union****\n",
      "set([1, 2, 3, 4, 5, 6])\n",
      "set([1, 2, 3, 4, 5, 6])\n",
      "set([1, 2, 3, 4, 5, 6])\n",
      "**** intersection****\n",
      "set([3, 4])\n",
      "set([3, 4])\n",
      "set([3, 4])\n",
      "****symmtry difference****\n",
      "set([1, 2, 5, 6])\n",
      "set([1, 2, 5, 6])\n",
      "set([1, 2, 5, 6])\n",
      "set([1, 2, 5, 6])\n",
      "****difference****\n",
      "set([1, 2])\n",
      "set([1, 2])\n",
      "set([1, 2])\n"
     ]
    }
   ],
   "source": [
    "a = {1,2,3,4}\n",
    "b = {3,4,5,6}\n",
    "print \"****union****\"\n",
    "print a | b # union\n",
    "print a.__or__(b)\n",
    "print a.union(b)\n",
    "print \"**** intersection****\"\n",
    "print a & b # intersection\n",
    "print a.__and__(b)\n",
    "print a.intersection(b)\n",
    "print \"****symmtry difference****\"\n",
    "print a ^ b # symmetry difference non common elements from a & b\n",
    "print a.__xor__(b)\n",
    "print a.symmetric_difference(b)\n",
    "print (a|b) -(a&b)\n",
    "print \"****difference****\"\n",
    "print a - b # difference  -->> non common elements from a\n",
    "print a.__sub__(b)\n",
    "print a.difference(b)"
   ]
  },
  {
   "cell_type": "code",
   "execution_count": 16,
   "metadata": {},
   "outputs": [
    {
     "name": "stdout",
     "output_type": "stream",
     "text": [
      "False\n",
      "False\n",
      "False\n",
      "True\n",
      "False\n",
      "False\n"
     ]
    }
   ],
   "source": [
    "a = {1,2,3,4}\n",
    "b = {3,4,5,6}\n",
    "print a > b\n",
    "print a < b\n",
    "print a == b\n",
    "print a != b\n",
    "print a <= b\n",
    "print a >= b"
   ]
  },
  {
   "cell_type": "code",
   "execution_count": 18,
   "metadata": {},
   "outputs": [
    {
     "name": "stdout",
     "output_type": "stream",
     "text": [
      "set([1, 2, 3, 4])\n",
      "set([])\n"
     ]
    }
   ],
   "source": [
    "a = {1,2,3,4}\n",
    "print a\n",
    "a.clear()\n",
    "print a"
   ]
  },
  {
   "cell_type": "code",
   "execution_count": 21,
   "metadata": {},
   "outputs": [
    {
     "name": "stdout",
     "output_type": "stream",
     "text": [
      "set([1, 2, 3, 4])\n",
      "set([1, 2, 3, 4])\n",
      "set([1, 2, 3, 4])\n",
      "78904680\n",
      "70332200\n"
     ]
    }
   ],
   "source": [
    "a = {1,2,3,4}\n",
    "print a\n",
    "b = a.copy()\n",
    "print a\n",
    "print b\n",
    "print id(a)\n",
    "print id(b)"
   ]
  },
  {
   "cell_type": "code",
   "execution_count": 22,
   "metadata": {},
   "outputs": [
    {
     "name": "stdout",
     "output_type": "stream",
     "text": [
      "set([1, 2, 3, 4])\n",
      "set([1, 2, 3, 4])\n",
      "set([123, 1, 2, 3, 4])\n",
      "78904008\n",
      "70332200\n"
     ]
    }
   ],
   "source": [
    "a = {1,2,3,4}\n",
    "b= set()\n",
    "print a\n",
    "b = a.copy()\n",
    "b.add(123)\n",
    "print a\n",
    "print b\n",
    "print id(a)\n",
    "print id(b)"
   ]
  },
  {
   "cell_type": "code",
   "execution_count": 23,
   "metadata": {},
   "outputs": [
    {
     "name": "stdout",
     "output_type": "stream",
     "text": [
      "set([1, 2, 3, 4])\n",
      "set([123, 1, 2, 3, 4])\n",
      "set([123, 1, 2, 3, 4])\n",
      "78904680\n",
      "78904680\n"
     ]
    }
   ],
   "source": [
    "a = {1,2,3,4}\n",
    "b= set()\n",
    "print a\n",
    "b = a\n",
    "b.add(123)\n",
    "print a\n",
    "print b\n",
    "print id(a)\n",
    "print id(b)"
   ]
  },
  {
   "cell_type": "code",
   "execution_count": 24,
   "metadata": {},
   "outputs": [
    {
     "name": "stdout",
     "output_type": "stream",
     "text": [
      "set([34, 5, 6, 9, 12, 78, 90])\n",
      "34\n",
      "set([5, 6, 9, 12, 78, 90])\n",
      "5\n",
      "set([6, 9, 12, 78, 90])\n"
     ]
    }
   ],
   "source": [
    "a ={5,6,9,12,90,34,78}\n",
    "print a\n",
    "print a.pop()\n",
    "print a\n",
    "print a.pop()\n",
    "print a"
   ]
  },
  {
   "cell_type": "code",
   "execution_count": 25,
   "metadata": {},
   "outputs": [
    {
     "name": "stdout",
     "output_type": "stream",
     "text": [
      "set([34, 5, 6, 9, 12, 78, 90])\n",
      "set([34, 5, 6, 9, 12, 78])\n",
      "set([34, 5, 6, 9, 12, 78])\n"
     ]
    }
   ],
   "source": [
    "a ={5,6,9,12,90,34,78}\n",
    "print a\n",
    "a.discard(90)\n",
    "print a\n",
    "a.discard(1000)\n",
    "print a"
   ]
  },
  {
   "cell_type": "code",
   "execution_count": 26,
   "metadata": {},
   "outputs": [
    {
     "name": "stdout",
     "output_type": "stream",
     "text": [
      "set([34, 5, 6, 9, 12, 78, 90])\n",
      "set([34, 5, 6, 9, 12, 78])\n"
     ]
    },
    {
     "ename": "KeyError",
     "evalue": "1000",
     "output_type": "error",
     "traceback": [
      "\u001b[1;31m---------------------------------------------------------------------------\u001b[0m",
      "\u001b[1;31mKeyError\u001b[0m                                  Traceback (most recent call last)",
      "\u001b[1;32m<ipython-input-26-b830612888f8>\u001b[0m in \u001b[0;36m<module>\u001b[1;34m()\u001b[0m\n\u001b[0;32m      3\u001b[0m \u001b[0ma\u001b[0m\u001b[1;33m.\u001b[0m\u001b[0mremove\u001b[0m\u001b[1;33m(\u001b[0m\u001b[1;36m90\u001b[0m\u001b[1;33m)\u001b[0m\u001b[1;33m\u001b[0m\u001b[0m\n\u001b[0;32m      4\u001b[0m \u001b[1;32mprint\u001b[0m \u001b[0ma\u001b[0m\u001b[1;33m\u001b[0m\u001b[0m\n\u001b[1;32m----> 5\u001b[1;33m \u001b[0ma\u001b[0m\u001b[1;33m.\u001b[0m\u001b[0mremove\u001b[0m\u001b[1;33m(\u001b[0m\u001b[1;36m1000\u001b[0m\u001b[1;33m)\u001b[0m\u001b[1;33m\u001b[0m\u001b[0m\n\u001b[0m\u001b[0;32m      6\u001b[0m \u001b[1;32mprint\u001b[0m \u001b[0ma\u001b[0m\u001b[1;33m\u001b[0m\u001b[0m\n",
      "\u001b[1;31mKeyError\u001b[0m: 1000"
     ]
    }
   ],
   "source": [
    "a ={5,6,9,12,90,34,78}\n",
    "print a\n",
    "a.remove(90)\n",
    "print a\n",
    "a.remove(1000)\n",
    "print a"
   ]
  },
  {
   "cell_type": "code",
   "execution_count": 27,
   "metadata": {},
   "outputs": [
    {
     "name": "stdout",
     "output_type": "stream",
     "text": [
      "set([1, 2, 3, 4])\n",
      "set([3, 4, 5, 6])\n",
      "set([1, 2, 3, 4, 5, 6])\n",
      "set([3, 4, 5, 6])\n"
     ]
    }
   ],
   "source": [
    "a = {1,2,3,4}\n",
    "b = {3,4,5,6}\n",
    "print a\n",
    "print b\n",
    "a.update(b)  # a  = a |b\n",
    "print a\n",
    "print b"
   ]
  },
  {
   "cell_type": "code",
   "execution_count": 28,
   "metadata": {},
   "outputs": [
    {
     "name": "stdout",
     "output_type": "stream",
     "text": [
      "set([1, 2, 3, 4])\n",
      "set([3, 4, 5, 6])\n",
      "set([3, 4])\n",
      "set([3, 4, 5, 6])\n"
     ]
    }
   ],
   "source": [
    "a = {1,2,3,4}\n",
    "b = {3,4,5,6}\n",
    "print a\n",
    "print b\n",
    "a.intersection_update(b)  # a  = a  & b\n",
    "print a\n",
    "print b"
   ]
  },
  {
   "cell_type": "code",
   "execution_count": 29,
   "metadata": {},
   "outputs": [
    {
     "name": "stdout",
     "output_type": "stream",
     "text": [
      "set([1, 2, 3, 4])\n",
      "set([3, 4, 5, 6])\n",
      "set([1, 2])\n",
      "set([3, 4, 5, 6])\n"
     ]
    }
   ],
   "source": [
    "a = {1,2,3,4}\n",
    "b = {3,4,5,6}\n",
    "print a\n",
    "print b\n",
    "a.difference_update(b)  # a  = a |b\n",
    "print a\n",
    "print b"
   ]
  },
  {
   "cell_type": "code",
   "execution_count": 30,
   "metadata": {},
   "outputs": [
    {
     "name": "stdout",
     "output_type": "stream",
     "text": [
      "set([1, 2, 3, 4])\n",
      "set([3, 4, 5, 6])\n",
      "set([1, 2, 5, 6])\n",
      "set([3, 4, 5, 6])\n"
     ]
    }
   ],
   "source": [
    "a = {1,2,3,4}\n",
    "b = {3,4,5,6}\n",
    "print a\n",
    "print b\n",
    "a.symmetric_difference_update(b)  # a  = a |b\n",
    "print a\n",
    "print b"
   ]
  },
  {
   "cell_type": "code",
   "execution_count": 31,
   "metadata": {},
   "outputs": [
    {
     "name": "stdout",
     "output_type": "stream",
     "text": [
      "['__and__', '__class__', '__cmp__', '__contains__', '__delattr__', '__doc__', '__eq__', '__format__', '__ge__', '__getattribute__', '__gt__', '__hash__', '__iand__', '__init__', '__ior__', '__isub__', '__iter__', '__ixor__', '__le__', '__len__', '__lt__', '__ne__', '__new__', '__or__', '__rand__', '__reduce__', '__reduce_ex__', '__repr__', '__ror__', '__rsub__', '__rxor__', '__setattr__', '__sizeof__', '__str__', '__sub__', '__subclasshook__', '__xor__', 'add', 'clear', 'copy', 'difference', 'difference_update', 'discard', 'intersection', 'intersection_update', 'isdisjoint', 'issubset', 'issuperset', 'pop', 'remove', 'symmetric_difference', 'symmetric_difference_update', 'union', 'update']\n"
     ]
    }
   ],
   "source": [
    "print dir(set)"
   ]
  },
  {
   "cell_type": "code",
   "execution_count": 32,
   "metadata": {},
   "outputs": [
    {
     "name": "stdout",
     "output_type": "stream",
     "text": [
      "False\n",
      "True\n"
     ]
    }
   ],
   "source": [
    "a ={1,2,3,4}\n",
    "b ={2,5,6}\n",
    "print a.isdisjoint(b)# False\n",
    "a ={1,2,3,4}\n",
    "b ={5,6}\n",
    "print a.isdisjoint(b)# False\n"
   ]
  },
  {
   "cell_type": "code",
   "execution_count": null,
   "metadata": {},
   "outputs": [],
   "source": []
  }
 ],
 "metadata": {
  "kernelspec": {
   "display_name": "Python 2",
   "language": "python",
   "name": "python2"
  },
  "language_info": {
   "codemirror_mode": {
    "name": "ipython",
    "version": 2
   },
   "file_extension": ".py",
   "mimetype": "text/x-python",
   "name": "python",
   "nbconvert_exporter": "python",
   "pygments_lexer": "ipython2",
   "version": "2.7.16"
  }
 },
 "nbformat": 4,
 "nbformat_minor": 2
}
