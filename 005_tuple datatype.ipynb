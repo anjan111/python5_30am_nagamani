{
 "cells": [
  {
   "cell_type": "code",
   "execution_count": 1,
   "metadata": {},
   "outputs": [
    {
     "name": "stdout",
     "output_type": "stream",
     "text": [
      "()\n",
      "<type 'tuple'>\n"
     ]
    }
   ],
   "source": [
    "# collection of elements with in  ()\n",
    "var = ()\n",
    "print var\n",
    "print type(var)"
   ]
  },
  {
   "cell_type": "code",
   "execution_count": 2,
   "metadata": {},
   "outputs": [
    {
     "name": "stdout",
     "output_type": "stream",
     "text": [
      "(12, 4.2, (5+6j), True, None, [1, 2, 3], 'soc')\n",
      "<type 'tuple'>\n"
     ]
    }
   ],
   "source": [
    "# collection of elements with in  ()\n",
    "# tuple --->> hetrogenious datatype\n",
    "var = (12,4.2,5+6j,True,None,[1,2,3],\"soc\")\n",
    "print var\n",
    "print type(var)"
   ]
  },
  {
   "cell_type": "code",
   "execution_count": 3,
   "metadata": {},
   "outputs": [
    {
     "name": "stdout",
     "output_type": "stream",
     "text": [
      "((1, 2, 3), (7, 4, 6))\n",
      "<type 'tuple'>\n"
     ]
    }
   ],
   "source": [
    "# nested tuple \n",
    "var= ((1,2,3) ,  (7,4,6))\n",
    "print var\n",
    "print type(var)"
   ]
  },
  {
   "cell_type": "code",
   "execution_count": 4,
   "metadata": {},
   "outputs": [
    {
     "name": "stdout",
     "output_type": "stream",
     "text": [
      "12\n",
      "56\n",
      "34\n",
      "90\n",
      "****************\n",
      "90\n",
      "34\n",
      "56\n",
      "12\n"
     ]
    }
   ],
   "source": [
    "# How to access the tuple elements\n",
    "'''\n",
    "--->> Indexing [index] --->> Single element from tuple\n",
    "\n",
    "--->> Slicing [start : stop ]-->>Multiple elements from tuple as a tuple  --->> continious \n",
    "\n",
    "--->> Dicing [start : stop :  step ] -->>Multiple elements from tuple as a tuple -->> step wise\n",
    "'''\n",
    "\n",
    "# indexing \n",
    "# positive indexing\n",
    "\n",
    "var = (12 , 56  , 34  ,90 )\n",
    "print var[0]\n",
    "print var[1]\n",
    "print var[2]\n",
    "print var[3]\n",
    "print \"****************\"\n",
    "# Negative indexing\n",
    "print var[-1]\n",
    "print var[-2]\n",
    "print var[-3]\n",
    "print var[-4]"
   ]
  },
  {
   "cell_type": "code",
   "execution_count": 7,
   "metadata": {},
   "outputs": [
    {
     "name": "stdout",
     "output_type": "stream",
     "text": [
      "(90, 23, 8, 17, 34)\n",
      "(7, 3, 90, 23, 8, 17, 34)\n",
      "(7, 3, 90, 23, 8, 17, 34)\n",
      "(90, 23, 8, 17, 34, 90, 45)\n",
      "(90, 23, 8, 17, 34, 90, 45)\n"
     ]
    }
   ],
   "source": [
    "# --->> Slicing [start : stop ]-->>Multiple elements from tuple as a tuple  --->> continious \n",
    "# start ---> 0\n",
    "# stop  ---> len\n",
    "var = (7,3,90,23,8,17,34,90,45)\n",
    "print var[2:7]\n",
    "print var[:7]\n",
    "print var[0:7]\n",
    "print var[2:]\n",
    "print var[2:9]"
   ]
  },
  {
   "cell_type": "code",
   "execution_count": 9,
   "metadata": {},
   "outputs": [
    {
     "name": "stdout",
     "output_type": "stream",
     "text": [
      "(17, 34, 90, 45)\n"
     ]
    }
   ],
   "source": [
    "var = (7,3,90,23,8,17,34,90,45)\n",
    "print var[-4:]\n"
   ]
  },
  {
   "cell_type": "code",
   "execution_count": 15,
   "metadata": {},
   "outputs": [
    {
     "name": "stdout",
     "output_type": "stream",
     "text": [
      "(3, 23, 17, 90)\n",
      "(7, 23, 34)\n",
      "(7, 90, 8, 34, 45)\n",
      "(90, 17, 45)\n",
      "(90, 23, 8, 17)\n",
      "(90, 23, 8, 17)\n"
     ]
    }
   ],
   "source": [
    "#--->> Dicing [start : stop :  step ] -->>Multiple elements from tuple as a tuple -->> step wise\n",
    "# start ---> 0\n",
    "# stop ----> len\n",
    "# step --->> 1\n",
    "var = (7,3,90,23,8,17,34,90,45)\n",
    "print var[1:9:2]# 1,3,5,7\n",
    "print var[:9:3]#0,3,6\n",
    "print var[0:9:2]# 0,2,4,6,8\n",
    "print var[2:len(var):3]# 2,5,8\n",
    "print var[2:6:1]\n",
    "print var[2:6:]"
   ]
  },
  {
   "cell_type": "code",
   "execution_count": 16,
   "metadata": {},
   "outputs": [
    {
     "name": "stdout",
     "output_type": "stream",
     "text": [
      "(1, 2, 3)\n",
      "2\n"
     ]
    }
   ],
   "source": [
    "#nested indexing \n",
    "var = ((1,2,3), (6,4,7))\n",
    "print var[0]\n",
    "print var[0][1]"
   ]
  },
  {
   "cell_type": "code",
   "execution_count": 18,
   "metadata": {},
   "outputs": [
    {
     "name": "stdout",
     "output_type": "stream",
     "text": [
      "(1, 2, 3)\n",
      "2\n",
      "(6, 4)\n",
      "(6, 7)\n"
     ]
    }
   ],
   "source": [
    "#nested indexing \n",
    "var = ((1,2,3), (6,4,7))\n",
    "print var[0]\n",
    "print var[0][1]\n",
    "print var[1][0:2]\n",
    "print var[1][0::2]"
   ]
  },
  {
   "cell_type": "code",
   "execution_count": 19,
   "metadata": {},
   "outputs": [
    {
     "name": "stdout",
     "output_type": "stream",
     "text": [
      "4\n",
      "12\n",
      "3\n",
      "29\n"
     ]
    }
   ],
   "source": [
    "var= (12,6,3,8)\n",
    "print len(var)\n",
    "print max(var)\n",
    "print min(var)\n",
    "print sum(var)"
   ]
  },
  {
   "cell_type": "code",
   "execution_count": 21,
   "metadata": {},
   "outputs": [
    {
     "name": "stdout",
     "output_type": "stream",
     "text": [
      "(1, 2, 3, 4)\n",
      "3\n"
     ]
    },
    {
     "ename": "TypeError",
     "evalue": "'tuple' object does not support item assignment",
     "output_type": "error",
     "traceback": [
      "\u001b[1;31m---------------------------------------------------------------------------\u001b[0m",
      "\u001b[1;31mTypeError\u001b[0m                                 Traceback (most recent call last)",
      "\u001b[1;32m<ipython-input-21-e73cff681398>\u001b[0m in \u001b[0;36m<module>\u001b[1;34m()\u001b[0m\n\u001b[0;32m      3\u001b[0m \u001b[1;32mprint\u001b[0m \u001b[0mvar\u001b[0m\u001b[1;33m\u001b[0m\u001b[0m\n\u001b[0;32m      4\u001b[0m \u001b[1;32mprint\u001b[0m \u001b[0mvar\u001b[0m\u001b[1;33m[\u001b[0m\u001b[1;36m2\u001b[0m\u001b[1;33m]\u001b[0m\u001b[1;33m\u001b[0m\u001b[0m\n\u001b[1;32m----> 5\u001b[1;33m \u001b[0mvar\u001b[0m\u001b[1;33m[\u001b[0m\u001b[1;36m2\u001b[0m\u001b[1;33m]\u001b[0m \u001b[1;33m=\u001b[0m \u001b[1;36m30\u001b[0m\u001b[1;33m\u001b[0m\u001b[0m\n\u001b[0m\u001b[0;32m      6\u001b[0m \u001b[1;32mprint\u001b[0m \u001b[0mvar\u001b[0m\u001b[1;33m\u001b[0m\u001b[0m\n",
      "\u001b[1;31mTypeError\u001b[0m: 'tuple' object does not support item assignment"
     ]
    }
   ],
   "source": [
    "# tuple is immutable datatype\n",
    "var = (1,2,3,4)\n",
    "print var\n",
    "print var[2]\n",
    "var[2] = 30\n",
    "print var"
   ]
  },
  {
   "cell_type": "code",
   "execution_count": 22,
   "metadata": {},
   "outputs": [
    {
     "name": "stdout",
     "output_type": "stream",
     "text": [
      "(1, 2, 4, 100)\n"
     ]
    }
   ],
   "source": [
    "var = (1,2,4)\n",
    "var = list(var)\n",
    "var.append(100)\n",
    "var =tuple(var)\n",
    "print var"
   ]
  },
  {
   "cell_type": "code",
   "execution_count": null,
   "metadata": {},
   "outputs": [],
   "source": []
  }
 ],
 "metadata": {
  "kernelspec": {
   "display_name": "Python 2",
   "language": "python",
   "name": "python2"
  },
  "language_info": {
   "codemirror_mode": {
    "name": "ipython",
    "version": 2
   },
   "file_extension": ".py",
   "mimetype": "text/x-python",
   "name": "python",
   "nbconvert_exporter": "python",
   "pygments_lexer": "ipython2",
   "version": "2.7.16"
  }
 },
 "nbformat": 4,
 "nbformat_minor": 2
}
