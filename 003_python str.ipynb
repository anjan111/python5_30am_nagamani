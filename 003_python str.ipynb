{
 "cells": [
  {
   "cell_type": "code",
   "execution_count": 1,
   "metadata": {},
   "outputs": [
    {
     "name": "stdout",
     "output_type": "stream",
     "text": [
      "data var :  asHG12%$\n",
      "<type 'str'>\n",
      "data var :  asHG12%$\n",
      "<type 'str'>\n",
      "data var :  asHG12%$ \n",
      "<type 'str'>\n",
      "data var :  asHG12%$\n",
      "<type 'str'>\n"
     ]
    }
   ],
   "source": [
    "# str  ---->> group of character \n",
    "var = 'asHG12%$'\n",
    "print \"data var : \",var\n",
    "print type(var)\n",
    "\n",
    "var = \"asHG12%$\"\n",
    "\n",
    "print \"data var : \",var\n",
    "print type(var)\n",
    "\n",
    "var = '''asHG12%$ '''\n",
    "\n",
    "print \"data var : \",var\n",
    "print type(var)\n",
    "\n",
    "var = \"\"\"asHG12%$\"\"\"\n",
    "print \"data var : \",var\n",
    "print type(var)\n"
   ]
  },
  {
   "cell_type": "code",
   "execution_count": 2,
   "metadata": {},
   "outputs": [
    {
     "ename": "SyntaxError",
     "evalue": "invalid syntax (<ipython-input-2-7fdb3c8cf4ca>, line 6)",
     "output_type": "error",
     "traceback": [
      "\u001b[1;36m  File \u001b[1;32m\"<ipython-input-2-7fdb3c8cf4ca>\"\u001b[1;36m, line \u001b[1;32m6\u001b[0m\n\u001b[1;33m    var ='i don't need'\u001b[0m\n\u001b[1;37m                ^\u001b[0m\n\u001b[1;31mSyntaxError\u001b[0m\u001b[1;31m:\u001b[0m invalid syntax\n"
     ]
    }
   ],
   "source": [
    "####  '' ---->> only one line of group of character\n",
    "####  \"\" --->> only one line of group of character\n",
    "#### '''''' --->> multiple lines \n",
    "\n",
    "var = \"i don't need \"\n",
    "print var\n",
    "var ='i don't need'\n",
    "print var"
   ]
  },
  {
   "cell_type": "code",
   "execution_count": 3,
   "metadata": {},
   "outputs": [
    {
     "name": "stdout",
     "output_type": "stream",
     "text": [
      "Hello\n",
      "i am anjan\n",
      "kumar\n",
      "\n"
     ]
    }
   ],
   "source": [
    "var = '''Hello\n",
    "i am anjan\n",
    "kumar\n",
    "'''\n",
    "print var\n"
   ]
  },
  {
   "cell_type": "code",
   "execution_count": 4,
   "metadata": {},
   "outputs": [
    {
     "ename": "SyntaxError",
     "evalue": "EOL while scanning string literal (<ipython-input-4-3820d9323f14>, line 1)",
     "output_type": "error",
     "traceback": [
      "\u001b[1;36m  File \u001b[1;32m\"<ipython-input-4-3820d9323f14>\"\u001b[1;36m, line \u001b[1;32m1\u001b[0m\n\u001b[1;33m    var = \"i\u001b[0m\n\u001b[1;37m           ^\u001b[0m\n\u001b[1;31mSyntaxError\u001b[0m\u001b[1;31m:\u001b[0m EOL while scanning string literal\n"
     ]
    }
   ],
   "source": [
    "var = \"i\n",
    "am\n",
    "anjan kumar\"\n",
    "print var\n",
    "var ='i don't need'\n",
    "print var"
   ]
  },
  {
   "cell_type": "code",
   "execution_count": 6,
   "metadata": {},
   "outputs": [
    {
     "name": "stdout",
     "output_type": "stream",
     "text": [
      "p\n",
      "y\n",
      "t\n",
      "h\n",
      "o\n",
      "n\n",
      "***************************\n",
      "n\n",
      "o\n",
      "h\n",
      "t\n",
      "y\n",
      "p\n"
     ]
    }
   ],
   "source": [
    "# str indexing   var_name[ index_number] --->>> for access the indiviual chracter\n",
    "# positive indexing  -->>   0 to len -1\n",
    "var =\"python\"\n",
    "print var[0]\n",
    "print var[1]\n",
    "print var[2]\n",
    "print var[3]\n",
    "print var[4]\n",
    "print var[5]\n",
    "\n",
    "print \"***************************\"\n",
    "# negative indexing  --->   -1 to -len\n",
    "var =\"python\"\n",
    "print var[-1]\n",
    "print var[-2]\n",
    "print var[-3]\n",
    "print var[-4]\n",
    "print var[-5]\n",
    "print var[-6]"
   ]
  },
  {
   "cell_type": "code",
   "execution_count": 9,
   "metadata": {},
   "outputs": [
    {
     "name": "stdout",
     "output_type": "stream",
     "text": [
      "rog\n",
      "python prog\n",
      "python prog\n",
      "rogram\n",
      "rogram\n"
     ]
    }
   ],
   "source": [
    "# str slicing ---->> we can access group of continuos characters from str\n",
    "# var[start_index  :   stop_index]\n",
    "# default start ---> 0\n",
    "# default stop  ---> len of str \n",
    "var =\"python program\"\n",
    "print var[ 8:11 ]\n",
    "print var[:11]\n",
    "print var[0:11]\n",
    "print var[8:]\n",
    "print var[8:14]"
   ]
  },
  {
   "cell_type": "code",
   "execution_count": 10,
   "metadata": {},
   "outputs": [
    {
     "name": "stdout",
     "output_type": "stream",
     "text": [
      "rog\n"
     ]
    }
   ],
   "source": [
    "var =\"python program\"\n",
    "print var[-6:-3 ]\n"
   ]
  },
  {
   "cell_type": "code",
   "execution_count": 12,
   "metadata": {},
   "outputs": [
    {
     "name": "stdout",
     "output_type": "stream",
     "text": [
      "rogram\n",
      "python p\n"
     ]
    }
   ],
   "source": [
    "var =\"python program\"\n",
    "print var[-6: ]\n",
    "print var[:-6]"
   ]
  },
  {
   "cell_type": "code",
   "execution_count": 17,
   "metadata": {},
   "outputs": [
    {
     "name": "stdout",
     "output_type": "stream",
     "text": [
      "27\n",
      "hprila\n",
      "hon programming langa\n",
      "hon programming langa\n",
      "porana\n",
      "porana\n",
      "hprila\n",
      "hprila\n"
     ]
    }
   ],
   "source": [
    "# str dicing  --->> group of character but in step wise indexing \n",
    "# var[start  :  stop   :   step]\n",
    "# 0 to 19 --->> 2 -->> 0 ,2,4,6,8,10,12,14,16,18\n",
    "# step -->> 1\n",
    "# start --> 0\n",
    "# stop -->> len of str\n",
    "var =\"python programming langauge\"\n",
    "print len(var)\n",
    "print var[3:24:4]#3,7,11,15,19,23\n",
    "print var[3:24:]\n",
    "print var[3:24:1]\n",
    "print var[:24:4]\n",
    "print var[0:24:4]\n",
    "print var[3::4]\n",
    "print var[3:27:4]"
   ]
  },
  {
   "cell_type": "code",
   "execution_count": 21,
   "metadata": {},
   "outputs": [
    {
     "name": "stdout",
     "output_type": "stream",
     "text": [
      "rp \n",
      "agr ot\n"
     ]
    }
   ],
   "source": [
    "var =\"python program\"\n",
    "print var[-6:-9 :-1 ]\n",
    "print var[-2:-13:-2]"
   ]
  },
  {
   "cell_type": "code",
   "execution_count": 22,
   "metadata": {},
   "outputs": [
    {
     "name": "stdout",
     "output_type": "stream",
     "text": [
      "h\n"
     ]
    },
    {
     "ename": "TypeError",
     "evalue": "'str' object does not support item assignment",
     "output_type": "error",
     "traceback": [
      "\u001b[1;31m---------------------------------------------------------------------------\u001b[0m",
      "\u001b[1;31mTypeError\u001b[0m                                 Traceback (most recent call last)",
      "\u001b[1;32m<ipython-input-22-8f687cecbafe>\u001b[0m in \u001b[0;36m<module>\u001b[1;34m()\u001b[0m\n\u001b[0;32m      1\u001b[0m \u001b[0mvar\u001b[0m \u001b[1;33m=\u001b[0m \u001b[1;34m\"python\"\u001b[0m\u001b[1;33m\u001b[0m\u001b[0m\n\u001b[0;32m      2\u001b[0m \u001b[1;32mprint\u001b[0m \u001b[0mvar\u001b[0m\u001b[1;33m[\u001b[0m\u001b[1;36m3\u001b[0m\u001b[1;33m]\u001b[0m\u001b[1;33m\u001b[0m\u001b[0m\n\u001b[1;32m----> 3\u001b[1;33m \u001b[0mvar\u001b[0m\u001b[1;33m[\u001b[0m\u001b[1;36m3\u001b[0m\u001b[1;33m]\u001b[0m \u001b[1;33m=\u001b[0m\u001b[1;34m'e'\u001b[0m\u001b[1;33m\u001b[0m\u001b[0m\n\u001b[0m\u001b[0;32m      4\u001b[0m \u001b[1;32mprint\u001b[0m \u001b[0mvar\u001b[0m\u001b[1;33m\u001b[0m\u001b[0m\n",
      "\u001b[1;31mTypeError\u001b[0m: 'str' object does not support item assignment"
     ]
    }
   ],
   "source": [
    "# immutable datatype --->> we can't modify\n",
    "var = \"python\"\n",
    "print var[3]\n",
    "var[3] ='e'\n",
    "print var"
   ]
  },
  {
   "cell_type": "code",
   "execution_count": 23,
   "metadata": {},
   "outputs": [
    {
     "name": "stdout",
     "output_type": "stream",
     "text": [
      "python program\n",
      "python python python \n"
     ]
    }
   ],
   "source": [
    "a = \"python \"\n",
    "b = \"program\"\n",
    "print a + b\n",
    "print a * 3"
   ]
  },
  {
   "cell_type": "code",
   "execution_count": 24,
   "metadata": {},
   "outputs": [
    {
     "name": "stdout",
     "output_type": "stream",
     "text": [
      "True\n"
     ]
    }
   ],
   "source": [
    "a = \"python\"\n",
    "b = 'th'\n",
    "print b in a"
   ]
  },
  {
   "cell_type": "code",
   "execution_count": 25,
   "metadata": {},
   "outputs": [
    {
     "name": "stdout",
     "output_type": "stream",
     "text": [
      "y\n",
      "h\n",
      "97\n",
      "65\n",
      "a\n",
      "A\n"
     ]
    }
   ],
   "source": [
    "a =\"python\"\n",
    "print max(a) # y\n",
    "print min(a)# h\n",
    "print ord('a') #97\n",
    "print ord('A') # 65\n",
    "print chr(97) # a\n",
    "print chr(65)"
   ]
  },
  {
   "cell_type": "code",
   "execution_count": null,
   "metadata": {},
   "outputs": [],
   "source": [
    "####manipulation ---> str methods"
   ]
  },
  {
   "cell_type": "code",
   "execution_count": 1,
   "metadata": {},
   "outputs": [
    {
     "name": "stdout",
     "output_type": "stream",
     "text": [
      "['__add__', '__class__', '__contains__', '__delattr__', '__doc__', '__eq__', '__format__', '__ge__', '__getattribute__', '__getitem__', '__getnewargs__', '__getslice__', '__gt__', '__hash__', '__init__', '__le__', '__len__', '__lt__', '__mod__', '__mul__', '__ne__', '__new__', '__reduce__', '__reduce_ex__', '__repr__', '__rmod__', '__rmul__', '__setattr__', '__sizeof__', '__str__', '__subclasshook__', '_formatter_field_name_split', '_formatter_parser', 'capitalize', 'center', 'count', 'decode', 'encode', 'endswith', 'expandtabs', 'find', 'format', 'index', 'isalnum', 'isalpha', 'isdigit', 'islower', 'isspace', 'istitle', 'isupper', 'join', 'ljust', 'lower', 'lstrip', 'partition', 'replace', 'rfind', 'rindex', 'rjust', 'rpartition', 'rsplit', 'rstrip', 'split', 'splitlines', 'startswith', 'strip', 'swapcase', 'title', 'translate', 'upper', 'zfill']\n"
     ]
    }
   ],
   "source": [
    "# dir(str)--->> all methods in side of str\n",
    "print dir(str)"
   ]
  },
  {
   "cell_type": "code",
   "execution_count": 4,
   "metadata": {},
   "outputs": [
    {
     "name": "stdout",
     "output_type": "stream",
     "text": [
      "Help on wrapper_descriptor:\n",
      "\n",
      "__add__(...)\n",
      "    x.__add__(y) <==> x+y\n",
      "\n",
      "python program\n",
      "python program\n"
     ]
    }
   ],
   "source": [
    "help(str.__add__)\n",
    "\n",
    "x = \"python \"\n",
    "y = \"program\"\n",
    "print x+y\n",
    "print x.__add__(y)"
   ]
  },
  {
   "cell_type": "code",
   "execution_count": 6,
   "metadata": {},
   "outputs": [
    {
     "name": "stdout",
     "output_type": "stream",
     "text": [
      "Help on wrapper_descriptor:\n",
      "\n",
      "__contains__(...)\n",
      "    x.__contains__(y) <==> y in x\n",
      "\n",
      "True\n",
      "True\n"
     ]
    }
   ],
   "source": [
    "help(str.__contains__)\n",
    "x = \"python \"\n",
    "y = \"tho\"\n",
    "print  y in x\n",
    "print x.__contains__(y)"
   ]
  },
  {
   "cell_type": "code",
   "execution_count": 7,
   "metadata": {},
   "outputs": [
    {
     "name": "stdout",
     "output_type": "stream",
     "text": [
      "Help on wrapper_descriptor:\n",
      "\n",
      "__lt__(...)\n",
      "    x.__lt__(y) <==> x<y\n",
      "\n",
      "False\n",
      "False\n"
     ]
    }
   ],
   "source": [
    "help(str.__lt__)\n",
    "\n",
    "x = \"python \"\n",
    "y = \"program\"\n",
    "print x<y\n",
    "print x.__lt__(y)"
   ]
  },
  {
   "cell_type": "code",
   "execution_count": 9,
   "metadata": {},
   "outputs": [
    {
     "name": "stdout",
     "output_type": "stream",
     "text": [
      "Help on wrapper_descriptor:\n",
      "\n",
      "__gt__(...)\n",
      "    x.__gt__(y) <==> x>y\n",
      "\n",
      "True\n",
      "True\n"
     ]
    }
   ],
   "source": [
    "help(str.__gt__)\n",
    "\n",
    "x = \"python \"\n",
    "y = \"program\"\n",
    "print x>y\n",
    "print x.__gt__(y)"
   ]
  },
  {
   "cell_type": "code",
   "execution_count": 11,
   "metadata": {},
   "outputs": [
    {
     "name": "stdout",
     "output_type": "stream",
     "text": [
      "Python program\n"
     ]
    }
   ],
   "source": [
    "# manipulation method\n",
    "var = \"pythON PRogram\"\n",
    "print var.capitalize()"
   ]
  },
  {
   "cell_type": "code",
   "execution_count": 12,
   "metadata": {},
   "outputs": [
    {
     "name": "stdout",
     "output_type": "stream",
     "text": [
      "Python Program\n"
     ]
    }
   ],
   "source": [
    "var = \"pythON PRogram\"\n",
    "print var.title()"
   ]
  },
  {
   "cell_type": "code",
   "execution_count": 13,
   "metadata": {},
   "outputs": [
    {
     "name": "stdout",
     "output_type": "stream",
     "text": [
      "PYTHON PROGRAM\n"
     ]
    }
   ],
   "source": [
    "var = \"pythON PRogram\"\n",
    "print var.upper()"
   ]
  },
  {
   "cell_type": "code",
   "execution_count": 14,
   "metadata": {},
   "outputs": [
    {
     "name": "stdout",
     "output_type": "stream",
     "text": [
      "python program\n"
     ]
    }
   ],
   "source": [
    "var = \"pythON PRogram\"\n",
    "print var.lower()"
   ]
  },
  {
   "cell_type": "code",
   "execution_count": 15,
   "metadata": {},
   "outputs": [
    {
     "name": "stdout",
     "output_type": "stream",
     "text": [
      "pythON PROgram\n"
     ]
    }
   ],
   "source": [
    "var = \"pythoN PRogram\"\n",
    "print var.replace('o','O')"
   ]
  },
  {
   "cell_type": "code",
   "execution_count": 16,
   "metadata": {},
   "outputs": [
    {
     "name": "stdout",
     "output_type": "stream",
     "text": [
      "['python', 'programming', 'language']\n"
     ]
    }
   ],
   "source": [
    "var =\"python programming language\"\n",
    "print var.split()"
   ]
  },
  {
   "cell_type": "code",
   "execution_count": 17,
   "metadata": {},
   "outputs": [
    {
     "name": "stdout",
     "output_type": "stream",
     "text": [
      "python  programming  language\n"
     ]
    }
   ],
   "source": [
    "var = ['python', 'programming', 'language']\n",
    "print \"  \".join(var)"
   ]
  },
  {
   "cell_type": "code",
   "execution_count": 19,
   "metadata": {},
   "outputs": [
    {
     "name": "stdout",
     "output_type": "stream",
     "text": [
      "22python22\n"
     ]
    }
   ],
   "source": [
    "var = \"python\"\n",
    "print var.center(10,'2')"
   ]
  },
  {
   "cell_type": "code",
   "execution_count": 20,
   "metadata": {},
   "outputs": [
    {
     "name": "stdout",
     "output_type": "stream",
     "text": [
      "python\n"
     ]
    }
   ],
   "source": [
    "var = \"python\"\n",
    "print var.center(4,'2')"
   ]
  },
  {
   "cell_type": "code",
   "execution_count": 21,
   "metadata": {},
   "outputs": [
    {
     "name": "stdout",
     "output_type": "stream",
     "text": [
      "0000python\n",
      "python\n"
     ]
    }
   ],
   "source": [
    "var =\"python\"\n",
    "print var.zfill(10)\n",
    "print var.zfill(5)"
   ]
  },
  {
   "cell_type": "code",
   "execution_count": 22,
   "metadata": {},
   "outputs": [
    {
     "name": "stdout",
     "output_type": "stream",
     "text": [
      "True\n",
      "False\n"
     ]
    }
   ],
   "source": [
    "var='123'\n",
    "print var.isdigit()\n",
    "var = \"123e\"\n",
    "print var.isdigit()"
   ]
  },
  {
   "cell_type": "code",
   "execution_count": 23,
   "metadata": {},
   "outputs": [
    {
     "name": "stdout",
     "output_type": "stream",
     "text": [
      "True\n",
      "False\n"
     ]
    }
   ],
   "source": [
    "var='hfdfhgfUYUTY'\n",
    "print var.isalpha()\n",
    "var = \"123kjfje\"\n",
    "print var.isalpha()"
   ]
  },
  {
   "cell_type": "code",
   "execution_count": 24,
   "metadata": {},
   "outputs": [
    {
     "name": "stdout",
     "output_type": "stream",
     "text": [
      "True\n",
      "True\n",
      "True\n",
      "False\n"
     ]
    }
   ],
   "source": [
    "var='hfdfhgfUYUTY'\n",
    "print var.isalnum()\n",
    "var = \"123kjfje\"\n",
    "print var.isalnum()\n",
    "var = \"12345\"\n",
    "print var.isalnum()\n",
    "var =\"dkfjd ^^ jksf\"\n",
    "print var.isalnum()"
   ]
  },
  {
   "cell_type": "code",
   "execution_count": 25,
   "metadata": {},
   "outputs": [
    {
     "name": "stdout",
     "output_type": "stream",
     "text": [
      "True\n",
      "False\n"
     ]
    }
   ],
   "source": [
    "var='      '\n",
    "print var.isspace()\n",
    "var = \"123   kjfje\"\n",
    "print var.isspace()\n"
   ]
  },
  {
   "cell_type": "code",
   "execution_count": 26,
   "metadata": {},
   "outputs": [
    {
     "name": "stdout",
     "output_type": "stream",
     "text": [
      "True\n",
      "False\n"
     ]
    }
   ],
   "source": [
    "var =\"kjhkjh87\"\n",
    "print var.islower()\n",
    "var =\"kJjf87\"\n",
    "print var.islower()"
   ]
  },
  {
   "cell_type": "code",
   "execution_count": 28,
   "metadata": {},
   "outputs": [
    {
     "name": "stdout",
     "output_type": "stream",
     "text": [
      "True\n",
      "False\n"
     ]
    }
   ],
   "source": [
    "var =\"KHDJKH76\"\n",
    "print var.isupper()\n",
    "var =\"kJH87\"\n",
    "print var.isupper()"
   ]
  },
  {
   "cell_type": "code",
   "execution_count": 29,
   "metadata": {},
   "outputs": [
    {
     "name": "stdout",
     "output_type": "stream",
     "text": [
      "['__add__', '__class__', '__contains__', '__delattr__', '__doc__', '__eq__', '__format__', '__ge__', '__getattribute__', '__getitem__', '__getnewargs__', '__getslice__', '__gt__', '__hash__', '__init__', '__le__', '__len__', '__lt__', '__mod__', '__mul__', '__ne__', '__new__', '__reduce__', '__reduce_ex__', '__repr__', '__rmod__', '__rmul__', '__setattr__', '__sizeof__', '__str__', '__subclasshook__', '_formatter_field_name_split', '_formatter_parser', 'capitalize', 'center', 'count', 'decode', 'encode', 'endswith', 'expandtabs', 'find', 'format', 'index', 'isalnum', 'isalpha', 'isdigit', 'islower', 'isspace', 'istitle', 'isupper', 'join', 'ljust', 'lower', 'lstrip', 'partition', 'replace', 'rfind', 'rindex', 'rjust', 'rpartition', 'rsplit', 'rstrip', 'split', 'splitlines', 'startswith', 'strip', 'swapcase', 'title', 'translate', 'upper', 'zfill']\n"
     ]
    }
   ],
   "source": [
    "print dir(str)"
   ]
  },
  {
   "cell_type": "code",
   "execution_count": null,
   "metadata": {},
   "outputs": [],
   "source": [
    "var=\"python program language\"\n",
    "p"
   ]
  }
 ],
 "metadata": {
  "kernelspec": {
   "display_name": "Python 2",
   "language": "python",
   "name": "python2"
  },
  "language_info": {
   "codemirror_mode": {
    "name": "ipython",
    "version": 2
   },
   "file_extension": ".py",
   "mimetype": "text/x-python",
   "name": "python",
   "nbconvert_exporter": "python",
   "pygments_lexer": "ipython2",
   "version": "2.7.16"
  }
 },
 "nbformat": 4,
 "nbformat_minor": 2
}
