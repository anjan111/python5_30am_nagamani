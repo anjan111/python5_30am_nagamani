{
 "cells": [
  {
   "cell_type": "markdown",
   "metadata": {},
   "source": [
    "# Object Oriented Programming Language \n",
    "\n",
    "==>> If any Programming Language which follows the some specific features\n",
    "\n",
    "1. Polymorphism\n",
    "\n",
    "2. Inheritance\n",
    "\n",
    "3. Method Overridding  / Method Overloading\n",
    "\n",
    "4. Operator Overriding / Operator Overloading\n",
    "\n",
    "5. Data Hiding \n",
    "\n",
    "6. Data Encapulation\n",
    "\n",
    "==>> If any programming Language is follows above feature bcz of which having some oops components\n",
    "\n",
    "1. class\n",
    "\n",
    "2. object\n",
    "\n",
    "3. Attributes\n",
    "\n",
    "#### What is class\n",
    "\n",
    "==>> class is an imaginary \n",
    "\n",
    "==>> class is a logical entity for an object\n",
    "\n",
    "==>> class is a template for an object\n",
    "\n",
    "==>> we can create a class wih help of class keyword\n",
    "\n",
    "==>> class which doesn't contain memory \n",
    "\n",
    "==>> class having collection of attribute ( variable / functions)\n",
    "\n"
   ]
  },
  {
   "cell_type": "code",
   "execution_count": 1,
   "metadata": {},
   "outputs": [],
   "source": [
    "# syntax of create a class\n",
    "class   Class_name():\n",
    "    #attributes\n",
    "    pass"
   ]
  },
  {
   "cell_type": "code",
   "execution_count": 2,
   "metadata": {},
   "outputs": [
    {
     "name": "stdout",
     "output_type": "stream",
     "text": [
      "78098888\n",
      "78100232\n",
      "78099656\n"
     ]
    }
   ],
   "source": [
    "# object \n",
    "'''\n",
    "==>> Its a physical entity for logical class\n",
    "==>> object is an instance of the class\n",
    "==>> object having the memory\n",
    "==>> A single class we can create multiple objects \n",
    "'''\n",
    "class Class_name():\n",
    "    pass\n",
    "\n",
    "\n",
    "obj1 = Class_name()\n",
    "obj2 = Class_name()\n",
    "obj3 = Class_name()\n",
    "\n",
    "print id(obj1)\n",
    "print id(obj2)\n",
    "print id(obj3)"
   ]
  },
  {
   "cell_type": "code",
   "execution_count": 3,
   "metadata": {},
   "outputs": [
    {
     "name": "stdout",
     "output_type": "stream",
     "text": [
      "78101000\n",
      "78099464\n",
      "78098888\n"
     ]
    }
   ],
   "source": [
    "class Class_name():\n",
    "    pass\n",
    "\n",
    "\n",
    "obj1 = Class_name()\n",
    "obj2 = Class_name()\n",
    "obj3 = Class_name()\n",
    "\n",
    "print id(obj1)\n",
    "print id(obj2)\n",
    "print id(obj3)"
   ]
  },
  {
   "cell_type": "code",
   "execution_count": 6,
   "metadata": {},
   "outputs": [
    {
     "name": "stdout",
     "output_type": "stream",
     "text": [
      "78101256\n",
      "78100104\n",
      "78100360\n",
      "100\n",
      "100\n",
      "100\n",
      "450\n",
      "550\n",
      "100\n"
     ]
    }
   ],
   "source": [
    "class Class_name():\n",
    "    var = 100 # var is class attribute \n",
    "\n",
    "obj1 = Class_name()\n",
    "obj2 = Class_name()\n",
    "obj3 = Class_name()\n",
    "print id(obj1)\n",
    "print id(obj2)\n",
    "print id(obj3)\n",
    "print obj1.var\n",
    "print obj2.var\n",
    "print obj3.var\n",
    "obj1.var = 450\n",
    "obj2.var = 550\n",
    "\n",
    "print obj1.var\n",
    "print obj2.var\n",
    "print obj3.var"
   ]
  },
  {
   "cell_type": "code",
   "execution_count": null,
   "metadata": {},
   "outputs": [],
   "source": []
  }
 ],
 "metadata": {
  "kernelspec": {
   "display_name": "Python 2",
   "language": "python",
   "name": "python2"
  },
  "language_info": {
   "codemirror_mode": {
    "name": "ipython",
    "version": 2
   },
   "file_extension": ".py",
   "mimetype": "text/x-python",
   "name": "python",
   "nbconvert_exporter": "python",
   "pygments_lexer": "ipython2",
   "version": "2.7.16"
  }
 },
 "nbformat": 4,
 "nbformat_minor": 2
}
