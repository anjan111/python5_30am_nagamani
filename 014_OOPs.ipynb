{
 "cells": [
  {
   "cell_type": "markdown",
   "metadata": {},
   "source": [
    "# Object Oriented Programming Language \n",
    "\n",
    "==>> If any Programming Language which follows the some specific features\n",
    "\n",
    "1. Polymorphism\n",
    "\n",
    "2. Inheritance\n",
    "\n",
    "3. Method Overridding  / Method Overloading\n",
    "\n",
    "4. Operator Overriding / Operator Overloading\n",
    "\n",
    "5. Data Hiding \n",
    "\n",
    "6. Data Encapulation\n",
    "\n",
    "==>> If any programming Language is follows above feature bcz of which having some oops components\n",
    "\n",
    "1. class\n",
    "\n",
    "2. object\n",
    "\n",
    "3. Attributes\n",
    "\n",
    "#### What is class\n",
    "\n",
    "==>> class is an imaginary \n",
    "\n",
    "==>> class is a logical entity for an object\n",
    "\n",
    "==>> class is a template for an object\n",
    "\n",
    "==>> we can create a class wih help of class keyword\n",
    "\n",
    "==>> class which doesn't contain memory \n",
    "\n",
    "==>> class having collection of attribute ( variable / functions)\n",
    "\n"
   ]
  },
  {
   "cell_type": "code",
   "execution_count": 1,
   "metadata": {},
   "outputs": [],
   "source": [
    "# syntax of create a class\n",
    "class   Class_name():\n",
    "    #attributes\n",
    "    pass"
   ]
  },
  {
   "cell_type": "code",
   "execution_count": 2,
   "metadata": {},
   "outputs": [
    {
     "name": "stdout",
     "output_type": "stream",
     "text": [
      "78098888\n",
      "78100232\n",
      "78099656\n"
     ]
    }
   ],
   "source": [
    "# object \n",
    "'''\n",
    "==>> Its a physical entity for logical class\n",
    "==>> object is an instance of the class\n",
    "==>> object having the memory\n",
    "==>> A single class we can create multiple objects \n",
    "'''\n",
    "class Class_name():\n",
    "    pass\n",
    "\n",
    "\n",
    "obj1 = Class_name()\n",
    "obj2 = Class_name()\n",
    "obj3 = Class_name()\n",
    "\n",
    "print id(obj1)\n",
    "print id(obj2)\n",
    "print id(obj3)"
   ]
  },
  {
   "cell_type": "code",
   "execution_count": 3,
   "metadata": {},
   "outputs": [
    {
     "name": "stdout",
     "output_type": "stream",
     "text": [
      "78101000\n",
      "78099464\n",
      "78098888\n"
     ]
    }
   ],
   "source": [
    "class Class_name():\n",
    "    pass\n",
    "\n",
    "\n",
    "obj1 = Class_name()\n",
    "obj2 = Class_name()\n",
    "obj3 = Class_name()\n",
    "\n",
    "print id(obj1)\n",
    "print id(obj2)\n",
    "print id(obj3)"
   ]
  },
  {
   "cell_type": "code",
   "execution_count": 6,
   "metadata": {},
   "outputs": [
    {
     "name": "stdout",
     "output_type": "stream",
     "text": [
      "78101256\n",
      "78100104\n",
      "78100360\n",
      "100\n",
      "100\n",
      "100\n",
      "450\n",
      "550\n",
      "100\n"
     ]
    }
   ],
   "source": [
    "class Class_name():\n",
    "    var = 100 # var is class attribute \n",
    "\n",
    "obj1 = Class_name()\n",
    "obj2 = Class_name()\n",
    "obj3 = Class_name()\n",
    "print id(obj1)\n",
    "print id(obj2)\n",
    "print id(obj3)\n",
    "print obj1.var\n",
    "print obj2.var\n",
    "print obj3.var\n",
    "obj1.var = 450\n",
    "obj2.var = 550\n",
    "\n",
    "print obj1.var\n",
    "print obj2.var\n",
    "print obj3.var"
   ]
  },
  {
   "cell_type": "code",
   "execution_count": 1,
   "metadata": {},
   "outputs": [
    {
     "name": "stdout",
     "output_type": "stream",
     "text": [
      "<__main__.Class_name instance at 0x00000000047BB9C8>\n",
      "<__main__.Class_name instance at 0x00000000047B5CC8>\n",
      "<__main__.Class_name instance at 0x00000000047BBA88>\n",
      "*********\n",
      "self :  <__main__.Class_name instance at 0x00000000047BB9C8>\n",
      "100\n",
      "self :  <__main__.Class_name instance at 0x00000000047B5CC8>\n",
      "100\n",
      "self :  <__main__.Class_name instance at 0x00000000047BBA88>\n",
      "100\n"
     ]
    }
   ],
   "source": [
    "# methods \n",
    "'''\n",
    "-->> The functions we should defined inside of the class\n",
    "def  Method(self):\n",
    "    statement\n",
    "    ---------\n",
    "    --------\n",
    "'''\n",
    "\n",
    "class Class_name():\n",
    "    var = 100 # var is class attribute \n",
    "    def method_name(self):\n",
    "        print \"self : \",self\n",
    "        print self.var\n",
    "    \n",
    "obj1 = Class_name()\n",
    "obj2 = Class_name()\n",
    "obj3 = Class_name()\n",
    "print obj1\n",
    "print obj2\n",
    "print obj3\n",
    "print \"*********\"\n",
    "obj1.method_name()\n",
    "obj2.method_name()\n",
    "obj3.method_name()\n"
   ]
  },
  {
   "cell_type": "code",
   "execution_count": 3,
   "metadata": {},
   "outputs": [
    {
     "name": "stdout",
     "output_type": "stream",
     "text": [
      "enter var : 123\n",
      "enter var : 345\n",
      "enter var : 678\n",
      "*********\n",
      "self :  <__main__.Class_name instance at 0x0000000004A223C8>\n",
      "123\n",
      "self :  <__main__.Class_name instance at 0x0000000004A22488>\n",
      "345\n",
      "self :  <__main__.Class_name instance at 0x0000000004A225C8>\n",
      "678\n"
     ]
    }
   ],
   "source": [
    "class Class_name():\n",
    "    def __init__(self):  # constructor special method\n",
    "        '''\n",
    "        This is constructor which can executed automatically\n",
    "        whenever we created new object\n",
    "        '''\n",
    "        self.var = input(\"enter var : \")    \n",
    "   \n",
    "    def method_name(self): # used defined methods\n",
    "        print \"self : \",self\n",
    "        print self.var\n",
    "    \n",
    "obj1 = Class_name()\n",
    "obj2 = Class_name()\n",
    "obj3 = Class_name()\n",
    "\n",
    "print \"*********\"\n",
    "obj1.method_name()\n",
    "obj2.method_name()\n",
    "obj3.method_name()\n"
   ]
  },
  {
   "cell_type": "code",
   "execution_count": 4,
   "metadata": {},
   "outputs": [
    {
     "name": "stdout",
     "output_type": "stream",
     "text": [
      "enter var : 456\n",
      "enter var : 789\n",
      "enter var : 456\n",
      "*********\n",
      "self :  <__main__.Class_name instance at 0x0000000004A22848>\n",
      "456\n",
      "self :  <__main__.Class_name instance at 0x0000000004A22888>\n",
      "789\n",
      "self :  <__main__.Class_name instance at 0x0000000004A223C8>\n",
      "456\n",
      "**********\n",
      "i am destructor\n",
      "i am destructor\n",
      "i am destructor\n"
     ]
    }
   ],
   "source": [
    "class Class_name():\n",
    "    def __init__(self):  # constructor special method\n",
    "        self.var = input(\"enter var : \")    \n",
    "    def method_name(self): # used defined methods\n",
    "        print \"self : \",self\n",
    "        print self.var\n",
    "    def __del__(self): # destroctors\n",
    "        print \"i am destructor\"\n",
    "    \n",
    "obj1 = Class_name()\n",
    "obj2 = Class_name()\n",
    "obj3 = Class_name()\n",
    "\n",
    "print \"*********\"\n",
    "obj1.method_name()\n",
    "obj2.method_name()\n",
    "obj3.method_name()\n",
    "print \"**********\"\n",
    "del obj1\n",
    "del obj2\n",
    "del obj3"
   ]
  },
  {
   "cell_type": "code",
   "execution_count": 2,
   "metadata": {},
   "outputs": [
    {
     "name": "stdout",
     "output_type": "stream",
     "text": [
      "in side of the class\n",
      "a :  123\n",
      "__b :  130\n",
      "outside of the class\n",
      "123\n"
     ]
    },
    {
     "ename": "AttributeError",
     "evalue": "Class_name instance has no attribute '__b'",
     "output_type": "error",
     "traceback": [
      "\u001b[1;31m---------------------------------------------------------------------------\u001b[0m",
      "\u001b[1;31mAttributeError\u001b[0m                            Traceback (most recent call last)",
      "\u001b[1;32m<ipython-input-2-96266504321f>\u001b[0m in \u001b[0;36m<module>\u001b[1;34m()\u001b[0m\n\u001b[0;32m     17\u001b[0m \u001b[1;32mprint\u001b[0m \u001b[1;34m\"outside of the class\"\u001b[0m\u001b[1;33m\u001b[0m\u001b[0m\n\u001b[0;32m     18\u001b[0m \u001b[1;32mprint\u001b[0m \u001b[0mobj\u001b[0m\u001b[1;33m.\u001b[0m\u001b[0ma\u001b[0m\u001b[1;33m\u001b[0m\u001b[0m\n\u001b[1;32m---> 19\u001b[1;33m \u001b[1;32mprint\u001b[0m \u001b[0mobj\u001b[0m\u001b[1;33m.\u001b[0m\u001b[0m__b\u001b[0m\u001b[1;33m\u001b[0m\u001b[0m\n\u001b[0m",
      "\u001b[1;31mAttributeError\u001b[0m: Class_name instance has no attribute '__b'"
     ]
    }
   ],
   "source": [
    "#data hiding \n",
    "'''\n",
    "data having two properties \n",
    "data might be public --->> we can modify/access from any where\n",
    "data might be private -->> we can access / modify only inside of the class ( data hinding )\n",
    "'''\n",
    "class Class_name():\n",
    "    a = 123  # public attribute\n",
    "    __b = 130 # private attribute\n",
    "    def access(self):\n",
    "        print \"in side of the class\"\n",
    "        print \"a : \",self.a\n",
    "        print \"__b : \",self.__b\n",
    "    \n",
    "obj  = Class_name()\n",
    "obj.access()\n",
    "print \"outside of the class\"\n",
    "print obj.a\n",
    "print obj.__b"
   ]
  },
  {
   "cell_type": "code",
   "execution_count": 3,
   "metadata": {},
   "outputs": [
    {
     "name": "stdout",
     "output_type": "stream",
     "text": [
      "in side of the class\n",
      "a :  123\n",
      "__b :  130\n",
      "outside of the class\n",
      "123\n",
      "130\n"
     ]
    }
   ],
   "source": [
    "# data encapulation\n",
    "'''\n",
    "==>> The process of the access the hided data \n",
    "'''\n",
    "class Class_name():\n",
    "    a = 123  # public attribute\n",
    "    __b = 130 # private attribute\n",
    "    def access(self):\n",
    "        print \"in side of the class\"\n",
    "        print \"a : \",self.a\n",
    "        print \"__b : \",self.__b\n",
    "    \n",
    "obj  = Class_name()\n",
    "obj.access()\n",
    "print \"outside of the class\"\n",
    "print obj.a\n",
    "print obj._Class_name__b # data encapulation"
   ]
  },
  {
   "cell_type": "code",
   "execution_count": 4,
   "metadata": {},
   "outputs": [
    {
     "name": "stdout",
     "output_type": "stream",
     "text": [
      "i am new method 2\n",
      "i am new method 2\n"
     ]
    }
   ],
   "source": [
    "# method overriding \n",
    "class Class_name():\n",
    "    def new_met(self):\n",
    "        print\" i am new methood 1\"\n",
    "    def new_met(self):\n",
    "        print \"i am new method 2\"\n",
    "obj = Class_name()\n",
    "obj.new_met()\n",
    "obj.new_met()"
   ]
  },
  {
   "cell_type": "code",
   "execution_count": 5,
   "metadata": {},
   "outputs": [
    {
     "name": "stdout",
     "output_type": "stream",
     "text": [
      "i am new method 2\n",
      "i am new method 2\n"
     ]
    }
   ],
   "source": [
    "# method overloading is not supported  \n",
    "class Class_name():\n",
    "    def new_met(self,a=None):\n",
    "        print\" i am new methood 1\"\n",
    "    def new_met(self,a=None,b=None):\n",
    "        print \"i am new method 2\"\n",
    "obj = Class_name()\n",
    "obj.new_met(10)\n",
    "obj.new_met(10,20)"
   ]
  },
  {
   "cell_type": "code",
   "execution_count": 6,
   "metadata": {},
   "outputs": [
    {
     "name": "stdout",
     "output_type": "stream",
     "text": [
      "30\n",
      "1020\n"
     ]
    }
   ],
   "source": [
    "#operator overloading \n",
    "print 10 + 20 # 30\n",
    "print \"10\"+ \"20\" # \"1020\""
   ]
  },
  {
   "cell_type": "code",
   "execution_count": 9,
   "metadata": {},
   "outputs": [
    {
     "name": "stdout",
     "output_type": "stream",
     "text": [
      "['__abs__', '__add__', '__and__', '__class__', '__cmp__', '__coerce__', '__delattr__', '__div__', '__divmod__', '__doc__', '__float__', '__floordiv__', '__format__', '__getattribute__', '__getnewargs__', '__hash__', '__hex__', '__index__', '__init__', '__int__', '__invert__', '__long__', '__lshift__', '__mod__', '__mul__', '__neg__', '__new__', '__nonzero__', '__oct__', '__or__', '__pos__', '__pow__', '__radd__', '__rand__', '__rdiv__', '__rdivmod__', '__reduce__', '__reduce_ex__', '__repr__', '__rfloordiv__', '__rlshift__', '__rmod__', '__rmul__', '__ror__', '__rpow__', '__rrshift__', '__rshift__', '__rsub__', '__rtruediv__', '__rxor__', '__setattr__', '__sizeof__', '__str__', '__sub__', '__subclasshook__', '__truediv__', '__trunc__', '__xor__', 'bit_length', 'conjugate', 'denominator', 'imag', 'numerator', 'real']\n"
     ]
    }
   ],
   "source": [
    "print dir(int)"
   ]
  },
  {
   "cell_type": "code",
   "execution_count": 10,
   "metadata": {},
   "outputs": [
    {
     "name": "stdout",
     "output_type": "stream",
     "text": [
      "['__add__', '__class__', '__contains__', '__delattr__', '__doc__', '__eq__', '__format__', '__ge__', '__getattribute__', '__getitem__', '__getnewargs__', '__getslice__', '__gt__', '__hash__', '__init__', '__le__', '__len__', '__lt__', '__mod__', '__mul__', '__ne__', '__new__', '__reduce__', '__reduce_ex__', '__repr__', '__rmod__', '__rmul__', '__setattr__', '__sizeof__', '__str__', '__subclasshook__', '_formatter_field_name_split', '_formatter_parser', 'capitalize', 'center', 'count', 'decode', 'encode', 'endswith', 'expandtabs', 'find', 'format', 'index', 'isalnum', 'isalpha', 'isdigit', 'islower', 'isspace', 'istitle', 'isupper', 'join', 'ljust', 'lower', 'lstrip', 'partition', 'replace', 'rfind', 'rindex', 'rjust', 'rpartition', 'rsplit', 'rstrip', 'split', 'splitlines', 'startswith', 'strip', 'swapcase', 'title', 'translate', 'upper', 'zfill']\n"
     ]
    }
   ],
   "source": [
    "print dir(str)"
   ]
  },
  {
   "cell_type": "code",
   "execution_count": 7,
   "metadata": {},
   "outputs": [
    {
     "name": "stdout",
     "output_type": "stream",
     "text": [
      "i am new from class1\n",
      "i am new from class2\n"
     ]
    }
   ],
   "source": [
    "# polymorsphim \n",
    "'''\n",
    "A same method can do multiple task\n",
    "'''\n",
    "class Class_name1():\n",
    "    def new_met(self):\n",
    "        print \"i am new from class1\"\n",
    "class Class_name2():\n",
    "    def new_met(self):\n",
    "        print \"i am new from class2\"\n",
    "obj1 = Class_name1()\n",
    "obj2 = Class_name2()\n",
    "obj1.new_met()\n",
    "obj2.new_met()"
   ]
  },
  {
   "cell_type": "code",
   "execution_count": 11,
   "metadata": {},
   "outputs": [
    {
     "name": "stdout",
     "output_type": "stream",
     "text": [
      "i am new1 from class1\n",
      "i am new2 from class2\n"
     ]
    }
   ],
   "source": [
    "# Inhirtance \n",
    "'''\n",
    "access the one class( Base class) properties to another class(derived class)\n",
    "'''\n",
    "class Base_class():\n",
    "    def new_met1(self):\n",
    "        print \"i am new1 from class1\"\n",
    "        \n",
    "class Derived_class(Base_class):\n",
    "    \n",
    "    def new_met2(self):\n",
    "        print \"i am new2 from class2\"\n",
    "        \n",
    "\n",
    "obj2 = Derived_class()\n",
    "obj2.new_met1()\n",
    "obj2.new_met2()"
   ]
  },
  {
   "cell_type": "code",
   "execution_count": null,
   "metadata": {},
   "outputs": [],
   "source": []
  }
 ],
 "metadata": {
  "kernelspec": {
   "display_name": "Python 2",
   "language": "python",
   "name": "python2"
  },
  "language_info": {
   "codemirror_mode": {
    "name": "ipython",
    "version": 2
   },
   "file_extension": ".py",
   "mimetype": "text/x-python",
   "name": "python",
   "nbconvert_exporter": "python",
   "pygments_lexer": "ipython2",
   "version": "2.7.16"
  }
 },
 "nbformat": 4,
 "nbformat_minor": 2
}
