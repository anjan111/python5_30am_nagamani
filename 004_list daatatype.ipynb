{
 "cells": [
  {
   "cell_type": "code",
   "execution_count": 1,
   "metadata": {},
   "outputs": [
    {
     "name": "stdout",
     "output_type": "stream",
     "text": [
      "[12, 5.3, (89+4j)]\n",
      "<type 'list'>\n"
     ]
    }
   ],
   "source": [
    "# list --->> collection of elements in side of  []\n",
    "# list datatype --->> hetrogenious datatype\n",
    "var  = [12,5.3,89+4j]\n",
    "print var\n",
    "print type(var)"
   ]
  },
  {
   "cell_type": "code",
   "execution_count": 2,
   "metadata": {},
   "outputs": [
    {
     "name": "stdout",
     "output_type": "stream",
     "text": [
      "[12, [45, 6, 8], 90.34]\n",
      "<type 'list'>\n"
     ]
    }
   ],
   "source": [
    "# nested list --->> list contains another list\n",
    "var = [12,[45,6,8],90.34]\n",
    "print var\n",
    "print type(var)"
   ]
  },
  {
   "cell_type": "code",
   "execution_count": 3,
   "metadata": {},
   "outputs": [
    {
     "name": "stdout",
     "output_type": "stream",
     "text": [
      "90\n",
      "34\n",
      "89\n",
      "23\n",
      "*****\n",
      "23\n",
      "89\n",
      "34\n",
      "90\n"
     ]
    }
   ],
   "source": [
    "# access the elements from list --->> indexing  ---> only element\n",
    "var = [90,34,89,23] # 4 elements\n",
    "# positive index\n",
    "print var[0]\n",
    "print var[1]\n",
    "print var[2]\n",
    "print var[3]\n",
    "print \"*****\"\n",
    "# negative index\n",
    "print var[-1]\n",
    "print var[-2]\n",
    "print var[-3]\n",
    "print var[-4]"
   ]
  },
  {
   "cell_type": "code",
   "execution_count": 5,
   "metadata": {},
   "outputs": [
    {
     "name": "stdout",
     "output_type": "stream",
     "text": [
      "[2, 8, 7, 90]\n",
      "[9, 3, 6, 2, 8, 7, 90]\n",
      "[9, 3, 6, 2, 8, 7, 90]\n",
      "[2, 8, 7, 90, 123, 78]\n",
      "[2, 8, 7, 90, 123, 78]\n"
     ]
    }
   ],
   "source": [
    "#list slicing  --->> we can access list  of continious list element\n",
    "var =[9,3,6,2,8,7,90,123,78] # 9 elememts\n",
    "# var[ start  :  stop ]\n",
    "# start --->> 0\n",
    "# stop ---->> len of list\n",
    "print var[3:7]\n",
    "print var[:7]\n",
    "print var[0:7]\n",
    "print var[3:]\n",
    "print var[3:9]"
   ]
  },
  {
   "cell_type": "code",
   "execution_count": 9,
   "metadata": {},
   "outputs": [
    {
     "name": "stdout",
     "output_type": "stream",
     "text": [
      "[3, 2, 7]\n",
      "[6, 2, 8, 7, 90]\n",
      "[6, 2, 8, 7, 90]\n",
      "[9, 2, 90]\n",
      "[2, 7, 123]\n"
     ]
    }
   ],
   "source": [
    "# list dicing --->> step wise element\n",
    "# var[start :  stop : step]\n",
    "# step --->>> 1\n",
    "# stop --->>> len\n",
    "# start --->> 0\n",
    "\n",
    "var =[9,3,6,2,8,7,90,123,78]\n",
    "print var[1:7:2]#index elements of  1,3,5, we can access\n",
    "print var[2:7:]\n",
    "print var[2:7:1]\n",
    "print var[:7:3]# index elements of  0,3,6\n",
    "print var[3::2]# index elements of  3,5,7"
   ]
  },
  {
   "cell_type": "code",
   "execution_count": 10,
   "metadata": {},
   "outputs": [
    {
     "name": "stdout",
     "output_type": "stream",
     "text": [
      "[6, 7, 8]\n",
      "[2, 9, 4]\n",
      "[6, 8]\n",
      "9\n"
     ]
    }
   ],
   "source": [
    "# nested indexing  list --->> sub list\n",
    "var =[[6,7,8],[2,9,4]]# 2 elements\n",
    "print var[0] # [6,7,8]\n",
    "print var[1]# [2,9,4]\n",
    "print var[0][0:3:2]#[6,8]\n",
    "print var[1][1]"
   ]
  },
  {
   "cell_type": "code",
   "execution_count": 12,
   "metadata": {},
   "outputs": [
    {
     "name": "stdout",
     "output_type": "stream",
     "text": [
      "[90, 67, 120]\n"
     ]
    }
   ],
   "source": [
    "# list dicing \n",
    "var=[8,90,34,67,78,120]\n",
    "print var[1:6:2]"
   ]
  },
  {
   "cell_type": "code",
   "execution_count": 13,
   "metadata": {},
   "outputs": [
    {
     "name": "stdout",
     "output_type": "stream",
     "text": [
      "[3, 8, 4]\n",
      "8\n",
      "[3, 100, 4]\n"
     ]
    }
   ],
   "source": [
    "# list is mutable datatype\n",
    "# list elements -->> we can change\n",
    "var = [3,8,4]\n",
    "print var\n",
    "print var[1] # 8\n",
    "var[1] = 100\n",
    "print var"
   ]
  },
  {
   "cell_type": "code",
   "execution_count": 15,
   "metadata": {},
   "outputs": [
    {
     "name": "stdout",
     "output_type": "stream",
     "text": [
      "-56\n",
      "45\n",
      "3\n",
      "6\n"
     ]
    }
   ],
   "source": [
    "var = [3,8,3,0,45,-56]\n",
    "print min(var)\n",
    "print max(var)\n",
    "print sum(var)\n",
    "print len(var)"
   ]
  },
  {
   "cell_type": "code",
   "execution_count": null,
   "metadata": {},
   "outputs": [],
   "source": [
    "# list manipulation methods & tuples"
   ]
  }
 ],
 "metadata": {
  "kernelspec": {
   "display_name": "Python 2",
   "language": "python",
   "name": "python2"
  },
  "language_info": {
   "codemirror_mode": {
    "name": "ipython",
    "version": 2
   },
   "file_extension": ".py",
   "mimetype": "text/x-python",
   "name": "python",
   "nbconvert_exporter": "python",
   "pygments_lexer": "ipython2",
   "version": "2.7.16"
  }
 },
 "nbformat": 4,
 "nbformat_minor": 2
}
