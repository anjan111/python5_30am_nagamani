{
 "cells": [
  {
   "cell_type": "code",
   "execution_count": 1,
   "metadata": {},
   "outputs": [
    {
     "name": "stdout",
     "output_type": "stream",
     "text": [
      "[12, 5.3, (89+4j)]\n",
      "<type 'list'>\n"
     ]
    }
   ],
   "source": [
    "# list --->> collection of elements in side of  []\n",
    "# list datatype --->> hetrogenious datatype\n",
    "var  = [12,5.3,89+4j]\n",
    "print var\n",
    "print type(var)"
   ]
  },
  {
   "cell_type": "code",
   "execution_count": 2,
   "metadata": {},
   "outputs": [
    {
     "name": "stdout",
     "output_type": "stream",
     "text": [
      "[12, [45, 6, 8], 90.34]\n",
      "<type 'list'>\n"
     ]
    }
   ],
   "source": [
    "# nested list --->> list contains another list\n",
    "var = [12,[45,6,8],90.34]\n",
    "print var\n",
    "print type(var)"
   ]
  },
  {
   "cell_type": "code",
   "execution_count": 3,
   "metadata": {},
   "outputs": [
    {
     "name": "stdout",
     "output_type": "stream",
     "text": [
      "90\n",
      "34\n",
      "89\n",
      "23\n",
      "*****\n",
      "23\n",
      "89\n",
      "34\n",
      "90\n"
     ]
    }
   ],
   "source": [
    "# access the elements from list --->> indexing  ---> only element\n",
    "var = [90,34,89,23] # 4 elements\n",
    "# positive index\n",
    "print var[0]\n",
    "print var[1]\n",
    "print var[2]\n",
    "print var[3]\n",
    "print \"*****\"\n",
    "# negative index\n",
    "print var[-1]\n",
    "print var[-2]\n",
    "print var[-3]\n",
    "print var[-4]"
   ]
  },
  {
   "cell_type": "code",
   "execution_count": 5,
   "metadata": {},
   "outputs": [
    {
     "name": "stdout",
     "output_type": "stream",
     "text": [
      "[2, 8, 7, 90]\n",
      "[9, 3, 6, 2, 8, 7, 90]\n",
      "[9, 3, 6, 2, 8, 7, 90]\n",
      "[2, 8, 7, 90, 123, 78]\n",
      "[2, 8, 7, 90, 123, 78]\n"
     ]
    }
   ],
   "source": [
    "#list slicing  --->> we can access list  of continious list element\n",
    "var =[9,3,6,2,8,7,90,123,78] # 9 elememts\n",
    "# var[ start  :  stop ]\n",
    "# start --->> 0\n",
    "# stop ---->> len of list\n",
    "print var[3:7]\n",
    "print var[:7]\n",
    "print var[0:7]\n",
    "print var[3:]\n",
    "print var[3:9]"
   ]
  },
  {
   "cell_type": "code",
   "execution_count": 9,
   "metadata": {},
   "outputs": [
    {
     "name": "stdout",
     "output_type": "stream",
     "text": [
      "[3, 2, 7]\n",
      "[6, 2, 8, 7, 90]\n",
      "[6, 2, 8, 7, 90]\n",
      "[9, 2, 90]\n",
      "[2, 7, 123]\n"
     ]
    }
   ],
   "source": [
    "# list dicing --->> step wise element\n",
    "# var[start :  stop : step]\n",
    "# step --->>> 1\n",
    "# stop --->>> len\n",
    "# start --->> 0\n",
    "\n",
    "var =[9,3,6,2,8,7,90,123,78]\n",
    "print var[1:7:2]#index elements of  1,3,5, we can access\n",
    "print var[2:7:]\n",
    "print var[2:7:1]\n",
    "print var[:7:3]# index elements of  0,3,6\n",
    "print var[3::2]# index elements of  3,5,7"
   ]
  },
  {
   "cell_type": "code",
   "execution_count": 10,
   "metadata": {},
   "outputs": [
    {
     "name": "stdout",
     "output_type": "stream",
     "text": [
      "[6, 7, 8]\n",
      "[2, 9, 4]\n",
      "[6, 8]\n",
      "9\n"
     ]
    }
   ],
   "source": [
    "# nested indexing  list --->> sub list\n",
    "var =[[6,7,8],[2,9,4]]# 2 elements\n",
    "print var[0] # [6,7,8]\n",
    "print var[1]# [2,9,4]\n",
    "print var[0][0:3:2]#[6,8]\n",
    "print var[1][1]"
   ]
  },
  {
   "cell_type": "code",
   "execution_count": 12,
   "metadata": {},
   "outputs": [
    {
     "name": "stdout",
     "output_type": "stream",
     "text": [
      "[90, 67, 120]\n"
     ]
    }
   ],
   "source": [
    "# list dicing \n",
    "var=[8,90,34,67,78,120]\n",
    "print var[1:6:2]"
   ]
  },
  {
   "cell_type": "code",
   "execution_count": 13,
   "metadata": {},
   "outputs": [
    {
     "name": "stdout",
     "output_type": "stream",
     "text": [
      "[3, 8, 4]\n",
      "8\n",
      "[3, 100, 4]\n"
     ]
    }
   ],
   "source": [
    "# list is mutable datatype\n",
    "# list elements -->> we can change\n",
    "var = [3,8,4]\n",
    "print var\n",
    "print var[1] # 8\n",
    "var[1] = 100\n",
    "print var"
   ]
  },
  {
   "cell_type": "code",
   "execution_count": 15,
   "metadata": {},
   "outputs": [
    {
     "name": "stdout",
     "output_type": "stream",
     "text": [
      "-56\n",
      "45\n",
      "3\n",
      "6\n"
     ]
    }
   ],
   "source": [
    "var = [3,8,3,0,45,-56]\n",
    "print min(var)\n",
    "print max(var)\n",
    "print sum(var)\n",
    "print len(var)"
   ]
  },
  {
   "cell_type": "code",
   "execution_count": 1,
   "metadata": {},
   "outputs": [
    {
     "name": "stdout",
     "output_type": "stream",
     "text": [
      "['__add__', '__class__', '__contains__', '__delattr__', '__delitem__', '__delslice__', '__doc__', '__eq__', '__format__', '__ge__', '__getattribute__', '__getitem__', '__getslice__', '__gt__', '__hash__', '__iadd__', '__imul__', '__init__', '__iter__', '__le__', '__len__', '__lt__', '__mul__', '__ne__', '__new__', '__reduce__', '__reduce_ex__', '__repr__', '__reversed__', '__rmul__', '__setattr__', '__setitem__', '__setslice__', '__sizeof__', '__str__', '__subclasshook__', 'append', 'count', 'extend', 'index', 'insert', 'pop', 'remove', 'reverse', 'sort']\n"
     ]
    }
   ],
   "source": [
    "print dir(list)"
   ]
  },
  {
   "cell_type": "code",
   "execution_count": 2,
   "metadata": {},
   "outputs": [
    {
     "name": "stdout",
     "output_type": "stream",
     "text": [
      "[1, 2, 3, 4, 5, 6]\n",
      "[1, 2, 3, 4, 5, 6]\n"
     ]
    }
   ],
   "source": [
    "# special methods are executed with out any calling\n",
    "a = [1,2,3]\n",
    "b = [4,5,6]\n",
    "print a + b # a.__add__(b)\n",
    "print a.__add__(b)"
   ]
  },
  {
   "cell_type": "code",
   "execution_count": 3,
   "metadata": {},
   "outputs": [
    {
     "name": "stdout",
     "output_type": "stream",
     "text": [
      "[1, 2, 3, 1, 2, 3, 1, 2, 3]\n",
      "[1, 2, 3, 1, 2, 3, 1, 2, 3]\n"
     ]
    }
   ],
   "source": [
    "a = [1,2,3]\n",
    "print a * 3\n",
    "print a.__mul__(3)"
   ]
  },
  {
   "cell_type": "code",
   "execution_count": 4,
   "metadata": {},
   "outputs": [
    {
     "name": "stdout",
     "output_type": "stream",
     "text": [
      "True\n",
      "True\n"
     ]
    }
   ],
   "source": [
    "a = [1,2,3,4,5,6]\n",
    "b = 4\n",
    "print b in a # True\n",
    "print a.__contains__(b)# True"
   ]
  },
  {
   "cell_type": "code",
   "execution_count": 5,
   "metadata": {},
   "outputs": [
    {
     "name": "stdout",
     "output_type": "stream",
     "text": [
      "7\n",
      "7\n"
     ]
    }
   ],
   "source": [
    "a = [5,8,3,7,2]\n",
    "print a[3] # 7\n",
    "print a.__getitem__(3)"
   ]
  },
  {
   "cell_type": "code",
   "execution_count": 6,
   "metadata": {},
   "outputs": [
    {
     "name": "stdout",
     "output_type": "stream",
     "text": [
      "[8, 3, 7]\n",
      "[8, 3, 7]\n"
     ]
    }
   ],
   "source": [
    "a = [5,8,3,7,2]\n",
    "print a[1:4] # [8,3,7]\n",
    "print a.__getslice__(1,4)"
   ]
  },
  {
   "cell_type": "code",
   "execution_count": 7,
   "metadata": {},
   "outputs": [
    {
     "name": "stdout",
     "output_type": "stream",
     "text": [
      "False\n",
      "False\n"
     ]
    }
   ],
   "source": [
    "a = [1,2,3]\n",
    "b = [4,1]\n",
    "print a > b\n",
    "print a.__gt__(b)"
   ]
  },
  {
   "cell_type": "code",
   "execution_count": 8,
   "metadata": {},
   "outputs": [
    {
     "name": "stdout",
     "output_type": "stream",
     "text": [
      "True\n",
      "True\n"
     ]
    }
   ],
   "source": [
    "a = [1,2,3]\n",
    "b = [4,1]\n",
    "print a < b\n",
    "print a.__lt__(b)"
   ]
  },
  {
   "cell_type": "code",
   "execution_count": 9,
   "metadata": {},
   "outputs": [
    {
     "name": "stdout",
     "output_type": "stream",
     "text": [
      "False\n",
      "False\n",
      "True\n",
      "True\n",
      "True\n",
      "True\n",
      "False\n",
      "False\n"
     ]
    }
   ],
   "source": [
    "a = [1,2,3]\n",
    "b = [4,1]\n",
    "print a == b\n",
    "print a.__eq__(b)\n",
    "a = [1,2,3]\n",
    "b = [4,1]\n",
    "print a != b\n",
    "print a.__ne__(b)\n",
    "a = [1,2,3]\n",
    "b = [4,1]\n",
    "print a <= b\n",
    "print a.__le__(b)\n",
    "a = [1,2,3]\n",
    "b = [4,1]\n",
    "print a >= b\n",
    "print a.__ge__(b)"
   ]
  },
  {
   "cell_type": "code",
   "execution_count": 10,
   "metadata": {},
   "outputs": [
    {
     "name": "stdout",
     "output_type": "stream",
     "text": [
      "[1, 5, 3]\n",
      "[1, 5, 3, 4]\n",
      "[1, 5, 3, 4, [4, 5]]\n"
     ]
    }
   ],
   "source": [
    "#append', 'count', 'extend', 'index', 'insert', 'pop', 'remove', 'reverse', 'sort'\n",
    "a = [1,5,3]\n",
    "print a\n",
    "a.append(4)\n",
    "print a\n",
    "a.append([4,5])\n",
    "print a"
   ]
  },
  {
   "cell_type": "code",
   "execution_count": 11,
   "metadata": {},
   "outputs": [
    {
     "name": "stdout",
     "output_type": "stream",
     "text": [
      "[1, 5, 3]\n",
      "1\n",
      "[6, 4, 6, 4, 7, 6, 4, 8, 6]\n",
      "4\n"
     ]
    }
   ],
   "source": [
    "a = [1,5,3]\n",
    "print a\n",
    "print a.count(5)\n",
    "a = [6,4,6,4,7,6,4,8,6]\n",
    "print a\n",
    "print a.count(6)"
   ]
  },
  {
   "cell_type": "code",
   "execution_count": 12,
   "metadata": {},
   "outputs": [
    {
     "name": "stdout",
     "output_type": "stream",
     "text": [
      "[6, 7, 8]\n",
      "[1, 2, 3]\n",
      "[6, 7, 8, 1, 2, 3]\n",
      "[1, 2, 3]\n"
     ]
    }
   ],
   "source": [
    "a = [6,7,8]\n",
    "b = [1,2,3]\n",
    "print a\n",
    "print b\n",
    "a.extend(b)  # a =  a+b\n",
    "print a\n",
    "print b"
   ]
  },
  {
   "cell_type": "code",
   "execution_count": 13,
   "metadata": {},
   "outputs": [
    {
     "name": "stdout",
     "output_type": "stream",
     "text": [
      "True\n"
     ]
    }
   ],
   "source": [
    "a = [1,2,3,9]\n",
    "b = [1,2,5]\n",
    "print a < b"
   ]
  },
  {
   "cell_type": "code",
   "execution_count": 14,
   "metadata": {},
   "outputs": [
    {
     "name": "stdout",
     "output_type": "stream",
     "text": [
      "Help on method_descriptor:\n",
      "\n",
      "index(...)\n",
      "    L.index(value, [start, [stop]]) -> integer -- return first index of value.\n",
      "    Raises ValueError if the value is not present.\n",
      "\n"
     ]
    }
   ],
   "source": [
    "help(list.index)"
   ]
  },
  {
   "cell_type": "code",
   "execution_count": 17,
   "metadata": {},
   "outputs": [
    {
     "name": "stdout",
     "output_type": "stream",
     "text": [
      "10\n",
      "3\n"
     ]
    }
   ],
   "source": [
    "a = [9,3,7,10,4,45]\n",
    "print a[3]\n",
    "print a.index(10)\n"
   ]
  },
  {
   "cell_type": "code",
   "execution_count": 18,
   "metadata": {},
   "outputs": [
    {
     "name": "stdout",
     "output_type": "stream",
     "text": [
      "Help on method_descriptor:\n",
      "\n",
      "insert(...)\n",
      "    L.insert(index, object) -- insert object before index\n",
      "\n"
     ]
    }
   ],
   "source": [
    "help(list.insert)"
   ]
  },
  {
   "cell_type": "code",
   "execution_count": 19,
   "metadata": {},
   "outputs": [
    {
     "name": "stdout",
     "output_type": "stream",
     "text": [
      "[6, 8, 23, 90, 34]\n",
      "[6, 8, 100, 23, 90, 34]\n"
     ]
    }
   ],
   "source": [
    "Var = [6,8,23,90,34]\n",
    "print Var\n",
    "Var.insert(2,100)\n",
    "print Var"
   ]
  },
  {
   "cell_type": "code",
   "execution_count": 20,
   "metadata": {},
   "outputs": [
    {
     "name": "stdout",
     "output_type": "stream",
     "text": [
      "[6, 8, 23, 90, 34]\n",
      "34\n",
      "[6, 8, 23, 90]\n",
      "23\n",
      "[6, 8, 90]\n"
     ]
    }
   ],
   "source": [
    "Var = [6,8,23,90,34]\n",
    "print Var\n",
    "print Var.pop()\n",
    "print Var\n",
    "print Var.pop(2)\n",
    "print Var"
   ]
  },
  {
   "cell_type": "code",
   "execution_count": 21,
   "metadata": {},
   "outputs": [
    {
     "name": "stdout",
     "output_type": "stream",
     "text": [
      "[67, 45, 90, 34, 23]\n",
      "[67, 45, 34, 23]\n"
     ]
    }
   ],
   "source": [
    "var = [67,45,90,34,23]\n",
    "print var\n",
    "var.remove(90)\n",
    "print var"
   ]
  },
  {
   "cell_type": "code",
   "execution_count": 22,
   "metadata": {},
   "outputs": [
    {
     "name": "stdout",
     "output_type": "stream",
     "text": [
      "[67, 45, 90, 34, 23]\n",
      "[23, 34, 90, 45, 67]\n"
     ]
    }
   ],
   "source": [
    "var = [67,45,90,34,23]\n",
    "print var\n",
    "var.reverse()\n",
    "print var"
   ]
  },
  {
   "cell_type": "code",
   "execution_count": 23,
   "metadata": {},
   "outputs": [
    {
     "name": "stdout",
     "output_type": "stream",
     "text": [
      "[67, 45, 90, 34, 23]\n",
      "[23, 34, 45, 67, 90]\n"
     ]
    }
   ],
   "source": [
    "var = [67,45,90,34,23]\n",
    "print var\n",
    "var.sort()\n",
    "print var"
   ]
  },
  {
   "cell_type": "code",
   "execution_count": null,
   "metadata": {},
   "outputs": [],
   "source": []
  }
 ],
 "metadata": {
  "kernelspec": {
   "display_name": "Python 2",
   "language": "python",
   "name": "python2"
  },
  "language_info": {
   "codemirror_mode": {
    "name": "ipython",
    "version": 2
   },
   "file_extension": ".py",
   "mimetype": "text/x-python",
   "name": "python",
   "nbconvert_exporter": "python",
   "pygments_lexer": "ipython2",
   "version": "2.7.16"
  }
 },
 "nbformat": 4,
 "nbformat_minor": 2
}
